{
 "cells": [
  {
   "cell_type": "code",
   "execution_count": 1,
   "metadata": {
    "collapsed": false
   },
   "outputs": [
    {
     "name": "stderr",
     "output_type": "stream",
     "text": [
      "INFO: Recompiling stale cache file /home/tim/.julia/lib/v0.4/AutoScenes.ji for module AutoScenes.\n"
     ]
    }
   ],
   "source": [
    "using AutomotiveDrivingModels\n",
    "using AutoScenes\n",
    "using AutoViz\n",
    "using NGSIM"
   ]
  },
  {
   "cell_type": "code",
   "execution_count": 2,
   "metadata": {
    "collapsed": false
   },
   "outputs": [],
   "source": [
    "trajdata = load_trajdata(1);"
   ]
  },
  {
   "cell_type": "code",
   "execution_count": 3,
   "metadata": {
    "collapsed": false
   },
   "outputs": [],
   "source": [
    "# scene = Scene()\n",
    "# for frame in 1 : nframes(trajdata)\n",
    "#     get!(scene, trajdata, frame)\n",
    "#     for (i, veh) in enumerate(scene)\n",
    "#         @assert AutoScenes.posF_matches_posG(veh.state, trajdata.roadway)\n",
    "#     end\n",
    "# end"
   ]
  },
  {
   "cell_type": "code",
   "execution_count": 4,
   "metadata": {
    "collapsed": false
   },
   "outputs": [],
   "source": [
    "# scene = get!(Scene(), trajdata, 4000)\n",
    "# render(scene, trajdata.roadway)"
   ]
  },
  {
   "cell_type": "code",
   "execution_count": 5,
   "metadata": {
    "collapsed": false
   },
   "outputs": [],
   "source": [
    "# structure = gen_scene_structure(scene, trajdata.roadway, create_shared_factors())\n",
    "# overlays = SceneOverlay[Overwash(RGBA(1.0,1.0,1.0,0.7)), SceneStructureOverlay(structure)]\n",
    "# render(scene, trajdata.roadway, overlays, cam=SceneFollowCamera(4.0))"
   ]
  },
  {
   "cell_type": "code",
   "execution_count": 6,
   "metadata": {
    "collapsed": false
   },
   "outputs": [],
   "source": [
    "# # for NGSIM\n",
    "# const REGIONS = Dict{ASCIIString, SubSceneExtractParams}(\n",
    "#   \"101A\" => SubSceneExtractParams(VecSE2(1966406.608, 570903.793, 2.382), 100.0, 27.0),  \n",
    "#   \"101B\" => SubSceneExtractParams(VecSE2(1966501.608, 570804.793, 2.425), 100.0, 25.0),\n",
    "#   \"101C\" => SubSceneExtractParams(VecSE2(1966406.608, 570903.793, 2.382), 100.0, 25.0),\n",
    "#   \"80A\"  => SubSceneExtractParams(VecSE2(6042777.824, 2133302.509, 1.684)),\n",
    "#   \"80B\"  => SubSceneExtractParams(VecSE2(6042697.824, 2134372.509, 1.745)),\n",
    "#   )"
   ]
  },
  {
   "cell_type": "code",
   "execution_count": 7,
   "metadata": {
    "collapsed": false
   },
   "outputs": [],
   "source": [
    "# overlays = SceneOverlay[SubSceneExtractParamsOverlay(REGIONS[\"101B\"])]\n",
    "# render(scene, trajdata.roadway, overlays, cam=SceneFollowCamera(2.0))"
   ]
  },
  {
   "cell_type": "code",
   "execution_count": 8,
   "metadata": {
    "collapsed": false
   },
   "outputs": [],
   "source": [
    "# using Interact\n",
    "\n",
    "# region = SubSceneExtractParams(VecSE2(1966406.608,  570903.793, 2.382))\n",
    "# @manipulate for width in linspace(25.0,1000.0,101),\n",
    "#                 deltaX in linspace(-500.0, 500.0,201),\n",
    "#                 deltaY in linspace(-500.0, 500.0,201),\n",
    "#                 deltaP in linspace(-500.0, 500.0, 201),\n",
    "#                 zoom in linspace(-3.0, 2.0, 101)\n",
    "#     region = SubSceneExtractParams(VecSE2(1966606.608+deltaX,  570703.793+deltaY, 2.382+deg2rad(deltaP)), width, width)\n",
    "#     overlays = SceneOverlay[SubSceneExtractParamsOverlay(region)]\n",
    "#     render(scene, trajdata.roadway, overlays, cam=StaticCamera(convert(VecE2, region.center), exp(zoom)))\n",
    "# end"
   ]
  },
  {
   "cell_type": "code",
   "execution_count": 9,
   "metadata": {
    "collapsed": false
   },
   "outputs": [],
   "source": [
    "# region.center"
   ]
  },
  {
   "cell_type": "code",
   "execution_count": 10,
   "metadata": {
    "collapsed": false
   },
   "outputs": [],
   "source": [
    "# vehicle_indeces = pull_subscene(scene, REGIONS[\"101B\"])\n",
    "# structure = gen_scene_structure(scene, trajdata.roadway, create_shared_factors(), vehicle_indeces)\n",
    "# overlays = SceneOverlay[Overwash(RGBA(1.0,1.0,1.0,0.7)), SceneStructureOverlay(structure)]\n",
    "# render(scene, trajdata.roadway, overlays, cam=SceneFollowCamera(3.0))"
   ]
  },
  {
   "cell_type": "code",
   "execution_count": 11,
   "metadata": {
    "collapsed": false
   },
   "outputs": [
    {
     "data": {
      "text/plain": [
       "736"
      ]
     },
     "execution_count": 11,
     "metadata": {},
     "output_type": "execute_result"
    }
   ],
   "source": [
    "dset = pull_scene_dataset(trajdata, SubSceneExtractParams(VecSE2(1966501.608, 570804.793, 2.425), 100.0, 25.0))\n",
    "length(dset)"
   ]
  },
  {
   "cell_type": "code",
   "execution_count": 12,
   "metadata": {
    "collapsed": false
   },
   "outputs": [
    {
     "data": {
      "text/plain": [
       "-186.7774637317992"
      ]
     },
     "execution_count": 12,
     "metadata": {},
     "output_type": "execute_result"
    }
   ],
   "source": [
    "calc_pseudolikelihood(dset)"
   ]
  },
  {
   "cell_type": "code",
   "execution_count": 13,
   "metadata": {
    "collapsed": false
   },
   "outputs": [],
   "source": [
    "# calc_pseudolikelihood_gradient(1, 1, dset, 10, 10, 0.001)"
   ]
  },
  {
   "cell_type": "code",
   "execution_count": 14,
   "metadata": {
    "collapsed": false
   },
   "outputs": [
    {
     "name": "stdout",
     "output_type": "stream",
     "text": [
      "1:   -0.135    -4.382    -4.936    -0.076    -0.225    -4.608     0.043    -0.011    -0.088    -0.024    -0.141    -4.527    -0.103    -0.202     0.050    -0.076    -0.211    -0.136    -0.033  \n",
      "2:    0.000    -0.029     0.001     0.000    -0.001    -0.030    -0.056    -0.056     0.107  \n",
      "3:   -0.000    -0.000    -0.000    -0.000    -0.000  \n",
      "iter: 1\n",
      "time: 464000 milliseconds\n",
      "plogl: -6504.384907980494\n",
      "learning rate: 0.01\n",
      "batch_size:    10\n",
      "n_samples:     \n",
      "weights: \n",
      "1  [-0.13469989421253603,-0.9997755994841352,-0.9992884310020759,-0.07516694123057592,-0.22483661379721673,-0.999353252597475,0.043455923125172116,-0.011037583493571082,-0.08780096565299263,-0.023123028009686394,-0.14061531985312442,-0.9995129779105196,-0.10250241749166161,-0.20068717675273737,0.05063249690766431,-0.07505879112884423,-0.21035860652841476,-0.13620660622769298,-0.03227558538738199]\n",
      "2  [0.0012917499828729163,-0.028586526013657486,0.0006155412210941244,0.0006287137211319564,-0.0010584494753656734,-0.029608294929290346,-0.05540781407812822,-0.05591144399102531,0.10773811098910699]\n",
      "3  [0.0009878468372580447,0.00029407227312212234,0.0002686457272846983,0.00082092642051866,0.000649199306095265]\n",
      "\n",
      "1:    1.313   -14.257    82.771     0.068     1.479   -14.267    -0.365     1.206     0.873     0.049     1.415   -13.837     0.119     1.575    -0.296    -0.079     1.313    -0.003     0.003  \n",
      "2:    0.000    -0.036    -0.000    -0.001    -0.000    -0.034    -0.069    -0.065     0.097  \n",
      "3:   -0.000    -0.000    -0.000    -0.000    -0.000  \n",
      "iter: 2\n",
      "time: 1113000 milliseconds\n",
      "plogl: -156.29751461788047\n",
      "learning rate: 0.009000000000000001\n",
      "batch_size:    11\n",
      "n_samples:     \n",
      "weights: \n",
      "1  [0.865300105787464,-1.9997755994841353,0.000711568997924128,-0.007493489981616516,0.7751633862027832,-1.999353252597475,-0.3212243439028145,0.9889624165064289,0.784838468031951,0.026047896032255498,0.8593846801468756,-1.9995129779105196,0.016376732097444877,0.7993128232472626,-0.24573252534294326,-0.15418253809385635,0.7896413934715852,-0.13907949996888577,-0.029325811755949102]\n",
      "2  [0.0017542932902254455,-0.06456612812593854,0.0005867897896121307,-0.00012017198270591293,-0.0011638743692466739,-0.06374306673463023,-0.12466247884488196,-0.12116942824384724,0.20453875880443892]\n",
      "3  [0.000987819177349028,0.0002940640390396593,0.0002686382051506041,0.0008209034344146969,0.0006491811283848519]\n",
      "\n",
      "1:    0.585    -7.172    41.352    -0.088     0.549    -7.280     0.066     0.806     0.071     0.033     0.648    -6.948    -0.029     0.588     0.045    -0.100     0.526    -0.197    -0.012  \n",
      "2:    0.000    -0.043     0.000     0.000     0.004    -0.045    -0.074    -0.073     0.085  \n",
      "3:   -0.000    -0.000    -0.000    -0.000    -0.000  \n",
      "iter: 3\n",
      "time: 1858000 milliseconds\n",
      "plogl: -143.6247418461491\n",
      "learning rate: 0.008100000000000001\n",
      "batch_size:    12\n",
      "n_samples:     \n",
      "weights: \n",
      "1  [1.0,-2.9997755994841353,1.0,-0.09541707293678185,1.0,-2.999353252597475,-0.25483846203970206,1.0,0.8561380311987773,0.05890021895036594,1.0,-2.99951297791052,-0.012742911135641959,1.0,-0.20090060888140204,-0.2542080389932986,1.0,-0.33632839853711116,-0.04171036103562007]\n",
      "2  [0.0019245690063719985,-0.10803687196253625,0.000942674115719366,2.7331517042161865e-5,0.0031430557228580205,-0.10836491888438231,-0.19855029125382442,-0.19392372560800508,0.2899719695013243]\n",
      "3  [0.0009877893447238467,0.0002940551581609953,0.00026863009214463357,0.0008208786427270779,0.0006491615227953655]\n",
      "\n"
     ]
    },
    {
     "ename": "LoadError",
     "evalue": "LoadError: InterruptException:\nwhile loading In[14], in expression starting on line 12",
     "output_type": "error",
     "traceback": [
      "LoadError: InterruptException:\nwhile loading In[14], in expression starting on line 12",
      "",
      " in get_time_and_dist_of_closest_approach at /home/tim/.julia/v0.4/AutomotiveDrivingModels/src/utils/minkowski.jl:366",
      " in get_time_and_dist_of_closest_approach at /home/tim/.julia/v0.4/AutomotiveDrivingModels/src/utils/minkowski.jl:458",
      " in extract! at /home/tim/.julia/v0.4/AutoScenes/src/features/core.jl:44",
      " in evaluate_dot! at /home/tim/.julia/v0.4/AutoScenes/src/scene_structures.jl:91",
      " in calc_pseudolikelihood_gradient_component_v at /home/tim/.julia/v0.4/AutoScenes/src/learning.jl:521",
      " in calc_pseudolikelihood_gradient at /home/tim/.julia/v0.4/AutoScenes/src/learning.jl:671",
      " in step! at /home/tim/.julia/v0.4/AutoScenes/src/stochastic_gradient_ascent_params.jl:171",
      " [inlined code] from In[14]:17",
      " in anonymous at no file:0"
     ]
    }
   ],
   "source": [
    "params = GradientStepParams(BatchSampler(dset))\n",
    "params.grad_params.n_samples_monte_carlo_integration = 100\n",
    "params.grad_params.n_samples_monte_carlo_pseudolikelihood = 100\n",
    "\n",
    "dat = PseudolikelihoodPrealloc(100)\n",
    "\n",
    "learning_rate = 0.01\n",
    "batch_size = 10\n",
    "t_start = now()\n",
    "\n",
    "iter = 0\n",
    "while iter < typemax(Int)\n",
    "    iter += 1\n",
    "    \n",
    "    params.learning_rate = learning_rate\n",
    "    params.batch_size = batch_size\n",
    "    step!(params)\n",
    "    \n",
    "    println(\"iter: \", iter)\n",
    "    println(\"time: \", now() - t_start)\n",
    "    println(\"plogl: \", calc_pseudolikelihood(dset, dat=dat, scene=params.grad_params.scene, rec=params.grad_params.rec))\n",
    "    println(\"learning rate: \", learning_rate)\n",
    "    println(\"batch_size:    \", batch_size)\n",
    "    println(\"n_samples:     \", )\n",
    "    println(\"weights: \")\n",
    "    for ϕ in dset.factors\n",
    "        println(ϕ.template.form, \"  \", ϕ.weights)\n",
    "    end\n",
    "    println(\"\")\n",
    "    \n",
    "    learning_rate *= 0.9\n",
    "    batch_size += 1\n",
    "end"
   ]
  },
  {
   "cell_type": "markdown",
   "metadata": {},
   "source": [
    "# Learned Marginal Distribution"
   ]
  },
  {
   "cell_type": "code",
   "execution_count": 15,
   "metadata": {
    "collapsed": false
   },
   "outputs": [
    {
     "name": "stdout",
     "output_type": "stream",
     "text": [
      "! LaTeX Error: File `luatex85.sty' not found.\n",
      "\n",
      "Type X to quit or <RETURN> to proceed,\n",
      "or enter new name. (Default extension: sty)\n",
      "\n",
      "Enter file name: \n",
      "! Emergency stop.\n",
      "<read *> \n",
      "   \n",
      "l.2 \\documentclass\n",
      "                [tikz]{standalone}\r\n",
      "End of file on the terminal!\n",
      "\n",
      "\n",
      "\n",
      "Here is how much of LuaTeX's memory you used:\n",
      " 11 strings out of 494693\n",
      " 100000,89155 words of node,token memory allocated 188 words of node memory still in use:\n",
      "   31 glue_spec, 1 dir nodes\n",
      "   avail lists: 2:12,3:1\n",
      " 3851 multiletter control sequences out of 65536+600000\n",
      " 14 fonts using 562767 bytes\n",
      " 10i,0n,7p,45b,8s stack positions out of 5000i,500n,10000p,200000b,100000s\n",
      "!  ==> Fatal error occurred, no output PDF file produced!\n",
      "\n",
      "Error saving as SVG\n"
     ]
    },
    {
     "ename": "ErrorException",
     "evalue": "LaTeX error",
     "output_type": "error",
     "traceback": [
      "LaTeX error",
      ""
     ]
    }
   ],
   "source": [
    "using PGFPlots\n",
    "\n",
    "g = GroupPlot(1, 3, groupStyle = \"vertical sep = 1cm\")\n",
    "push!(g, Plots.Linear(collect(1:10), randn(10)))\n",
    "push!(g, Plots.Linear(collect(1:10), randn(10)))\n",
    "push!(g, Plots.Linear(collect(1:10), randn(10)))\n",
    "g"
   ]
  },
  {
   "cell_type": "code",
   "execution_count": 16,
   "metadata": {
    "collapsed": false
   },
   "outputs": [
    {
     "name": "stdout",
     "output_type": "stream",
     "text": [
      "[0.009587413726315342,0.009583849385465516,0.009580583101230939,0.00957761487361168,0.00957494470260762,0.00957257258821884,0.009570498530445237,0.009568722529287057,0.009567244584744047,0.009566064696816218,0.009565182865503886,0.00956459909080668,0.009564313372724719,0.009564325711258008,0.009564636106406564,0.009565244558170463,0.009566151066549637,0.009567355631543973,0.009568858253153635,0.009570658931378593,0.009572757666218722,0.009575154457674128,0.009577849305744927,0.0095808422104309,0.009584133171732174,0.00958772218964863,0.009591609264180387,0.009595794395327446,0.009600277583089744,0.009605058827467278,0.009610138128460125,0.009615515486068248,0.00962119090029157,0.009627164371130285,0.009633435898584067,0.009640005482653325,0.009646873123337672,0.009654038820637399,0.009661502574552326,0.009669264385082544,0.009677324252228064,0.009685682175988789,0.0096943381563648,0.009703292193355962,0.009712544286962561,0.009722094437184307,0.009731942644021494,0.009742088907473762,0.009752533227541355,0.00976327560422427,0.00977431603752228,0.009785654527435687,0.009797291073964383,0.009809225677108319,0.009821458336867537,0.009833989053241978,0.009846817826231603,0.009859944655836679,0.00987336954205693,0.009887092484892392,0.009901113484343166,0.009915432540409245,0.009930049653090493,0.00994496482238716,0.009960178048298891,0.009975689330826078,0.009991498669968391,0.010007606065726054,0.010024011518098943,0.010040715027087074,0.01005771659269053,0.010075016214909216,0.010092613893743172,0.01011050962919232,0.010128703421256796,0.010147195269936498,0.010165985175231628,0.010185073137141811,0.010204459155667396,0.010224143230808225,0.010244125362564247,0.010264405550935595,0.010284983795922248,0.010305860097524046,0.010327034455741216,0.010348506870573624,0.010370277342021271,0.0103923458700841,0.010414712454762302,0.010437377096055862,0.010460339793964482,0.010483600548488499,0.010507159359627765,0.010531016227382289,0.010555171151752038,0.01057962413273713,0.010604375170337344,0.010629424264552979,0.010654771415383853,0.010680416622829892,0.010706359886891283,0.0,0.0,0.009587413726315342]\n",
      "! LaTeX Error: File `luatex85.sty' not found.\n",
      "\n",
      "Type X to quit or <RETURN> to proceed,\n",
      "or enter new name. (Default extension: sty)\n",
      "\n",
      "Enter file name: \n",
      "! Emergency stop.\n",
      "<read *> \n",
      "   \n",
      "l.2 \\documentclass\n",
      "                [tikz]{standalone}\n",
      "End of file on the terminal!\n",
      "\n",
      "\n",
      "\n",
      "Here is how much of LuaTeX's memory you used:\n",
      " 11 strings out of 494693\n",
      " 100000,89155 words of node,token memory allocated 188 words of node memory still in use:\n",
      "   31 glue_spec, 1 dir nodes\n",
      "   avail lists: 2:12,3:1\n",
      " 3851 multiletter control sequences out of 65536+600000\n",
      " 14 fonts using 562767 bytes\n",
      " 10i,0n,7p,45b,8s stack positions out of 5000i,500n,10000p,200000b,100000s\n",
      "!  ==> Fatal error occurred, no output PDF file produced!\n",
      "\n",
      "Error saving as SVG\n"
     ]
    },
    {
     "ename": "ErrorException",
     "evalue": "LaTeX error",
     "output_type": "error",
     "traceback": [
      "LaTeX error",
      ""
     ]
    }
   ],
   "source": [
    "using PGFPlots\n",
    "\n",
    "function _cycle_linear_plot!(xarr::Vector{Float64}, yarr::Vector{Float64})\n",
    "    append!(yarr, [0.0, 0.0, yarr[1]])\n",
    "    append!(xarr, [xarr[end], xarr[1], xarr[1]])\n",
    "    nothing\n",
    "end\n",
    "function plot_marginal_roadfactor(ϕ_road::SharedFactor;\n",
    "    nbins_v::Int = 101,\n",
    "    nbins_t::Int = 101,\n",
    "    nbins_ϕ::Int = 101,\n",
    "    )\n",
    "\n",
    "    pts_v = collect(linspace(AutoScenes.BOUNDS_V[1], AutoScenes.BOUNDS_V[2], nbins_v))\n",
    "    pts_t = collect(linspace(-3.0, 3.0, nbins_t))\n",
    "    pts_ϕ = collect(linspace(AutoScenes.BOUNDS_ϕ[1], AutoScenes.BOUNDS_ϕ[2], nbins_ϕ))\n",
    "    v_values = zeros(Float64, nbins_v)\n",
    "    t_values = zeros(Float64, nbins_t)\n",
    "    ϕ_values = zeros(Float64, nbins_ϕ)\n",
    "    tot = 0.0\n",
    "\n",
    "    for (j,t) in enumerate(pts_t)\n",
    "        AutoScenes._set_and_standardize!(ϕ_road.template, t, 1)\n",
    "        for (i,v) in enumerate(pts_v)\n",
    "            AutoScenes._set_and_standardize!(ϕ_road.template, v, 2)\n",
    "            for (k,ϕ) in enumerate(pts_ϕ)\n",
    "                AutoScenes._set_and_standardize!(ϕ_road.template, ϕ, 3)\n",
    "                \n",
    "                e = evaluate_dot(ϕ_road)\n",
    "                v_values[i] += e\n",
    "                t_values[j] += e\n",
    "                ϕ_values[k] += e\n",
    "                tot += e\n",
    "            end\n",
    "        end\n",
    "    end\n",
    "\n",
    "    # produce a probability density\n",
    "    v_values ./= tot\n",
    "    t_values ./= tot\n",
    "    ϕ_values ./= tot\n",
    "\n",
    "    plot_width = \"20cm\"\n",
    "    plot_height = \"4cm\"\n",
    "    style = \"solid, thick, mark=none, black\"\n",
    "\n",
    "    _cycle_linear_plot!(pts_v, v_values)\n",
    "    _cycle_linear_plot!(pts_t, t_values)\n",
    "    _cycle_linear_plot!(pts_ϕ, ϕ_values)\n",
    "\n",
    "    g = GroupPlot(1, 3, groupStyle = \"vertical sep = 1cm\")\n",
    "    push!(g, Axis(PGFPlots.Plots.Linear(pts_v, v_values, style=style*\", fill=monokai3\"), xlabel=\"speed [ft/s]\", ylabel=\"pdf\", width=plot_width, height=plot_height, enlargelimits=\"false\"))\n",
    "    push!(g, Axis(PGFPlots.Plots.Linear(pts_t, t_values, style=style*\", fill=monokai4\"), xlabel=\"lane centerline offset [ft]\", ylabel=\"pdf\", width=plot_width, height=plot_height, enlargelimits=\"false\"))\n",
    "    push!(g, Axis(PGFPlots.Plots.Linear(rad2deg(pts_ϕ), ϕ_values, style=style*\", fill=monokai5\"), xlabel=\"lane-relative heading [deg]\", ylabel=\"pdf\", width=plot_width, height=plot_height, enlargelimits=\"false\"))\n",
    "    g\n",
    "end\n",
    "\n",
    "plot_marginal_roadfactor(dset.factors[1])"
   ]
  },
  {
   "cell_type": "code",
   "execution_count": null,
   "metadata": {
    "collapsed": true
   },
   "outputs": [],
   "source": []
  }
 ],
 "metadata": {
  "anaconda-cloud": {},
  "kernelspec": {
   "display_name": "Julia 0.4.6",
   "language": "julia",
   "name": "julia-0.4"
  },
  "language_info": {
   "file_extension": ".jl",
   "mimetype": "application/julia",
   "name": "julia",
   "version": "0.4.6"
  }
 },
 "nbformat": 4,
 "nbformat_minor": 0
}

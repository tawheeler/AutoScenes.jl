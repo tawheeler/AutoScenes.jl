{
 "cells": [
  {
   "cell_type": "code",
   "execution_count": 1,
   "metadata": {
    "collapsed": false
   },
   "outputs": [
    {
     "name": "stderr",
     "output_type": "stream",
     "text": [
      "INFO: Recompiling stale cache file /home/tim/.julia/lib/v0.5/AutoScenes.ji for module AutoScenes.\n"
     ]
    }
   ],
   "source": [
    "using AutomotiveDrivingModels\n",
    "using AutoScenes\n",
    "using AutoViz\n",
    "using NGSIM"
   ]
  },
  {
   "cell_type": "code",
   "execution_count": 2,
   "metadata": {
    "collapsed": false
   },
   "outputs": [],
   "source": [
    "trajdata = load_trajdata(4)\n",
    "scene = get!(Scene(), trajdata, 4000);"
   ]
  },
  {
   "cell_type": "code",
   "execution_count": 3,
   "metadata": {
    "collapsed": false
   },
   "outputs": [],
   "source": [
    "# structure = gen_scene_structure(scene, trajdata.roadway, create_shared_factors())\n",
    "# overlays = SceneOverlay[Overwash(RGBA(1.0,1.0,1.0,0.7)), SceneStructureOverlay(structure)]\n",
    "# render(scene, trajdata.roadway, overlays, cam=SceneFollowCamera(4.0))"
   ]
  },
  {
   "cell_type": "code",
   "execution_count": 4,
   "metadata": {
    "collapsed": false
   },
   "outputs": [
    {
     "name": "stderr",
     "output_type": "stream",
     "text": [
      "WARNING: Base.ASCIIString is deprecated, use String instead.\n",
      "  likely near In[4]:2\n"
     ]
    },
    {
     "data": {
      "text/plain": [
       "Dict{String,AutoScenes.SubSceneExtractParams} with 4 entries:\n",
       "  \"80A\"  => AutoScenes.SubSceneExtractParams(VecSE2({1841794.208, 650650.640}, …\n",
       "  \"101B\" => AutoScenes.SubSceneExtractParams(VecSE2({1966501.608, 570804.793}, …\n",
       "  \"101A\" => AutoScenes.SubSceneExtractParams(VecSE2({1966395.000, 570900.000}, …\n",
       "  \"80B\"  => AutoScenes.SubSceneExtractParams(VecSE2({1841849.208, 650320.640}, …"
      ]
     },
     "execution_count": 4,
     "metadata": {},
     "output_type": "execute_result"
    }
   ],
   "source": [
    "# for NGSIM\n",
    "const REGIONS = Dict{ASCIIString, SubSceneExtractParams}(\n",
    "  \"101A\" => SubSceneExtractParams(VecSE2(1966395.000, 570900.000, deg2rad(138)), 100.0, 41.0),  \n",
    "  \"101B\" => SubSceneExtractParams(VecSE2(1966501.608, 570804.793, 2.425), 100.0, 25.0),\n",
    "  \"80A\"  => SubSceneExtractParams(VecSE2(1841794.208, 650650.640, deg2rad(-81)), 100.0, 32.0),\n",
    "  \"80B\"  => SubSceneExtractParams(VecSE2(1841849.208, 650320.640, deg2rad(-81)), 100.0, 38.0),\n",
    "  )"
   ]
  },
  {
   "cell_type": "code",
   "execution_count": 5,
   "metadata": {
    "collapsed": false
   },
   "outputs": [],
   "source": [
    "# overlays = SceneOverlay[SubSceneExtractParamsOverlay(REGIONS[\"80A\"])]\n",
    "# render(scene, trajdata.roadway, overlays, cam=SceneFollowCamera(1.0))"
   ]
  },
  {
   "cell_type": "code",
   "execution_count": 6,
   "metadata": {
    "collapsed": false
   },
   "outputs": [],
   "source": [
    "# using Interact\n",
    "\n",
    "# # x0 = 1966600.0 # 101\n",
    "# # y0 = 570700.0\n",
    "\n",
    "# x0 = 1841794.208 # 80\n",
    "# y0 = 650650.640\n",
    "# @manipulate for width in linspace(25.0,125.0,101),\n",
    "#                 x in linspace(x0-500.0, x0+500.0, 201),\n",
    "#                 y in linspace(y0-500.0, y0+500.0, 201),\n",
    "#                 angle in linspace(-360.0, 360.0, 360*2+1),\n",
    "#                 zoom in linspace(-3.0, 2.0, 101)\n",
    "#     region = SubSceneExtractParams(VecSE2(x,  y, deg2rad(angle)), 100.0, width)\n",
    "#     overlays = SceneOverlay[SubSceneExtractParamsOverlay(region)]\n",
    "#     render(scene, trajdata.roadway, overlays, cam=StaticCamera(convert(VecE2, region.center), exp(zoom)))\n",
    "# end"
   ]
  },
  {
   "cell_type": "code",
   "execution_count": 7,
   "metadata": {
    "collapsed": false
   },
   "outputs": [],
   "source": [
    "# region.center"
   ]
  },
  {
   "cell_type": "code",
   "execution_count": 8,
   "metadata": {
    "collapsed": false
   },
   "outputs": [
    {
     "data": {
      "text/plain": [
       "1371"
      ]
     },
     "execution_count": 8,
     "metadata": {},
     "output_type": "execute_result"
    }
   ],
   "source": [
    "factors = create_shared_factors()\n",
    "dset = SceneStructureDataset(factors)\n",
    "\n",
    "for trajdata_index in 1 : 6\n",
    "    trajdata = load_trajdata(trajdata_index)\n",
    "    frames = 1:40:nframes(trajdata)\n",
    "    if startswith(splitdir(NGSIM.TRAJDATA_PATHS[trajdata_index])[2], \"trajdata_i101\")\n",
    "        append!(dset, pull_scene_dataset(trajdata, REGIONS[\"101A\"], frames=frames))\n",
    "        append!(dset, pull_scene_dataset(trajdata, REGIONS[\"101B\"], frames=frames))\n",
    "    else\n",
    "        append!(dset, pull_scene_dataset(trajdata, REGIONS[\"80A\"], frames=frames))\n",
    "        append!(dset, pull_scene_dataset(trajdata, REGIONS[\"80B\"], frames=frames))\n",
    "    end\n",
    "end\n",
    "\n",
    "length(dset)"
   ]
  },
  {
   "cell_type": "code",
   "execution_count": 9,
   "metadata": {
    "collapsed": false
   },
   "outputs": [],
   "source": [
    "dat = PseudolikelihoodPrealloc(50);"
   ]
  },
  {
   "cell_type": "code",
   "execution_count": 10,
   "metadata": {
    "collapsed": false
   },
   "outputs": [],
   "source": [
    "# tic()\n",
    "# calc_pseudolikelihood(dset, dat=dat)\n",
    "# toc()"
   ]
  },
  {
   "cell_type": "code",
   "execution_count": 11,
   "metadata": {
    "collapsed": false
   },
   "outputs": [
    {
     "name": "stdout",
     "output_type": "stream",
     "text": [
      "iter: 1\n",
      "time: 15103 milliseconds\n",
      "plogl: 0.0\n",
      "learning rate: 0.01\n",
      "batch_size:    2\n",
      "n_samples:     \n",
      "weights: \n",
      "1  [-4.43216,-8.0,-8.0,-7.23949,-0.814754,1.0,-2.9099,0.811337,-0.204178,-3.30324,-7.76048,1.0,0.151251,0.313214,0.54468,-8.0,0.952374,1.0,1.0]\n",
      "2  [-0.102183,-8.0,-5.22692,-0.077776,0.015017,1.0,-3.76083,0.441685,0.196299]\n",
      "3  [-0.1333,0.436469,0.780003,0.363001,1.0]\n",
      "\n",
      "iter: 2\n",
      "time: 314987 milliseconds\n",
      "learning rate: 0.0095\n",
      "batch_size:    3\n",
      "n_samples:     \n",
      "weights: \n",
      "1  [-4.60133,-8.0,-8.0,-7.23467,-1.80863,1.0,-2.93478,1.0,-0.196604,-0.644106,-7.31528,1.0,0.108529,0.111201,0.577662,-8.0,0.721938,1.0,1.0]\n",
      "2  [0.120515,-8.0,-5.19422,-0.10438,-0.0404975,1.0,-3.75742,0.492269,-0.38341]\n",
      "3  [0.0414125,0.585011,0.770543,0.209614,1.0]\n",
      "\n"
     ]
    },
    {
     "ename": "LoadError",
     "evalue": "LoadError: InterruptException:\n in evaluate(::AutoScenes.GraphFeatureTemplate, ::AutoScenes.GraphFeatureInstance) at /home/tim/.julia/v0.5/AutoScenes/src/features/core.jl:72\n in evaluate_dot(::AutoScenes.SharedFactor) at /home/tim/.julia/v0.5/AutoScenes/src/factors.jl:29\n in evaluate_dot!(::AutoScenes.SceneStructure, ::Array{AutoScenes.SharedFactor,1}, ::AutomotiveDrivingModels.AutoCore.Scene, ::AutomotiveDrivingModels.AutoCore.Roadway, ::AutomotiveDrivingModels.AutoCore.SceneRecord) at /home/tim/.julia/v0.5/AutoScenes/src/scene_structures.jl:92\n in calc_pseudolikelihood_gradient_component_ϕ(::AutoScenes.SharedFactor, ::Array{AutoScenes.SharedFactor,1}, ::AutomotiveDrivingModels.AutoCore.Scene, ::AutoScenes.SceneStructure, ::AutomotiveDrivingModels.AutoCore.Roadway, ::Int64, ::Array{Int64,1}, ::AutoScenes.GraphFeatureInstance, ::Int64, ::MersenneTwister, ::AutomotiveDrivingModels.AutoCore.SceneRecord) at /home/tim/.julia/v0.5/AutoScenes/src/learning.jl:572\n in calc_pseudolikelihood_gradient(::Int64, ::Int64, ::Array{AutoScenes.SharedFactor,1}, ::Array{AutoScenes.SceneStructureRoadway,1}, ::Int64, ::Float64, ::MersenneTwister, ::AutomotiveDrivingModels.AutoCore.Scene, ::AutomotiveDrivingModels.AutoCore.SceneRecord) at /home/tim/.julia/v0.5/AutoScenes/src/learning.jl:752\n in calc_pseudolikelihood_gradient(::Int64, ::Int64, ::Array{AutoScenes.SharedFactor,1}, ::Array{AutoScenes.SceneStructureRoadway,1}, ::Int64, ::Float64) at /home/tim/.julia/v0.5/AutoScenes/src/learning.jl:715\n in (::AutoScenes.##16#17{AutoScenes.GradientStepParams,AutoScenes.SceneStructureDataset})(::Int64) at /home/tim/.julia/v0.5/AutoScenes/src/stochastic_gradient_ascent_params.jl:203\n in macro expansion at ./asyncmap.jl:63 [inlined]\n in (::Base.##755#757{Base.AsyncCollector,Base.AsyncCollectorState})() at ./task.jl:360\nwhile loading In[11], in expression starting on line 10",
     "output_type": "error",
     "traceback": [
      "LoadError: InterruptException:\n in evaluate(::AutoScenes.GraphFeatureTemplate, ::AutoScenes.GraphFeatureInstance) at /home/tim/.julia/v0.5/AutoScenes/src/features/core.jl:72\n in evaluate_dot(::AutoScenes.SharedFactor) at /home/tim/.julia/v0.5/AutoScenes/src/factors.jl:29\n in evaluate_dot!(::AutoScenes.SceneStructure, ::Array{AutoScenes.SharedFactor,1}, ::AutomotiveDrivingModels.AutoCore.Scene, ::AutomotiveDrivingModels.AutoCore.Roadway, ::AutomotiveDrivingModels.AutoCore.SceneRecord) at /home/tim/.julia/v0.5/AutoScenes/src/scene_structures.jl:92\n in calc_pseudolikelihood_gradient_component_ϕ(::AutoScenes.SharedFactor, ::Array{AutoScenes.SharedFactor,1}, ::AutomotiveDrivingModels.AutoCore.Scene, ::AutoScenes.SceneStructure, ::AutomotiveDrivingModels.AutoCore.Roadway, ::Int64, ::Array{Int64,1}, ::AutoScenes.GraphFeatureInstance, ::Int64, ::MersenneTwister, ::AutomotiveDrivingModels.AutoCore.SceneRecord) at /home/tim/.julia/v0.5/AutoScenes/src/learning.jl:572\n in calc_pseudolikelihood_gradient(::Int64, ::Int64, ::Array{AutoScenes.SharedFactor,1}, ::Array{AutoScenes.SceneStructureRoadway,1}, ::Int64, ::Float64, ::MersenneTwister, ::AutomotiveDrivingModels.AutoCore.Scene, ::AutomotiveDrivingModels.AutoCore.SceneRecord) at /home/tim/.julia/v0.5/AutoScenes/src/learning.jl:752\n in calc_pseudolikelihood_gradient(::Int64, ::Int64, ::Array{AutoScenes.SharedFactor,1}, ::Array{AutoScenes.SceneStructureRoadway,1}, ::Int64, ::Float64) at /home/tim/.julia/v0.5/AutoScenes/src/learning.jl:715\n in (::AutoScenes.##16#17{AutoScenes.GradientStepParams,AutoScenes.SceneStructureDataset})(::Int64) at /home/tim/.julia/v0.5/AutoScenes/src/stochastic_gradient_ascent_params.jl:203\n in macro expansion at ./asyncmap.jl:63 [inlined]\n in (::Base.##755#757{Base.AsyncCollector,Base.AsyncCollectorState})() at ./task.jl:360\nwhile loading In[11], in expression starting on line 10",
      "",
      " in sync_end() at ./task.jl:311",
      " in done(::Base.AsyncCollector, ::Base.AsyncCollectorState) at ./asyncmap.jl:124",
      " in pump_source(::Base.AsyncGenerator, ::Base.AsyncGeneratorState) at ./asyncmap.jl:185",
      " in next(::Base.AsyncGenerator, ::Base.AsyncGeneratorState) at ./asyncmap.jl:201",
      " in _collect(::UnitRange{Int64}, ::Base.AsyncGenerator, ::Base.HasEltype, ::Base.SizeUnknown) at ./array.jl:282",
      " in #pmap#714(::Bool, ::Int64, ::Void, ::Int64, ::Float64, ::Function, ::Void, ::Void, ::Void, ::Base.#pmap, ::WorkerPool, ::AutoScenes.##16#17{AutoScenes.GradientStepParams,AutoScenes.SceneStructureDataset}, ::UnitRange{Int64}) at ./pmap.jl:121",
      " in pmap(::WorkerPool, ::Function, ::UnitRange{Int64}) at ./pmap.jl:80",
      " in #pmap#726(::Array{Any,1}, ::Function, ::Function, ::UnitRange{Int64}) at ./pmap.jl:146",
      " in parallel_step!(::AutoScenes.GradientStepParams) at /home/tim/.julia/v0.5/AutoScenes/src/stochastic_gradient_ascent_params.jl:203",
      " in macro expansion; at ./In[11]:15 [inlined]",
      " in anonymous at ./<missing>:?"
     ]
    }
   ],
   "source": [
    "params = GradientStepParams(BatchSampler(dset))\n",
    "params.grad_params.n_samples_monte_carlo_integration = 5\n",
    "params.grad_params.n_samples_monte_carlo_pseudolikelihood = 5\n",
    "\n",
    "learning_rate = 0.01\n",
    "batch_size = 2\n",
    "t_start = now()\n",
    "\n",
    "iter = 0\n",
    "while iter < typemax(Int)\n",
    "    iter += 1\n",
    "    \n",
    "    params.learning_rate = learning_rate\n",
    "    params.batch_size = batch_size\n",
    "    parallel_step!(params)\n",
    "    \n",
    "    println(\"iter: \", iter)\n",
    "    println(\"time: \", now() - t_start)\n",
    "    if mod(iter, 5) == 1\n",
    "        println(\"plogl: \", calc_pseudolikelihood(dset, dat=dat, scene=params.grad_params.scene, rec=params.grad_params.rec))\n",
    "    end\n",
    "    println(\"learning rate: \", learning_rate)\n",
    "    println(\"batch_size:    \", batch_size)\n",
    "    println(\"n_samples:     \", )\n",
    "    println(\"weights: \")\n",
    "    for ϕ in dset.factors\n",
    "        println(ϕ.template.form, \"  \", ϕ.weights)\n",
    "    end\n",
    "    println(\"\")\n",
    "    \n",
    "    learning_rate *= 0.95\n",
    "    batch_size += 1\n",
    "end"
   ]
  },
  {
   "cell_type": "code",
   "execution_count": 41,
   "metadata": {
    "collapsed": false
   },
   "outputs": [
    {
     "name": "stdout",
     "output_type": "stream",
     "text": [
      "1:   -0.009     0.001    -0.016     0.002    -0.003     0.000     0.004     0.000     0.002    -0.000    -0.010    -0.001    -0.003    -0.000    -0.001     0.000     0.001     0.000     0.041     0.002     0.024    -0.000    -0.019     0.001    -0.004    -0.004    -0.002    -0.001     0.002     0.000    -0.013     0.000    -0.001    -0.001     0.004    -0.000     0.005    -0.000  \n",
      "2:    0.001    -0.012     0.002    -0.004    -0.000     0.003    -0.003     0.018    -0.018  \n",
      "3: \n",
      "iter: 1\n",
      "time: 290000 milliseconds\n",
      "plogl: -100.54216178207922\n",
      "learning rate: 0.01\n",
      "batch_size:    10\n",
      "n_samples:     \n",
      "weights: \n",
      "1  [0.9914529423768134,0.8250582472158212,-8.0,-7.998202756579285,-0.0034957612130915305,1.0,-6.697781883159157,0.001245710218970501,1.0,0.08219980934165173,0.9899835087253473,-1.9751055749553639,-2.180796680281114,-0.01534772506639652,0.9992159966308126,0.028897966976149044,-0.5259337933526155,-0.0003404079371402058,-4.177403652066115,0.07270230214360382,-7.976462863421564,0.43311652631113107,0.9805972945035457,1.0,0.6884621916067163,-0.01270490261994735,0.998488825924236,-0.15582898254679542,0.18871910036711376,0.0011058919020811183,-8.0,-0.009911012895189551,0.9991594713976382,0.3237903103672197,1.0,-0.02819370855637878,1.0,0.14079298700596093]\n",
      "2  [0.857057755741038,-8.0,-2.6849716231555383,-0.04042352441000849,0.1658722340681942,1.0,-2.157298232229219,-0.0229294978238136,0.18614468764362477]\n",
      "3  Float64[]\n",
      "\n"
     ]
    },
    {
     "ename": "LoadError",
     "evalue": "LoadError: InterruptException:\nwhile loading In[41], in expression starting on line 10",
     "output_type": "error",
     "traceback": [
      "LoadError: InterruptException:\nwhile loading In[41], in expression starting on line 10",
      "",
      " in ensure_pts_sorted_by_min_polar_angle! at /home/tim/.julia/v0.4/AutomotiveDrivingModels/src/utils/minkowski.jl:167",
      " in minkowksi_sum! at /home/tim/.julia/v0.4/AutomotiveDrivingModels/src/utils/minkowski.jl:254",
      " in get_time_and_dist_of_closest_approach at /home/tim/.julia/v0.4/AutomotiveDrivingModels/src/utils/minkowski.jl:453",
      " in extract! at /home/tim/.julia/v0.4/AutoScenes/src/features/core_with_aux.jl:55",
      " in evaluate_dot! at /home/tim/.julia/v0.4/AutoScenes/src/scene_structures.jl:91",
      " in calc_pseudolikelihood_gradient_component_v at /home/tim/.julia/v0.4/AutoScenes/src/learning.jl:521",
      " in calc_pseudolikelihood_gradient at /home/tim/.julia/v0.4/AutoScenes/src/learning.jl:672",
      " in calc_pseudolikelihood_gradient at /home/tim/.julia/v0.4/AutoScenes/src/learning.jl:638",
      " in step! at /home/tim/.julia/v0.4/AutoScenes/src/stochastic_gradient_ascent_params.jl:171",
      " [inlined code] from In[41]:15",
      " in anonymous at no file:0"
     ]
    }
   ],
   "source": [
    "params = GradientStepParams(BatchSampler(dset))\n",
    "params.grad_params.n_samples_monte_carlo_integration = 50\n",
    "params.grad_params.n_samples_monte_carlo_pseudolikelihood = 50\n",
    "\n",
    "learning_rate = 0.01\n",
    "batch_size = 10\n",
    "t_start = now()\n",
    "\n",
    "iter = 0\n",
    "while iter < typemax(Int)\n",
    "    iter += 1\n",
    "    \n",
    "    params.learning_rate = learning_rate\n",
    "    params.batch_size = batch_size\n",
    "    step!(params)\n",
    "    \n",
    "    println(\"iter: \", iter)\n",
    "    println(\"time: \", now() - t_start)\n",
    "    if mod(iter, 5) == 1\n",
    "        println(\"plogl: \", calc_pseudolikelihood(dset, dat=dat, scene=params.grad_params.scene, rec=params.grad_params.rec))\n",
    "    end\n",
    "    println(\"learning rate: \", learning_rate)\n",
    "    println(\"batch_size:    \", batch_size)\n",
    "    println(\"n_samples:     \", )\n",
    "    println(\"weights: \")\n",
    "    for ϕ in dset.factors\n",
    "        println(ϕ.template.form, \"  \", ϕ.weights)\n",
    "    end\n",
    "    println(\"\")\n",
    "    \n",
    "    learning_rate *= 0.95\n",
    "    batch_size += 1\n",
    "end"
   ]
  },
  {
   "cell_type": "markdown",
   "metadata": {},
   "source": [
    "# Learned Marginal Distribution"
   ]
  },
  {
   "cell_type": "code",
   "execution_count": 15,
   "metadata": {
    "collapsed": false
   },
   "outputs": [
    {
     "name": "stdout",
     "output_type": "stream",
     "text": [
      "! LaTeX Error: File `luatex85.sty' not found.\n",
      "\n",
      "Type X to quit or <RETURN> to proceed,\n",
      "or enter new name. (Default extension: sty)\n",
      "\n",
      "Enter file name: \n",
      "! Emergency stop.\n",
      "<read *> \n",
      "   \n",
      "l.2 \\documentclass\n",
      "                [tikz]{standalone}\r\n",
      "End of file on the terminal!\n",
      "\n",
      "\n",
      "\n",
      "Here is how much of LuaTeX's memory you used:\n",
      " 11 strings out of 494693\n",
      " 100000,89155 words of node,token memory allocated 188 words of node memory still in use:\n",
      "   31 glue_spec, 1 dir nodes\n",
      "   avail lists: 2:12,3:1\n",
      " 3851 multiletter control sequences out of 65536+600000\n",
      " 14 fonts using 562767 bytes\n",
      " 10i,0n,7p,45b,8s stack positions out of 5000i,500n,10000p,200000b,100000s\n",
      "!  ==> Fatal error occurred, no output PDF file produced!\n",
      "\n",
      "Error saving as SVG\n"
     ]
    },
    {
     "ename": "ErrorException",
     "evalue": "LaTeX error",
     "output_type": "error",
     "traceback": [
      "LaTeX error",
      ""
     ]
    }
   ],
   "source": [
    "# using PGFPlots\n",
    "\n",
    "# g = GroupPlot(1, 3, groupStyle = \"vertical sep = 1cm\")\n",
    "# push!(g, Plots.Linear(collect(1:10), randn(10)))\n",
    "# push!(g, Plots.Linear(collect(1:10), randn(10)))\n",
    "# push!(g, Plots.Linear(collect(1:10), randn(10)))\n",
    "# g"
   ]
  },
  {
   "cell_type": "code",
   "execution_count": 16,
   "metadata": {
    "collapsed": false
   },
   "outputs": [
    {
     "name": "stdout",
     "output_type": "stream",
     "text": [
      "[0.009587413726315342,0.009583849385465516,0.009580583101230939,0.00957761487361168,0.00957494470260762,0.00957257258821884,0.009570498530445237,0.009568722529287057,0.009567244584744047,0.009566064696816218,0.009565182865503886,0.00956459909080668,0.009564313372724719,0.009564325711258008,0.009564636106406564,0.009565244558170463,0.009566151066549637,0.009567355631543973,0.009568858253153635,0.009570658931378593,0.009572757666218722,0.009575154457674128,0.009577849305744927,0.0095808422104309,0.009584133171732174,0.00958772218964863,0.009591609264180387,0.009595794395327446,0.009600277583089744,0.009605058827467278,0.009610138128460125,0.009615515486068248,0.00962119090029157,0.009627164371130285,0.009633435898584067,0.009640005482653325,0.009646873123337672,0.009654038820637399,0.009661502574552326,0.009669264385082544,0.009677324252228064,0.009685682175988789,0.0096943381563648,0.009703292193355962,0.009712544286962561,0.009722094437184307,0.009731942644021494,0.009742088907473762,0.009752533227541355,0.00976327560422427,0.00977431603752228,0.009785654527435687,0.009797291073964383,0.009809225677108319,0.009821458336867537,0.009833989053241978,0.009846817826231603,0.009859944655836679,0.00987336954205693,0.009887092484892392,0.009901113484343166,0.009915432540409245,0.009930049653090493,0.00994496482238716,0.009960178048298891,0.009975689330826078,0.009991498669968391,0.010007606065726054,0.010024011518098943,0.010040715027087074,0.01005771659269053,0.010075016214909216,0.010092613893743172,0.01011050962919232,0.010128703421256796,0.010147195269936498,0.010165985175231628,0.010185073137141811,0.010204459155667396,0.010224143230808225,0.010244125362564247,0.010264405550935595,0.010284983795922248,0.010305860097524046,0.010327034455741216,0.010348506870573624,0.010370277342021271,0.0103923458700841,0.010414712454762302,0.010437377096055862,0.010460339793964482,0.010483600548488499,0.010507159359627765,0.010531016227382289,0.010555171151752038,0.01057962413273713,0.010604375170337344,0.010629424264552979,0.010654771415383853,0.010680416622829892,0.010706359886891283,0.0,0.0,0.009587413726315342]\n",
      "! LaTeX Error: File `luatex85.sty' not found.\n",
      "\n",
      "Type X to quit or <RETURN> to proceed,\n",
      "or enter new name. (Default extension: sty)\n",
      "\n",
      "Enter file name: \n",
      "! Emergency stop.\n",
      "<read *> \n",
      "   \n",
      "l.2 \\documentclass\n",
      "                [tikz]{standalone}\n",
      "End of file on the terminal!\n",
      "\n",
      "\n",
      "\n",
      "Here is how much of LuaTeX's memory you used:\n",
      " 11 strings out of 494693\n",
      " 100000,89155 words of node,token memory allocated 188 words of node memory still in use:\n",
      "   31 glue_spec, 1 dir nodes\n",
      "   avail lists: 2:12,3:1\n",
      " 3851 multiletter control sequences out of 65536+600000\n",
      " 14 fonts using 562767 bytes\n",
      " 10i,0n,7p,45b,8s stack positions out of 5000i,500n,10000p,200000b,100000s\n",
      "!  ==> Fatal error occurred, no output PDF file produced!\n",
      "\n",
      "Error saving as SVG\n"
     ]
    },
    {
     "ename": "ErrorException",
     "evalue": "LaTeX error",
     "output_type": "error",
     "traceback": [
      "LaTeX error",
      ""
     ]
    }
   ],
   "source": [
    "# using PGFPlots\n",
    "\n",
    "# function _cycle_linear_plot!(xarr::Vector{Float64}, yarr::Vector{Float64})\n",
    "#     append!(yarr, [0.0, 0.0, yarr[1]])\n",
    "#     append!(xarr, [xarr[end], xarr[1], xarr[1]])\n",
    "#     nothing\n",
    "# end\n",
    "# function plot_marginal_roadfactor(ϕ_road::SharedFactor;\n",
    "#     nbins_v::Int = 101,\n",
    "#     nbins_t::Int = 101,\n",
    "#     nbins_ϕ::Int = 101,\n",
    "#     )\n",
    "\n",
    "#     pts_v = collect(linspace(AutoScenes.BOUNDS_V[1], AutoScenes.BOUNDS_V[2], nbins_v))\n",
    "#     pts_t = collect(linspace(-3.0, 3.0, nbins_t))\n",
    "#     pts_ϕ = collect(linspace(AutoScenes.BOUNDS_ϕ[1], AutoScenes.BOUNDS_ϕ[2], nbins_ϕ))\n",
    "#     v_values = zeros(Float64, nbins_v)\n",
    "#     t_values = zeros(Float64, nbins_t)\n",
    "#     ϕ_values = zeros(Float64, nbins_ϕ)\n",
    "#     tot = 0.0\n",
    "\n",
    "#     for (j,t) in enumerate(pts_t)\n",
    "#         AutoScenes._set_and_standardize!(ϕ_road.template, t, 1)\n",
    "#         for (i,v) in enumerate(pts_v)\n",
    "#             AutoScenes._set_and_standardize!(ϕ_road.template, v, 2)\n",
    "#             for (k,ϕ) in enumerate(pts_ϕ)\n",
    "#                 AutoScenes._set_and_standardize!(ϕ_road.template, ϕ, 3)\n",
    "                \n",
    "#                 e = evaluate_dot(ϕ_road)\n",
    "#                 v_values[i] += e\n",
    "#                 t_values[j] += e\n",
    "#                 ϕ_values[k] += e\n",
    "#                 tot += e\n",
    "#             end\n",
    "#         end\n",
    "#     end\n",
    "\n",
    "#     # produce a probability density\n",
    "#     v_values ./= tot\n",
    "#     t_values ./= tot\n",
    "#     ϕ_values ./= tot\n",
    "\n",
    "#     plot_width = \"20cm\"\n",
    "#     plot_height = \"4cm\"\n",
    "#     style = \"solid, thick, mark=none, black\"\n",
    "\n",
    "#     _cycle_linear_plot!(pts_v, v_values)\n",
    "#     _cycle_linear_plot!(pts_t, t_values)\n",
    "#     _cycle_linear_plot!(pts_ϕ, ϕ_values)\n",
    "\n",
    "#     g = GroupPlot(1, 3, groupStyle = \"vertical sep = 1cm\")\n",
    "#     push!(g, Axis(PGFPlots.Plots.Linear(pts_v, v_values, style=style*\", fill=monokai3\"), xlabel=\"speed [ft/s]\", ylabel=\"pdf\", width=plot_width, height=plot_height, enlargelimits=\"false\"))\n",
    "#     push!(g, Axis(PGFPlots.Plots.Linear(pts_t, t_values, style=style*\", fill=monokai4\"), xlabel=\"lane centerline offset [ft]\", ylabel=\"pdf\", width=plot_width, height=plot_height, enlargelimits=\"false\"))\n",
    "#     push!(g, Axis(PGFPlots.Plots.Linear(rad2deg(pts_ϕ), ϕ_values, style=style*\", fill=monokai5\"), xlabel=\"lane-relative heading [deg]\", ylabel=\"pdf\", width=plot_width, height=plot_height, enlargelimits=\"false\"))\n",
    "#     g\n",
    "# end\n",
    "\n",
    "# plot_marginal_roadfactor(dset.factors[1])"
   ]
  },
  {
   "cell_type": "code",
   "execution_count": null,
   "metadata": {
    "collapsed": true
   },
   "outputs": [],
   "source": []
  }
 ],
 "metadata": {
  "anaconda-cloud": {},
  "kernelspec": {
   "display_name": "Julia 0.5.0",
   "language": "julia",
   "name": "julia-0.5"
  },
  "language_info": {
   "file_extension": ".jl",
   "mimetype": "application/julia",
   "name": "julia",
   "version": "0.5.0"
  }
 },
 "nbformat": 4,
 "nbformat_minor": 0
}

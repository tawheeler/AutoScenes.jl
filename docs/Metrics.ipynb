{
 "cells": [
  {
   "cell_type": "markdown",
   "metadata": {},
   "source": [
    "# Metrics"
   ]
  },
  {
   "cell_type": "code",
   "execution_count": 1,
   "metadata": {
    "collapsed": false
   },
   "outputs": [],
   "source": [
    "using AutomotiveDrivingModels\n",
    "using AutoScenes\n",
    "using AutoViz\n",
    "using Discretizers\n",
    "using Base.Test"
   ]
  },
  {
   "cell_type": "code",
   "execution_count": 2,
   "metadata": {
    "collapsed": false
   },
   "outputs": [
    {
     "data": {
      "image/png": "[encoded data removed]",
      "text/plain": [
       "Cairo.CairoSurface{UInt32}(Ptr{Void} @0x00000000028ece80, 1000.0, 100.0, #undef)"
      ]
     },
     "execution_count": 2,
     "metadata": {},
     "output_type": "execute_result"
    }
   ],
   "source": [
    "const Vehicle1D = Entity{PosSpeed1D, BoundingBoxDef, Int}\n",
    "const Scene1D = Frame{Vehicle1D}\n",
    "const Roadway1D = Wraparound{Straight1DRoadway}\n",
    "\n",
    "def = BoundingBoxDef(AgentClass.CAR, 4.0, 2.0)\n",
    "roadway = Wraparound(Straight1DRoadway(50.0))\n",
    "scene = Frame([\n",
    "    Vehicle1D(PosSpeed1D(10.0,10.0), def, 1),\n",
    "    Vehicle1D(PosSpeed1D(18.0,12.0), def, 2),\n",
    "    Vehicle1D(PosSpeed1D(26.0,10.0), def, 3),\n",
    "    Vehicle1D(PosSpeed1D(34.0, 8.0), def, 4),\n",
    "])\n",
    "render(scene, Straight1DRoadway(50.0), cam=StaticCamera(VecE2(25.0,0.0), 18.0), canvas_height=100)"
   ]
  },
  {
   "cell_type": "markdown",
   "metadata": {},
   "source": [
    "We create some features. Each feature must implement:\n",
    "* f(scene, vehicle_indices, roadway) and produce a FeatureValue\n",
    "* assign_metric(f, scene, roadway) and produce a Vector{Assignment} that point to vehicle indices"
   ]
  },
  {
   "cell_type": "code",
   "execution_count": 3,
   "metadata": {
    "collapsed": false
   },
   "outputs": [
    {
     "data": {
      "text/plain": [
       "\u001b[1m\u001b[32mTest Passed\n",
       "\u001b[39m\u001b[22m"
      ]
     },
     "execution_count": 3,
     "metadata": {},
     "output_type": "execute_result"
    }
   ],
   "source": [
    "v(scene::Scene1D, vehicle_indices::Assignment, roadway::Roadway1D) = FeatureValue(scene[vehicle_indices[1]].state.v)\n",
    "function AutoScenes.assign_metric{F <: typeof(v)}(f::F, scene::Scene1D, roadway::Roadway1D)\n",
    "    return Assignment[(i,) for i in 1: length(scene)]\n",
    "end\n",
    "\n",
    "assignments = assign_metric(v, scene, roadway)\n",
    "@test assignments == Assignment[(1,), (2,), (3,), (4,)]\n",
    "@test Float64[v(scene, a, roadway) for a in assignments] == [10.0, 12.0, 10.0, 8.0]"
   ]
  },
  {
   "cell_type": "markdown",
   "metadata": {},
   "source": [
    "We can pull the counts over a ListRecord."
   ]
  },
  {
   "cell_type": "code",
   "execution_count": 7,
   "metadata": {
    "collapsed": false
   },
   "outputs": [
    {
     "data": {
      "text/plain": [
       "\u001b[1m\u001b[32mTest Passed\n",
       "\u001b[39m\u001b[22m"
      ]
     },
     "execution_count": 7,
     "metadata": {},
     "output_type": "execute_result"
    }
   ],
   "source": [
    "rec = ListRecord(NaN, PosSpeed1D, BoundingBoxDef, Int)\n",
    "push!(rec, scene)\n",
    "metric = KLDivMetric(v, LinearDiscretizer([-9.0,0.0,9.0,15.0]))\n",
    "countsQ = get_counts(metric, rec, roadway, [assignments])\n",
    "@test countsQ == [0,1,3]"
   ]
  },
  {
   "cell_type": "code",
   "execution_count": 14,
   "metadata": {
    "collapsed": false
   },
   "outputs": [
    {
     "data": {
      "text/plain": [
       "\u001b[1m\u001b[32mTest Passed\n",
       "\u001b[39m\u001b[22m"
      ]
     },
     "execution_count": 14,
     "metadata": {},
     "output_type": "execute_result"
    }
   ],
   "source": [
    "@test kullbeck_leibler_divergence(countsQ, countsQ, metric.disc) == 0.0\n",
    "@test kullbeck_leibler_divergence([1,1], [2,2], metric.disc) == 0.0\n",
    "@test isapprox(kullbeck_leibler_divergence([1,1], [1,2], LinearDiscretizer([0.0,1.0,2.0])), \n",
    "               0.5*log(0.5/(1/3)) + 0.5*log(0.5/(2/3)), atol=1e-8)"
   ]
  },
  {
   "cell_type": "code",
   "execution_count": null,
   "metadata": {
    "collapsed": true
   },
   "outputs": [],
   "source": []
  }
 ],
 "metadata": {
  "kernelspec": {
   "display_name": "Julia 0.6.0",
   "language": "julia",
   "name": "julia-0.6"
  },
  "language_info": {
   "file_extension": ".jl",
   "mimetype": "application/julia",
   "name": "julia",
   "version": "0.6.0"
  },
  "widgets": {
   "state": {},
   "version": "2.0.10"
  }
 },
 "nbformat": 4,
 "nbformat_minor": 2
}

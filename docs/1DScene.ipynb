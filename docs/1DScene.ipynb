{
 "cells": [
  {
   "cell_type": "markdown",
   "metadata": {},
   "source": [
    "# 1D Scene\n",
    "\n",
    "We now consider 1D driving scenes on wraparound roadways."
   ]
  },
  {
   "cell_type": "code",
   "execution_count": 1,
   "metadata": {
    "collapsed": false
   },
   "outputs": [
    {
     "name": "stderr",
     "output_type": "stream",
     "text": [
      "\u001b[1m\u001b[34mINFO: Recompiling stale cache file /home/tim/.julia/lib/v0.5/AutoScenes.ji for module AutoScenes.\n",
      "\u001b[0m"
     ]
    }
   ],
   "source": [
    "using AutomotiveDrivingModels\n",
    "using AutoScenes\n",
    "using AutoViz\n",
    "using Base.Test"
   ]
  },
  {
   "cell_type": "markdown",
   "metadata": {},
   "source": [
    "### Entity\n",
    "\n",
    "We define our entity with a 1D state containing both position $s \\in [0,50] m$ and a speed $v \\in [0, 32] m/s$.\n",
    "The vehicles have bounding box definitions and integer ids."
   ]
  },
  {
   "cell_type": "code",
   "execution_count": 2,
   "metadata": {
    "collapsed": false
   },
   "outputs": [],
   "source": [
    "const Vehicle1D = Entity{PosSpeed1D, BoundingBoxDef, Int}\n",
    "const Scene1D = Frame{Vehicle1D};"
   ]
  },
  {
   "cell_type": "markdown",
   "metadata": {},
   "source": [
    "We construct a sample scene."
   ]
  },
  {
   "cell_type": "code",
   "execution_count": 3,
   "metadata": {
    "collapsed": false
   },
   "outputs": [
    {
     "data": {
      "image/png": "[encoded data removed]",
      "text/plain": [
       "Cairo.CairoSurface{UInt32}(Ptr{Void} @0x00000000051db480,1000.0,100.0,#undef)"
      ]
     },
     "execution_count": 3,
     "metadata": {},
     "output_type": "execute_result"
    }
   ],
   "source": [
    "def = BoundingBoxDef(AgentClass.CAR, 4.0, 2.0)\n",
    "roadway = Wraparound(Straight1DRoadway(50.0))\n",
    "scene = Frame([\n",
    "    Vehicle1D(PosSpeed1D(10.0,10.0), def, 1),\n",
    "    Vehicle1D(PosSpeed1D(18.0,12.0), def, 2),\n",
    "    Vehicle1D(PosSpeed1D(26.0,10.0), def, 3),\n",
    "    Vehicle1D(PosSpeed1D(34.0, 8.0), def, 4),\n",
    "])\n",
    "render(scene, Straight1DRoadway(50.0), cam=StaticCamera(VecE2(25.0,0.0), 18.0), canvas_height=100)"
   ]
  },
  {
   "cell_type": "markdown",
   "metadata": {},
   "source": [
    "We can construct a lead-follow relationship to help us assign the features. This is supplied by AutoScenes.jl"
   ]
  },
  {
   "cell_type": "code",
   "execution_count": 4,
   "metadata": {
    "collapsed": false
   },
   "outputs": [
    {
     "data": {
      "text/plain": [
       "\u001b[1m\u001b[32mTest Passed\n",
       "\u001b[0m  Expression: lead_follow.index_rear == [4,1,2,3]\n",
       "   Evaluated: [4,1,2,3] == [4,1,2,3]"
      ]
     },
     "execution_count": 4,
     "metadata": {},
     "output_type": "execute_result"
    }
   ],
   "source": [
    "lead_follow = LeadFollowRelationships(scene, roadway)\n",
    "@test lead_follow.index_fore == [2,3,4,1]\n",
    "@test lead_follow.index_rear == [4,1,2,3]"
   ]
  },
  {
   "cell_type": "markdown",
   "metadata": {},
   "source": [
    "Our variables are the position $s$ and speed $v$ for each vehicle.\n",
    "The position is bounded by the position of the lead and trailing vehicle."
   ]
  },
  {
   "cell_type": "code",
   "execution_count": 5,
   "metadata": {
    "collapsed": false
   },
   "outputs": [
    {
     "data": {
      "text/plain": [
       "\u001b[1m\u001b[32mTest Passed\n",
       "\u001b[0m  Expression: vars.bounds[3] == StateBounds(-4.0,4.0)\n",
       "   Evaluated: AutoScenes.StateBounds(-4.0,4.0) == AutoScenes.StateBounds(-4.0,4.0)"
      ]
     },
     "execution_count": 5,
     "metadata": {},
     "output_type": "execute_result"
    }
   ],
   "source": [
    "function AutoScenes.Vars(scene::Scene1D, roadway::Wraparound{Straight1DRoadway})\n",
    "\n",
    "    n = length(scene)\n",
    "    vars = Vars(Array(Float64, 2n),\n",
    "                Array(StateBounds, 2n),\n",
    "                Array(Symbol, 2n),\n",
    "                Array(Int, 2n))\n",
    "\n",
    "    lead_follow = LeadFollowRelationships(scene, roadway)\n",
    "\n",
    "    j = 0\n",
    "    for (vehicle_index, veh) in enumerate(scene)\n",
    "\n",
    "        rear = scene[lead_follow.index_rear[vehicle_index]]\n",
    "        fore = scene[lead_follow.index_fore[vehicle_index]]\n",
    "\n",
    "        Δs_fore = get_headway(veh, fore, roadway)\n",
    "        Δs_rear = get_headway(rear, veh, roadway)\n",
    "\n",
    "        # position\n",
    "        j += 1\n",
    "        vars.values[j] = veh.state.s\n",
    "        vars.bounds[j] = StateBounds(-Δs_rear, Δs_fore)\n",
    "        vars.symbols[j] = :s\n",
    "        vars.vehicle_indices[j] = vehicle_index\n",
    "        @assert vars.bounds[j].Δlo ≤ 0.0\n",
    "        @assert vars.bounds[j].Δhi ≥ 0.0\n",
    "\n",
    "        # speed\n",
    "        j += 1\n",
    "        vars.values[j] = veh.state.v\n",
    "        vars.bounds[j] = StateBounds(0.0 - veh.state.v, 32.0 - veh.state.v)\n",
    "        vars.symbols[j] = :v\n",
    "        vars.vehicle_indices[j] = vehicle_index\n",
    "        @assert vars.bounds[j].Δlo ≤ 0.0\n",
    "        @assert vars.bounds[j].Δhi ≥ 0.0\n",
    "    end\n",
    "\n",
    "    return vars\n",
    "end\n",
    "\n",
    "vars = Vars(scene, roadway)\n",
    "@test vars.values ≈ [10.0, 10.0, 18.0, 12.0, 26.0, 10.0, 34.0, 8.0]\n",
    "@test vars.symbols == [:s, :v, :s, :v, :s, :v, :s, :v]\n",
    "@test vars.vehicle_indices == [1, 1, 2, 2, 3, 3, 4, 4]\n",
    "@test vars.bounds[1] == StateBounds(-(50-34+10-4.0),4.0)\n",
    "@test vars.bounds[2] == StateBounds(-10.0, 22.0)\n",
    "@test vars.bounds[3] == StateBounds(-4.0, 4.0)"
   ]
  },
  {
   "cell_type": "markdown",
   "metadata": {},
   "source": [
    "Let us begin by implementing a speed feature and a delta speed feature:"
   ]
  },
  {
   "cell_type": "code",
   "execution_count": 6,
   "metadata": {
    "collapsed": false
   },
   "outputs": [
    {
     "data": {
      "text/plain": [
       "\u001b[1m\u001b[32mTest Passed\n",
       "\u001b[0m  Expression: speed(vars,assignments_speed[4],roadway) ≈ 8.0\n",
       "   Evaluated: 8.0 isapprox 8.0"
      ]
     },
     "execution_count": 6,
     "metadata": {},
     "output_type": "execute_result"
    }
   ],
   "source": [
    "function speed{R}(\n",
    "    vars::Vars,\n",
    "    assignment::Assignment, # indeces of variables in vars\n",
    "    roadway::R,\n",
    "    )\n",
    "\n",
    "    return vars.values[assignment[1]]\n",
    "end\n",
    "function AutoScenes.assign_feature{F <: typeof(speed), R}(\n",
    "    f::F,\n",
    "    scene::Scene1D,\n",
    "    roadway::R,\n",
    "    vars::Vars,\n",
    "    )\n",
    "\n",
    "    assignments = Assignment[]\n",
    "    for (i, sym) in enumerate(vars.symbols)\n",
    "        if sym == :v\n",
    "            push!(assignments, (i,0))\n",
    "        end\n",
    "    end\n",
    "\n",
    "    return assignments\n",
    "end\n",
    "\n",
    "assignments_speed = assign_feature(speed, scene, roadway, vars)\n",
    "@test assignments_speed == [(2,0), (4,0), (6,0), (8,0)]\n",
    "@test speed(vars, assignments_speed[1], roadway) ≈ 10.0\n",
    "@test speed(vars, assignments_speed[2], roadway) ≈ 12.0\n",
    "@test speed(vars, assignments_speed[3], roadway) ≈ 10.0\n",
    "@test speed(vars, assignments_speed[4], roadway) ≈  8.0"
   ]
  },
  {
   "cell_type": "code",
   "execution_count": 7,
   "metadata": {
    "collapsed": false
   },
   "outputs": [
    {
     "data": {
      "text/plain": [
       "\u001b[1m\u001b[32mTest Passed\n",
       "\u001b[0m  Expression: delta_speed(vars,assignments_delta_speed[4],roadway) ≈ 10.0 - 8.0\n",
       "   Evaluated: 2.0 isapprox 2.0"
      ]
     },
     "execution_count": 7,
     "metadata": {},
     "output_type": "execute_result"
    }
   ],
   "source": [
    "function delta_speed{R}(\n",
    "    vars::Vars, # all variables\n",
    "    assignment::Assignment, # indeces of variables in vars\n",
    "    roadway::R,\n",
    "    )\n",
    "\n",
    "    v_rear = vars.values[assignment[1]]\n",
    "    v_fore = vars.values[assignment[2]]\n",
    "    return v_fore - v_rear\n",
    "end\n",
    "function AutoScenes.assign_feature{F <: typeof(delta_speed)}(\n",
    "    f::F,\n",
    "    scene::Scene1D,\n",
    "    roadway::Wraparound{Straight1DRoadway},\n",
    "    vars::Vars,\n",
    "    )\n",
    "\n",
    "    lead_follow = LeadFollowRelationships(scene, roadway)\n",
    "\n",
    "    assignments = Assignment[]\n",
    "    for (vehicle_index, index_fore) in enumerate(lead_follow.index_fore)\n",
    "        j_rear = findfirst(vars, vehicle_index, :v)\n",
    "        j_fore = findfirst(vars, index_fore, :v)\n",
    "        push!(assignments, (j_rear, j_fore))\n",
    "    end\n",
    "\n",
    "    return assignments\n",
    "end\n",
    "\n",
    "assignments_delta_speed = assign_feature(delta_speed, scene, roadway, vars)\n",
    "@test assignments_delta_speed == [(2,4), (4,6), (6,8), (8,2)]\n",
    "@test delta_speed(vars, assignments_delta_speed[1], roadway) ≈ 12.0 - 10.0\n",
    "@test delta_speed(vars, assignments_delta_speed[2], roadway) ≈ 10.0 - 12.0\n",
    "@test delta_speed(vars, assignments_delta_speed[3], roadway) ≈  8.0 - 10.0\n",
    "@test delta_speed(vars, assignments_delta_speed[4], roadway) ≈ 10.0 -  8.0"
   ]
  },
  {
   "cell_type": "markdown",
   "metadata": {},
   "source": [
    "We continue by assigning features to the scene."
   ]
  },
  {
   "cell_type": "code",
   "execution_count": 8,
   "metadata": {
    "collapsed": false
   },
   "outputs": [
    {
     "data": {
      "text/plain": [
       "\u001b[1m\u001b[32mTest Passed\n",
       "\u001b[0m  Expression: assignments[8] == (2,(8,2))\n",
       "   Evaluated: (2,(8,2)) == (2,(8,2))"
      ]
     },
     "execution_count": 8,
     "metadata": {},
     "output_type": "execute_result"
    }
   ],
   "source": [
    "features = (speed, delta_speed)\n",
    "assignments = assign_features(features, scene, roadway, vars)\n",
    "@test assignments[1] == (1, (2,0))\n",
    "@test assignments[2] == (1, (4,0))\n",
    "@test assignments[3] == (1, (6,0))\n",
    "@test assignments[4] == (1, (8,0))\n",
    "@test assignments[5] == (2, (2,4))\n",
    "@test assignments[6] == (2, (4,6))\n",
    "@test assignments[7] == (2, (6,8))\n",
    "@test assignments[8] == (2, (8,2))"
   ]
  },
  {
   "cell_type": "markdown",
   "metadata": {},
   "source": [
    "Above we see that `speed`, the first feature, is assigned to the 2nd, 4th, 6th, and 8th variables. This is because those are the speeds of the four cars.\n",
    "\n",
    "Next we construct a scope. A scope of a variable lists all of the features that require it. These help us reduce the amount of computation we need to perform."
   ]
  },
  {
   "cell_type": "code",
   "execution_count": 9,
   "metadata": {
    "collapsed": false
   },
   "outputs": [],
   "source": [
    "@test scope(1, assignments) == Int[]\n",
    "@test scope(2, assignments) == [1,5,8]\n",
    "@test scope(3, assignments) == Int[]\n",
    "@test scope(4, assignments) == [2,5,6]\n",
    "scopes = [scope(var_index, assignments) for var_index in 1 : length(vars)];"
   ]
  },
  {
   "cell_type": "markdown",
   "metadata": {},
   "source": [
    "#### ptilde\n",
    "\n",
    "We test $\\tilde{p}(s)$"
   ]
  },
  {
   "cell_type": "code",
   "execution_count": 10,
   "metadata": {
    "collapsed": false
   },
   "outputs": [
    {
     "data": {
      "text/plain": [
       "\u001b[1m\u001b[32mTest Passed\n",
       "\u001b[0m  Expression: ptilde(features,θ,vars,assignments,roadway) ≈ exp(θ[1] * speed(vars,assignments_speed[1],roadway) + θ[1] * speed(vars,assignments_speed[2],roadway) + θ[1] * speed(vars,assignments_speed[3],roadway) + θ[1] * speed(vars,assignments_speed[4],roadway) + θ[2] * delta_speed(vars,assignments_delta_speed[1],roadway) + θ[2] * delta_speed(vars,assignments_delta_speed[2],roadway) + θ[2] * delta_speed(vars,assignments_delta_speed[3],roadway) + θ[2] * delta_speed(vars,assignments_delta_speed[4],roadway))\n",
       "   Evaluated: 6.270530864822832e11 isapprox 6.270530864822832e11"
      ]
     },
     "execution_count": 10,
     "metadata": {},
     "output_type": "execute_result"
    }
   ],
   "source": [
    "srand(0)\n",
    "θ = randn(length(features))\n",
    "@test ptilde(features, θ, vars, assignments, roadway) ≈ exp(\n",
    "        θ[1] * speed(vars, assignments_speed[1], roadway) +\n",
    "        θ[1] * speed(vars, assignments_speed[2], roadway) +\n",
    "        θ[1] * speed(vars, assignments_speed[3], roadway) +\n",
    "        θ[1] * speed(vars, assignments_speed[4], roadway) +\n",
    "        θ[2] * delta_speed(vars, assignments_delta_speed[1], roadway) +\n",
    "        θ[2] * delta_speed(vars, assignments_delta_speed[2], roadway) +\n",
    "        θ[2] * delta_speed(vars, assignments_delta_speed[3], roadway) +\n",
    "        θ[2] * delta_speed(vars, assignments_delta_speed[4], roadway)\n",
    "    )"
   ]
  },
  {
   "cell_type": "markdown",
   "metadata": {},
   "source": [
    "We can also compute ptilde for a particular scope:"
   ]
  },
  {
   "cell_type": "code",
   "execution_count": 11,
   "metadata": {
    "collapsed": false
   },
   "outputs": [
    {
     "data": {
      "text/plain": [
       "\u001b[1m\u001b[32mTest Passed\n",
       "\u001b[0m  Expression: ptilde(features,θ,vars,assignments,scopes[2],roadway) ≈ exp(θ[1] * speed(vars,assignments_speed[1],roadway) + θ[2] * delta_speed(vars,assignments_delta_speed[1],roadway) + θ[2] * delta_speed(vars,assignments_delta_speed[4],roadway))\n",
       "   Evaluated: 24458.380378875903 isapprox 24458.380378875903"
      ]
     },
     "execution_count": 11,
     "metadata": {},
     "output_type": "execute_result"
    }
   ],
   "source": [
    "srand(0)\n",
    "θ = randn(length(features))\n",
    "@test ptilde(features, θ, vars, assignments, scopes[2], roadway) ≈ exp(\n",
    "        θ[1] * speed(vars, assignments_speed[1], roadway) +\n",
    "        θ[2] * delta_speed(vars, assignments_delta_speed[1], roadway) +\n",
    "        θ[2] * delta_speed(vars, assignments_delta_speed[4], roadway)\n",
    "    )"
   ]
  },
  {
   "cell_type": "markdown",
   "metadata": {},
   "source": [
    "#### Probability Denominator\n",
    "\n",
    "We will need to calculate:\n",
    "\n",
    "$$p(v_1 \\mid \\text{other}) = \\frac{\\tilde{p}(v_1 \\mid \\text{other})}{\\tilde{p}(\\text{other})} = \\frac{\\tilde{p}(v_1 \\mid \\text{other})}{\\int_{v'_1} \\tilde{p}(v'_1 \\mid \\text{other})\\> d v'_1}$$"
   ]
  },
  {
   "cell_type": "markdown",
   "metadata": {},
   "source": [
    "We compute the denominator first:\n",
    "$$\\begin{aligned}\n",
    "Z & = \\int_{v_1} \\tilde{p}(v_1 \\mid \\text{other})\\> d v_1  \\\\\n",
    "& = \\int_0^{32} exp\\left\\{\\theta_1v'_1 + \\theta_1 v_2 + \\theta_1 v_3 + \\theta_1 v_4 + \\theta_2(v_2 - v'_1) + \\theta_2(v_3 - v_2)  + \\theta_2(v_4 - v_3) + \\theta_2(v'_1 - v_4)\\right\\} \\> d v'_1 \\\\\n",
    "& = \\int_0^{32} exp\\left\\{\\theta_1(v'_1 + v_2 + v_3 + v_4)\\right\\} \\> d v'_1 \\\\\n",
    "& = \\exp\\left\\{\\theta_1(v_2 + v_3 + v_4)\\right\\}\\int_0^{32} exp\\left\\{\\theta_1 v'_1\\right\\} \\> d v'_1\n",
    "\\end{aligned}\n",
    "$$"
   ]
  },
  {
   "cell_type": "code",
   "execution_count": 12,
   "metadata": {
    "collapsed": false
   },
   "outputs": [
    {
     "data": {
      "text/plain": [
       "\u001b[1m\u001b[32mTest Passed\n",
       "\u001b[0m  Expression: isapprox(Z′,Z,atol=1.0e-8)"
      ]
     },
     "execution_count": 12,
     "metadata": {},
     "output_type": "execute_result"
    }
   ],
   "source": [
    "v₁ = vars.values[2]\n",
    "v₂ = vars.values[4]\n",
    "v₃ = vars.values[6]\n",
    "v₄ = vars.values[8]\n",
    "θ = Float64[1,1]\n",
    "Z = exp(θ[1]*(v₂ + v₃ + v₄))quadgk(v₁->exp(θ[1]*(v₁)), 0, 32)[1]\n",
    "Z′ = ptilde_denom(2, features, θ, vars, assignments, roadway)\n",
    "@test isapprox(Z′, Z, atol=1e-8)\n",
    "\n",
    "srand(0)\n",
    "θ = randn(2)\n",
    "Z = exp(θ[1]*(v₂ + v₃ + v₄))quadgk(v₁->exp(θ[1]*v₁), 0, 32)[1]\n",
    "Z′ = ptilde_denom(2, features, θ, vars, assignments, roadway)\n",
    "@test isapprox(Z′, Z, atol=1e-8)"
   ]
  },
  {
   "cell_type": "markdown",
   "metadata": {},
   "source": [
    "Oftentimes we do not want to compute a bunch of static leading terms. They cancel out with the same term in the numerator of the probability equation above anyway. This is what scopes are for.\n",
    "\n",
    "$$\\begin{aligned}\n",
    "Z_{v_1} & = \\int_{v_1} \\tilde{p}_{\\text{scope}[v_1]}(v_1 \\mid \\text{other})\\> d v_1  \\\\\n",
    "& = \\int_0^{32} exp\\left\\{\\theta_1v'_1 + \\theta_2(v_2 - v'_1) + \\theta_2(v'_1 - v_4)\\right\\} \\> d v'_1 \\\\\n",
    "& = \\int_0^{32} exp\\left\\{\\theta_1v'_1 + \\theta_2(v_2 - v_4)\\right\\} \\> d v'_1 \\\\\n",
    "& = \\exp\\left\\{\\theta_2(v_2 - v_4)\\right\\}\\int_0^{32} exp\\left\\{\\theta_1 v'_1\\right\\} \\> d v'_1\n",
    "\\end{aligned}\n",
    "$$\n",
    "\n",
    "In this case the savings aren't that amazing but it is better in more complicated factor graphs."
   ]
  },
  {
   "cell_type": "code",
   "execution_count": 13,
   "metadata": {
    "collapsed": false
   },
   "outputs": [
    {
     "data": {
      "text/plain": [
       "\u001b[1m\u001b[32mTest Passed\n",
       "\u001b[0m  Expression: isapprox(Z′,Z,atol=1.0e-8)"
      ]
     },
     "execution_count": 13,
     "metadata": {},
     "output_type": "execute_result"
    }
   ],
   "source": [
    "θ = Float64[1,1]\n",
    "Z = exp(θ[2]*(v₂ - v₄))quadgk(v₁->exp(θ[1]*v₁), 0, 32)[1]\n",
    "Z′ = ptilde_denom(2, features, θ, vars, assignments, scopes[2], roadway)\n",
    "@test isapprox(Z′, Z, atol=1e-8)\n",
    "\n",
    "srand(0)\n",
    "θ = randn(2)\n",
    "Z = exp(θ[1]*(v₂ + v₃ + v₄))quadgk(v₁->exp(θ[1]*v₁), 0, 32)[1]\n",
    "Z′ = ptilde_denom(2, features, θ, vars, assignments, roadway)\n",
    "@test isapprox(Z′, Z, atol=1e-8)"
   ]
  },
  {
   "cell_type": "markdown",
   "metadata": {},
   "source": [
    "#### log pseudolikelihood loss\n",
    "\n",
    "single instance:\n",
    "$$\n",
    "\\ell_\\text{PL}(s) = \\sum_j \\ln p(x_j \\mid x_{-j}) = \\sum_j \\left(\\ln\\tilde{p}(s) - \\ln \\int_{x'_j} \\tilde{p}(x'_j, x_{-j}) \\> dx'_{-j}\\right)\n",
    "$$\n",
    "\n",
    "we further simplify:\n",
    "$$\n",
    "\\ln p(x_j \\mid x_{-j}) = \\left(\\sum_{i:\\text{scope}[f_i] \\ni x_j} \\theta_i f_i(s)\\right) - \\ln \\left(\\int_{x'_j} \\sum_{i:\\text{scope}[f_i]\\ni x_j} \\theta_i f_i(x'_j, x_{-j}) \\> d x'_j\\right)\n",
    "$$"
   ]
  },
  {
   "cell_type": "markdown",
   "metadata": {},
   "source": [
    "The log pseudolikelihood loss for this scene is:\n",
    "\n",
    "$$\n",
    "\\begin{aligned}\n",
    "\\ell_\\text{PL} (s) & = \\ln p(v_1 \\mid \\text{other}) + \\ln p(v_2 \\mid \\text{other}) + \\ln p(v_3 \\mid \\text{other}) + \\ln p(v_4 \\mid \\text{other}) \\\\\n",
    "& = \\left(\\theta_1 v_1 + \\theta_2(v_2 - v_1) + \\theta_2(v_1 - v_4)\\right) - \\ln Z_{v_1} \\\\\n",
    "& \\quad + \\left(\\theta_1 v_2 + \\theta_2(v_3 - v_2) + \\theta_2(v_2 - v_1)\\right) - \\ln Z_{v_2} \\\\\n",
    "& \\quad + \\left(\\theta_1 v_3 + \\theta_2(v_4 - v_3) + \\theta_2(v_3 - v_2)\\right) - \\ln Z_{v_3} \\\\\n",
    "& \\quad + \\left(\\theta_1 v_4 + \\theta_2(v_1 - v_4) + \\theta_2(v_4 - v_3)\\right) - \\ln Z_{v_4} \\\\\n",
    "& = \\left(\\theta_1 v_1 + \\theta_2(v_2 - v_4)\\right) - \\ln Z_{v_1} \\\\\n",
    "& \\quad + \\left(\\theta_1 v_2 + \\theta_2(v_3 - v_1)\\right) - \\ln Z_{v_2} \\\\\n",
    "& \\quad + \\left(\\theta_1 v_3 + \\theta_2(v_4 - v_2)\\right) - \\ln Z_{v_3} \\\\\n",
    "& \\quad + \\left(\\theta_1 v_4 + \\theta_2(v_1 - v_3)\\right) - \\ln Z_{v_4} \\\\\n",
    "& = \\theta_1 \\left( v_1 + v_2 + v_3 + v_4\\right) - \\ln Z_{v_1}  - \\ln Z_{v_2}  - \\ln Z_{v_3}  - \\ln Z_{v_4}\n",
    "\\end{aligned}\n",
    "$$\n",
    "\n",
    "Note that we ignore calculations for variables with empty scope."
   ]
  },
  {
   "cell_type": "code",
   "execution_count": 14,
   "metadata": {
    "collapsed": false
   },
   "outputs": [
    {
     "data": {
      "text/plain": [
       "\u001b[1m\u001b[32mTest Passed\n",
       "\u001b[0m  Expression: isapprox(plogl′,plogl,atol=1.0e-8)"
      ]
     },
     "execution_count": 14,
     "metadata": {},
     "output_type": "execute_result"
    }
   ],
   "source": [
    "θ = Float64[1,1]\n",
    "Z1 = exp(θ[2]*(v₂ - v₄))*quadgk(v₁->exp(θ[1]*v₁), 0, 32)[1]\n",
    "Z2 = exp(θ[2]*(v₃ - v₁))*quadgk(v₂->exp(θ[1]*v₂), 0, 32)[1]\n",
    "Z3 = exp(θ[2]*(v₄ - v₂))*quadgk(v₃->exp(θ[1]*v₃), 0, 32)[1]\n",
    "Z4 = exp(θ[2]*(v₁ - v₃))*quadgk(v₄->exp(θ[1]*v₄), 0, 32)[1]\n",
    "plogl = θ[1]*(v₁ + v₂ + v₃ + v₄) - log(Z1) - log(Z2) - log(Z3) - log(Z4)\n",
    "plogl′ = log_pseudolikelihood(features, θ, vars, assignments, scopes, roadway)\n",
    "@test isapprox(plogl′, plogl, atol=1e-8)"
   ]
  },
  {
   "cell_type": "code",
   "execution_count": 15,
   "metadata": {
    "collapsed": false
   },
   "outputs": [
    {
     "data": {
      "text/plain": [
       "\u001b[1m\u001b[32mTest Passed\n",
       "\u001b[0m  Expression: isapprox(plogl′,plogl,atol=1.0e-8)"
      ]
     },
     "execution_count": 15,
     "metadata": {},
     "output_type": "execute_result"
    }
   ],
   "source": [
    "srand(0)\n",
    "θ = randn(2)\n",
    "Z1 = exp(θ[2]*(v₂ - v₄))*quadgk(v₁->exp(θ[1]*v₁), 0, 32)[1]\n",
    "Z2 = exp(θ[2]*(v₃ - v₁))*quadgk(v₂->exp(θ[1]*v₂), 0, 32)[1]\n",
    "Z3 = exp(θ[2]*(v₄ - v₂))*quadgk(v₃->exp(θ[1]*v₃), 0, 32)[1]\n",
    "Z4 = exp(θ[2]*(v₁ - v₃))*quadgk(v₄->exp(θ[1]*v₄), 0, 32)[1]\n",
    "plogl = θ[1]*(v₁ + v₂ + v₃ + v₄) - log(Z1) - log(Z2) - log(Z3) - log(Z4)\n",
    "plogl′ = log_pseudolikelihood(features, θ, vars, assignments, scopes, roadway)\n",
    "@test isapprox(plogl′, plogl, atol=1e-8)"
   ]
  },
  {
   "cell_type": "markdown",
   "metadata": {},
   "source": [
    "#### log psuedolikelihood gradient\n",
    "\n",
    "Before we compute the log pseudolikelihood gradient, we first compute the expected value: $\\mathbb{E}_{x_j \\sim p(x_j \\mid x_{-j} ; \\theta)}[f_i(x_j \\mid x_{-j})]$\n",
    "\n",
    "For $v_1$ this is:\n",
    "\n",
    "$$\n",
    "\\mathbb{E}_{v_1 \\sim p(v_1\\mid \\text{other})}[f_i(x)] = \\int_0^{32} f_i(s) p_\\theta(s) \\> dv_1 = \\frac{1}{Z_{v_1}} \\int_0^{32} f_i(s) \\tilde{p}_\\theta(s) \\> dv_1\n",
    "$$"
   ]
  },
  {
   "cell_type": "code",
   "execution_count": 16,
   "metadata": {
    "collapsed": false
   },
   "outputs": [
    {
     "data": {
      "text/plain": [
       "\u001b[1m\u001b[32mTest Passed\n",
       "\u001b[0m  Expression: isapprox(E′,E,atol=1.0e-8)"
      ]
     },
     "execution_count": 16,
     "metadata": {},
     "output_type": "execute_result"
    }
   ],
   "source": [
    "θ = Float64[1,1]\n",
    "Z1 = exp(θ[2]*(v₂ - v₄))*quadgk(v₁->exp(θ[1]*v₁), 0, 32)[1]\n",
    "E = quadgk(v₁->v₁*exp(θ[1]*v₁ + θ[2]*(v₂ - v₁) + θ[2]*(v₁ - v₄)), 0, 32)[1] / Z1\n",
    "E′ = calc_expectation_x_given_other(1, 2, features, θ, vars, assignments, roadway)\n",
    "@test isapprox(E′, E, atol=1e-8)\n",
    "E = quadgk(v₁->(v₂ - v₁)*exp(θ[1]*v₁ + θ[2]*(v₂ - v₁) + θ[2]*(v₁ - v₄)), 0, 32)[1] / Z1\n",
    "E′ = calc_expectation_x_given_other(5, 2, features, θ, vars, assignments, roadway)\n",
    "@test isapprox(E′, E, atol=1e-8)\n",
    "E = quadgk(v₁->(v₁ - v₄)*exp(θ[1]*v₁ + θ[2]*(v₂ - v₁) + θ[2]*(v₁ - v₄)), 0, 32)[1] / Z1\n",
    "E′ = calc_expectation_x_given_other(8, 2, features, θ, vars, assignments, roadway)\n",
    "@test isapprox(E′, E, atol=1e-8)"
   ]
  },
  {
   "cell_type": "code",
   "execution_count": 17,
   "metadata": {
    "collapsed": false
   },
   "outputs": [
    {
     "data": {
      "text/plain": [
       "\u001b[1m\u001b[32mTest Passed\n",
       "\u001b[0m  Expression: isapprox(E′,E,atol=1.0e-8)"
      ]
     },
     "execution_count": 17,
     "metadata": {},
     "output_type": "execute_result"
    }
   ],
   "source": [
    "srand(0)\n",
    "θ = randn(2)\n",
    "Z1 = exp(θ[2]*(v₂ - v₄))*quadgk(v₁->exp(θ[1]*v₁), 0, 32)[1]\n",
    "E = quadgk(v₁->v₁*exp(θ[1]*v₁ + θ[2]*(v₂ - v₁) + θ[2]*(v₁ - v₄)), 0, 32)[1] / Z1\n",
    "E′ = calc_expectation_x_given_other(1, 2, features, θ, vars, assignments, roadway)\n",
    "@test isapprox(E′, E, atol=1e-8)\n",
    "E = quadgk(v₁->(v₂ - v₁)*exp(θ[1]*v₁ + θ[2]*(v₂ - v₁) + θ[2]*(v₁ - v₄)), 0, 32)[1] / Z1\n",
    "E′ = calc_expectation_x_given_other(5, 2, features, θ, vars, assignments, roadway)\n",
    "@test isapprox(E′, E, atol=1e-8)\n",
    "E = quadgk(v₁->(v₁ - v₄)*exp(θ[1]*v₁ + θ[2]*(v₂ - v₁) + θ[2]*(v₁ - v₄)), 0, 32)[1] / Z1\n",
    "E′ = calc_expectation_x_given_other(8, 2, features, θ, vars, assignments, roadway)\n",
    "@test isapprox(E′, E, atol=1e-8)"
   ]
  },
  {
   "cell_type": "markdown",
   "metadata": {},
   "source": [
    "For $v_2$ this is:\n",
    "$$\n",
    "\\mathbb{E}_{v_2 \\sim p(v_2\\mid \\text{other})}[f_i(x)] = \\int_0^{32} f_i(s) p_\\theta(s) \\> dv_1 = \\frac{1}{Z_{v_1}} \\int_0^{32} f_i(s) \\tilde{p}_\\theta(s) \\> dv_1\n",
    "$$"
   ]
  },
  {
   "cell_type": "code",
   "execution_count": 18,
   "metadata": {
    "collapsed": false
   },
   "outputs": [
    {
     "data": {
      "text/plain": [
       "\u001b[1m\u001b[32mTest Passed\n",
       "\u001b[0m  Expression: isapprox(E′,E,atol=1.0e-8)"
      ]
     },
     "execution_count": 18,
     "metadata": {},
     "output_type": "execute_result"
    }
   ],
   "source": [
    "θ = Float64[1,1]\n",
    "Z2 = exp(θ[2]*(v₃ - v₁))*quadgk(v₂->exp(θ[1]*v₂), 0, 32)[1]\n",
    "E = quadgk(v₂->v₂*exp(θ[1]*v₂ + θ[2]*(v₃ - v₂) + θ[2]*(v₂ - v₁)), 0, 32)[1] / Z2\n",
    "E′ = calc_expectation_x_given_other(2, 4, features, θ, vars, assignments, roadway)\n",
    "@test isapprox(E′, E, atol=1e-8)\n",
    "E = quadgk(v₂->(v₃ - v₂)*exp(θ[1]*v₂ + θ[2]*(v₃ - v₂) + θ[2]*(v₂ - v₁)), 0, 32)[1] / Z2\n",
    "E′ = calc_expectation_x_given_other(6, 4, features, θ, vars, assignments, roadway)\n",
    "@test isapprox(E′, E, atol=1e-8)\n",
    "E = quadgk(v₂->(v₂ - v₁)*exp(θ[1]*v₂ + θ[2]*(v₃ - v₂) + θ[2]*(v₂ - v₁)), 0, 32)[1] / Z2\n",
    "E′ = calc_expectation_x_given_other(5, 4, features, θ, vars, assignments, roadway)\n",
    "@test isapprox(E′, E, atol=1e-8)"
   ]
  },
  {
   "cell_type": "markdown",
   "metadata": {},
   "source": [
    "Next we test the log pseudolikleihood gradient:\n",
    "$$\n",
    "\\frac{\\partial}{\\partial \\theta_i} \\ell_\\text{PL}(\\mathcal{D}) = \\sum_{j : x_j \\in \\text{scope}[f_i]} \\left(\\frac{1}{M}\\sum_m f_i(x_{\\cdot}^{(m)}) - \\mathbb{E}[f_i(x_j' \\mid x_{-j}^{(m)})]\\right)\n",
    "$$\n",
    "\n",
    "For $f_1$ and a single scene we get:\n",
    "$$\n",
    "\\begin{aligned}\n",
    "\\frac{\\partial}{\\partial \\theta_1} \\ell_\\text{PL}(s) \\biggr\\rvert_{f_1} & = \\sum_{j \\in \\left\\{2\\right\\}} \\left( f_1(s) - \\mathbb{E}[f_1(x_j' \\mid x_{-j})]\\right) \\\\\n",
    "& = f_1(v_1) - \\mathbb{E}[f_1(v_1)] \\\\\n",
    "& = v_1 - \\mathbb{E}[v_1]\n",
    "\\end{aligned}\n",
    "$$"
   ]
  },
  {
   "cell_type": "code",
   "execution_count": 19,
   "metadata": {
    "collapsed": false
   },
   "outputs": [
    {
     "data": {
      "text/plain": [
       "\u001b[1m\u001b[32mTest Passed\n",
       "\u001b[0m  Expression: isapprox(∂′,∂,atol=1.0e-8)"
      ]
     },
     "execution_count": 19,
     "metadata": {},
     "output_type": "execute_result"
    }
   ],
   "source": [
    "θ = Float64[1,1]\n",
    "Z1 = exp(θ[2]*(v₂ - v₄))*quadgk(v₁->exp(θ[1]*v₁), 0, 32)[1]\n",
    "E = quadgk(v₁->v₁*exp(θ[1]*v₁ + θ[2]*(v₂ - v₁) + θ[2]*(v₁ - v₄)), 0, 32)[1] / Z1\n",
    "∂ = v₁ - E\n",
    "∂′ = log_pseudolikelihood_derivative_single(1, features, θ, vars, assignments, scopes, roadway)\n",
    "@test isapprox(∂′, ∂, atol=1e-8)"
   ]
  },
  {
   "cell_type": "code",
   "execution_count": 20,
   "metadata": {
    "collapsed": false
   },
   "outputs": [
    {
     "data": {
      "text/plain": [
       "\u001b[1m\u001b[32mTest Passed\n",
       "\u001b[0m  Expression: isapprox(∂′,∂,atol=1.0e-8)"
      ]
     },
     "execution_count": 20,
     "metadata": {},
     "output_type": "execute_result"
    }
   ],
   "source": [
    "srand(0)\n",
    "θ = randn(2)\n",
    "Z1 = exp(θ[2]*(v₂ - v₄))*quadgk(v₁->exp(θ[1]*v₁), 0, 32)[1]\n",
    "E = quadgk(v₁->v₁*exp(θ[1]*v₁ + θ[2]*(v₂ - v₁) + θ[2]*(v₁ - v₄)), 0, 32)[1] / Z1\n",
    "∂ = v₁ - E\n",
    "∂′ = log_pseudolikelihood_derivative_single(1, features, θ, vars, assignments, scopes, roadway)\n",
    "@test isapprox(∂′, ∂, atol=1e-8)"
   ]
  },
  {
   "cell_type": "markdown",
   "metadata": {},
   "source": [
    "Similarly, for $f_2$ and a single scene we get:\n",
    "$$\n",
    "\\begin{aligned}\n",
    "\\frac{\\partial}{\\partial \\theta_1} \\ell_\\text{PL}(s) \\biggr\\rvert_{f_2} & = \\sum_{j \\in \\left\\{2\\right\\}} \\left( f_2(s) - \\mathbb{E}[f_2(x_j' \\mid x_{-j})]\\right) \\\\\n",
    "& = f_2(v_2) - \\mathbb{E}[f_2(v_2)] \\\\\n",
    "& = v_2 - \\mathbb{E}[v_2]\n",
    "\\end{aligned}\n",
    "$$"
   ]
  },
  {
   "cell_type": "code",
   "execution_count": 21,
   "metadata": {
    "collapsed": false
   },
   "outputs": [
    {
     "data": {
      "text/plain": [
       "\u001b[1m\u001b[32mTest Passed\n",
       "\u001b[0m  Expression: isapprox(∂′,∂,atol=1.0e-8)"
      ]
     },
     "execution_count": 21,
     "metadata": {},
     "output_type": "execute_result"
    }
   ],
   "source": [
    "θ = Float64[1,1]\n",
    "Z2 = exp(θ[2]*(v₃ - v₁))*quadgk(v₂->exp(θ[1]*v₂), 0, 32)[1]\n",
    "E = quadgk(v₂->v₂*exp(θ[1]*v₂ + θ[2]*(v₃ - v₂) + θ[2]*(v₂ - v₁)), 0, 32)[1] / Z2\n",
    "∂ = v₂ - E\n",
    "∂′ = log_pseudolikelihood_derivative_single(2, features, θ, vars, assignments, scopes, roadway)\n",
    "@test isapprox(∂′, ∂, atol=1e-8)"
   ]
  },
  {
   "cell_type": "markdown",
   "metadata": {},
   "source": [
    "In AutoScenes the above is referred to as the single derivative. The complete derivative with respect to $\\theta_1$ must consider all features it multiplies:\n",
    "\n",
    "$$\n",
    "\\frac{\\partial}{\\partial \\theta_1} \\ell_\\text{PL}(s) = \\frac{\\partial}{\\partial \\theta_1} \\ell_\\text{PL}(s) \\biggr\\rvert_{f_1} + \\frac{\\partial}{\\partial \\theta_1} \\ell_\\text{PL}(s) \\biggr\\rvert_{f_2} + \\frac{\\partial}{\\partial \\theta_1} \\ell_\\text{PL}(s) \\biggr\\rvert_{f_3} + \\frac{\\partial}{\\partial \\theta_1} \\ell_\\text{PL}(s) \\biggr\\rvert_{f_4}\n",
    "$$"
   ]
  },
  {
   "cell_type": "code",
   "execution_count": 22,
   "metadata": {
    "collapsed": false
   },
   "outputs": [
    {
     "name": "stdout",
     "output_type": "stream",
     "text": [
      "-21.00000000000041\n",
      "-19.000000000000405\n",
      "-21.00000000000041\n",
      "-23.000000000000398\n"
     ]
    },
    {
     "data": {
      "text/plain": [
       "\u001b[1m\u001b[32mTest Passed\n",
       "\u001b[0m  Expression: isapprox(∂′,∂,atol=1.0e-8)"
      ]
     },
     "execution_count": 22,
     "metadata": {},
     "output_type": "execute_result"
    }
   ],
   "source": [
    "θ = Float64[1,1]\n",
    "Z1 = exp(θ[2]*(v₂ - v₄))*quadgk(v₁->exp(θ[1]*v₁), 0, 32)[1]\n",
    "Z2 = exp(θ[2]*(v₃ - v₁))*quadgk(v₂->exp(θ[1]*v₂), 0, 32)[1]\n",
    "Z3 = exp(θ[2]*(v₄ - v₂))*quadgk(v₃->exp(θ[1]*v₃), 0, 32)[1]\n",
    "Z4 = exp(θ[2]*(v₁ - v₃))*quadgk(v₄->exp(θ[1]*v₄), 0, 32)[1]\n",
    "E1 = quadgk(v₁->v₁*exp(θ[1]*v₁ + θ[2]*(v₂ - v₁) + θ[2]*(v₁ - v₄)), 0, 32)[1] / Z1\n",
    "E2 = quadgk(v₂->v₂*exp(θ[1]*v₂ + θ[2]*(v₃ - v₂) + θ[2]*(v₂ - v₁)), 0, 32)[1] / Z2\n",
    "E3 = quadgk(v₃->v₃*exp(θ[1]*v₃ + θ[2]*(v₄ - v₃) + θ[2]*(v₃ - v₂)), 0, 32)[1] / Z3\n",
    "E4 = quadgk(v₄->v₄*exp(θ[1]*v₄ + θ[2]*(v₁ - v₄) + θ[2]*(v₄ - v₃)), 0, 32)[1] / Z4\n",
    "∂ = (v₁ - E1) + (v₂ - E2) + (v₃ - E3) + (v₄ - E4)\n",
    "∂′ = log_pseudolikelihood_derivative_complete(1, features, θ, vars, assignments, scopes, roadway)\n",
    "@test isapprox(∂′, ∂, atol=1e-8)"
   ]
  },
  {
   "cell_type": "code",
   "execution_count": 23,
   "metadata": {
    "collapsed": false
   },
   "outputs": [
    {
     "name": "stdout",
     "output_type": "stream",
     "text": [
      "-20.52747893229806\n",
      "-18.52747893229806\n",
      "-20.527478932298067\n",
      "-22.527478932298067\n"
     ]
    },
    {
     "data": {
      "text/plain": [
       "\u001b[1m\u001b[32mTest Passed\n",
       "\u001b[0m  Expression: isapprox(∂′,∂,atol=1.0e-8)"
      ]
     },
     "execution_count": 23,
     "metadata": {},
     "output_type": "execute_result"
    }
   ],
   "source": [
    "srand(0)\n",
    "θ = randn(2)\n",
    "Z1 = exp(θ[2]*(v₂ - v₄))*quadgk(v₁->exp(θ[1]*v₁), 0, 32)[1]\n",
    "Z2 = exp(θ[2]*(v₃ - v₁))*quadgk(v₂->exp(θ[1]*v₂), 0, 32)[1]\n",
    "Z3 = exp(θ[2]*(v₄ - v₂))*quadgk(v₃->exp(θ[1]*v₃), 0, 32)[1]\n",
    "Z4 = exp(θ[2]*(v₁ - v₃))*quadgk(v₄->exp(θ[1]*v₄), 0, 32)[1]\n",
    "E1 = quadgk(v₁->v₁*exp(θ[1]*v₁ + θ[2]*(v₂ - v₁) + θ[2]*(v₁ - v₄)), 0, 32)[1] / Z1\n",
    "E2 = quadgk(v₂->v₂*exp(θ[1]*v₂ + θ[2]*(v₃ - v₂) + θ[2]*(v₂ - v₁)), 0, 32)[1] / Z2\n",
    "E3 = quadgk(v₃->v₃*exp(θ[1]*v₃ + θ[2]*(v₄ - v₃) + θ[2]*(v₃ - v₂)), 0, 32)[1] / Z3\n",
    "E4 = quadgk(v₄->v₄*exp(θ[1]*v₄ + θ[2]*(v₁ - v₄) + θ[2]*(v₄ - v₃)), 0, 32)[1] / Z4\n",
    "∂ = (v₁ - E1) + (v₂ - E2) + (v₃ - E3) + (v₄ - E4)\n",
    "∂′ = log_pseudolikelihood_derivative_complete(1, features, θ, vars, assignments, scopes, roadway)\n",
    "@test isapprox(∂′, ∂, atol=1e-8)"
   ]
  },
  {
   "cell_type": "markdown",
   "metadata": {},
   "source": [
    "The gradient for $\\theta_2$ is:\n",
    "\n",
    "$$\n",
    "\\frac{\\partial}{\\partial \\theta_2} \\ell_\\text{PL}(s) = \\frac{\\partial}{\\partial \\theta_2} \\ell_\\text{PL}(s) \\biggr\\rvert_{f_5} + \\frac{\\partial}{\\partial \\theta_2} \\ell_\\text{PL}(s) \\biggr\\rvert_{f_6} + \\frac{\\partial}{\\partial \\theta_2} \\ell_\\text{PL}(s) \\biggr\\rvert_{f_7} + \\frac{\\partial}{\\partial \\theta_2} \\ell_\\text{PL}(s) \\biggr\\rvert_{f_8}\n",
    "$$\n",
    "\n",
    "where the first term is:\n",
    "$$\n",
    "\\begin{aligned}\n",
    "\\frac{\\partial}{\\partial \\theta_2} \\ell_\\text{PL}(s) \\biggr\\rvert_{f_5} & = \\sum_{j \\in \\left\\{2,4\\right\\}} \\left( f_5(s) - \\mathbb{E}[f_5(x_j' \\mid x_{-j})]\\right) \\\\\n",
    "& = 2f_5(v_1, v_2) - \\mathbb{E}[f_5(v_1 \\mid v_2)]  - \\mathbb{E}[f_5(v_2 \\mid v_1)] \\\\\n",
    "& = 2(v_2 - v_1) - \\mathbb{E}[f_5(v_1 \\mid v_2)]  - \\mathbb{E}[f_5(v_2 \\mid v_1)]\n",
    "\\end{aligned}\n",
    "$$"
   ]
  },
  {
   "cell_type": "code",
   "execution_count": 27,
   "metadata": {
    "collapsed": false
   },
   "outputs": [
    {
     "data": {
      "text/plain": [
       "\u001b[1m\u001b[32mTest Passed\n",
       "\u001b[0m  Expression: isapprox(∂′,∂,atol=1.0e-8)"
      ]
     },
     "execution_count": 27,
     "metadata": {},
     "output_type": "execute_result"
    }
   ],
   "source": [
    "θ = Float64[1,1]\n",
    "Z1 = exp(θ[2]*(v₂ - v₄))*quadgk(v₁->exp(θ[1]*v₁), 0, 32)[1]\n",
    "Z2 = exp(θ[2]*(v₃ - v₁))*quadgk(v₂->exp(θ[1]*v₂), 0, 32)[1]\n",
    "E1 = quadgk(v₁->(v₂ - v₁)*exp(θ[1]*v₁ + θ[2]*(v₂ - v₁) + θ[2]*(v₁ - v₄)), 0, 32)[1] / Z1\n",
    "E2 = quadgk(v₂->(v₂ - v₁)*exp(θ[1]*v₂ + θ[2]*(v₃ - v₂) + θ[2]*(v₂ - v₁)), 0, 32)[1] / Z2\n",
    "∂ = 2(v₂ - v₁) - E1 - E2\n",
    "∂′ = log_pseudolikelihood_derivative_single(5, features, θ, vars, assignments, scopes, roadway)\n",
    "@test isapprox(∂′, ∂, atol=1e-8)"
   ]
  },
  {
   "cell_type": "code",
   "execution_count": 28,
   "metadata": {
    "collapsed": false
   },
   "outputs": [
    {
     "data": {
      "text/plain": [
       "\u001b[1m\u001b[32mTest Passed\n",
       "\u001b[0m  Expression: isapprox(∂′,∂,atol=1.0e-8)"
      ]
     },
     "execution_count": 28,
     "metadata": {},
     "output_type": "execute_result"
    }
   ],
   "source": [
    "srand(0)\n",
    "θ = randn(2)\n",
    "θ = Float64[1,1]\n",
    "Z1 = exp(θ[2]*(v₂ - v₄))*quadgk(v₁->exp(θ[1]*v₁), 0, 32)[1]\n",
    "Z2 = exp(θ[2]*(v₃ - v₁))*quadgk(v₂->exp(θ[1]*v₂), 0, 32)[1]\n",
    "E1 = quadgk(v₁->(v₂ - v₁)*exp(θ[1]*v₁ + θ[2]*(v₂ - v₁) + θ[2]*(v₁ - v₄)), 0, 32)[1] / Z1\n",
    "E2 = quadgk(v₂->(v₂ - v₁)*exp(θ[1]*v₂ + θ[2]*(v₃ - v₂) + θ[2]*(v₂ - v₁)), 0, 32)[1] / Z2\n",
    "∂ = 2(v₂ - v₁) - E1 - E2\n",
    "∂′ = log_pseudolikelihood_derivative_single(5, features, θ, vars, assignments, scopes, roadway)\n",
    "@test isapprox(∂′, ∂, atol=1e-8)"
   ]
  }
 ],
 "metadata": {
  "kernelspec": {
   "display_name": "Julia 0.5.0",
   "language": "julia",
   "name": "julia-0.5"
  },
  "language_info": {
   "file_extension": ".jl",
   "mimetype": "application/julia",
   "name": "julia",
   "version": "0.5.0"
  }
 },
 "nbformat": 4,
 "nbformat_minor": 2
}

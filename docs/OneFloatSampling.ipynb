{
 "cells": [
  {
   "cell_type": "markdown",
   "metadata": {},
   "source": [
    "# One Float Sampling\n",
    "\n",
    "This notebook tests Metropolis-Hastings on the one-float problem."
   ]
  },
  {
   "cell_type": "code",
   "execution_count": 1,
   "metadata": {
    "collapsed": false
   },
   "outputs": [],
   "source": [
    "using AutomotiveDrivingModels\n",
    "using AutoScenes\n",
    "using Base.Test"
   ]
  },
  {
   "cell_type": "code",
   "execution_count": 2,
   "metadata": {
    "collapsed": true
   },
   "outputs": [],
   "source": [
    "const FloatScene = Frame{Entity{Float64, Void, Int}};\n",
    "function AutoScenes.Vars(scene::FloatScene, roadway::Void)\n",
    "    x = scene[1].state\n",
    "    return Vars(Float64[x], # vector containing the one variable\n",
    "                [StateBounds(-x, 1-x)], # bounds are deltas so we can vary x by this much to remain in [0,1]\n",
    "                [:x], # variable symbol\n",
    "                [1])  # index of entity in the scene\n",
    "end\n",
    "function f1(\n",
    "    vars::Vars,\n",
    "    assignment::Assignment, # indeces of variables in vars\n",
    "    roadway::Void,\n",
    "    )::Float64\n",
    "\n",
    "    return vars.values[assignment[1]] < 0.5\n",
    "end\n",
    "function f2(\n",
    "    vars::Vars,\n",
    "    assignment::Assignment, # indeces of variables in vars\n",
    "    roadway::Void,\n",
    "    )::Float64\n",
    "\n",
    "    return vars.values[assignment[1]] ≥ 0.5\n",
    "end;\n",
    "function AutoScenes.assign_feature{F <: typeof(f1), Void}(\n",
    "    f::F,\n",
    "    scene::FloatScene,\n",
    "    roadway::Void,\n",
    "    vars::Vars,\n",
    "    )\n",
    "\n",
    "    return Assignment[(1,)]\n",
    "end\n",
    "function AutoScenes.assign_feature{F <: typeof(f2), Void}(\n",
    "    f::F,\n",
    "    scene::FloatScene,\n",
    "    roadway::Void,\n",
    "    vars::Vars,\n",
    "    )\n",
    "\n",
    "    return Assignment[(1,)]\n",
    "end;\n",
    "\n",
    "roadway = nothing\n",
    "scenes = [\n",
    "    FloatScene([Entity{Float64,Void,Int}(0.0,roadway,1)], 1),\n",
    "    FloatScene([Entity{Float64,Void,Int}(1/4,roadway,1)], 1),\n",
    "    FloatScene([Entity{Float64,Void,Int}(3/4,roadway,1)], 1),\n",
    "    FloatScene([Entity{Float64,Void,Int}(3/4,roadway,1)], 1),\n",
    "    FloatScene([Entity{Float64,Void,Int}(3/4,roadway,1)], 1),\n",
    "    FloatScene([Entity{Float64,Void,Int}(1.0,roadway,1)], 1),\n",
    "]\n",
    "features = (f1, f2)\n",
    "factorgraphs = [FactorGraph(features, scene, roadway) for scene in scenes];\n",
    "model = FactorModel(features, [1.0,1.0]);"
   ]
  },
  {
   "cell_type": "code",
   "execution_count": 3,
   "metadata": {
    "collapsed": false
   },
   "outputs": [
    {
     "data": {
      "text/plain": [
       "FactorGraphSceneGenerator(burnin=1000)"
      ]
     },
     "execution_count": 3,
     "metadata": {},
     "output_type": "execute_result"
    }
   ],
   "source": [
    "gen = FactorGraphSceneGenerator(model, Dict(:x => Normal(0.0,1.0)), 1000)"
   ]
  },
  {
   "cell_type": "code",
   "execution_count": 4,
   "metadata": {
    "collapsed": false
   },
   "outputs": [
    {
     "data": {
      "text/plain": [
       "([0.0], 1.0)"
      ]
     },
     "execution_count": 4,
     "metadata": {},
     "output_type": "execute_result"
    }
   ],
   "source": [
    "factorgraph = factorgraphs[1]\n",
    "a = zeros(length(factorgraph.vars))\n",
    "b = similar(a)\n",
    "logPtilde_a = begin\n",
    "    factorgraph.vars.values .+= a\n",
    "    logPtilde_a = log_ptilde(gen.model.features, gen.model.weights, factorgraph.vars,\n",
    "        factorgraph.assignments, factorgraph.roadway)\n",
    "    factorgraph.vars.values .-= a\n",
    "    return logPtilde_a\n",
    "end\n",
    "\n",
    "srand(0)\n",
    "(a, logPtilde_a) = metropolis_hastings_step!(gen, factorgraph, a, b, logPtilde_a)"
   ]
  },
  {
   "cell_type": "code",
   "execution_count": 5,
   "metadata": {
    "collapsed": false
   },
   "outputs": [
    {
     "data": {
      "text/plain": [
       "1-element Array{Float64,1}:\n",
       " 0.998656"
      ]
     },
     "execution_count": 5,
     "metadata": {},
     "output_type": "execute_result"
    }
   ],
   "source": [
    "metropolis_hastings!(gen, factorgraph)"
   ]
  },
  {
   "cell_type": "code",
   "execution_count": 10,
   "metadata": {
    "collapsed": false
   },
   "outputs": [
    {
     "ename": "StackOverflowError",
     "evalue": "\u001b[91mStackOverflowError:\u001b[39m",
     "output_type": "error",
     "traceback": [
      "\u001b[91mStackOverflowError:\u001b[39m",
      "",
      "Stacktrace:",
      " [1] \u001b[1mshow\u001b[22m\u001b[22m\u001b[1m(\u001b[22m\u001b[22m::IOContext{Base.AbstractIOBuffer{Array{UInt8,1}}}, ::MIME{Symbol(\"image/svg+xml\")}, ::TikzPictures.TikzPicture\u001b[1m)\u001b[22m\u001b[22m at \u001b[1m/home/tim/.julia/v0.6/PGFPlots/src/PGFPlots.jl:712\u001b[22m\u001b[22m (repeats 80000 times)"
     ]
    }
   ],
   "source": [
    "samples = Array{Float64}(1000)\n",
    "for i in 1 : length(samples)\n",
    "    samples[i] = metropolis_hastings!(gen, factorgraph)[1]\n",
    "end\n",
    "using PGFPlots\n",
    "Axis(Plots.Histogram(samples, discretization=:specified), ymin=0)"
   ]
  },
  {
   "cell_type": "code",
   "execution_count": 7,
   "metadata": {
    "collapsed": false
   },
   "outputs": [
    {
     "data": {
      "text/plain": [
       "\u001b[1m\u001b[32mTest Passed\n",
       "\u001b[39m\u001b[22m"
      ]
     },
     "execution_count": 7,
     "metadata": {},
     "output_type": "execute_result"
    }
   ],
   "source": [
    "Plo = count(samples .< 0.5)/length(samples)\n",
    "@test isapprox(Plo, 0.5, atol=0.01)"
   ]
  },
  {
   "cell_type": "code",
   "execution_count": 12,
   "metadata": {
    "collapsed": false
   },
   "outputs": [
    {
     "data": {
      "text/plain": [
       "1000-element Array{Float64,1}:\n",
       " 0.128752\n",
       " 0.65427 \n",
       " 0.558814\n",
       " 0.94582 \n",
       " 0.802543\n",
       " 0.274318\n",
       " 0.855546\n",
       " 0.274562\n",
       " 0.891642\n",
       " 0.936697\n",
       " 0.68031 \n",
       " 0.297351\n",
       " 0.634778\n",
       " ⋮       \n",
       " 0.598059\n",
       " 0.587871\n",
       " 0.760793\n",
       " 0.748314\n",
       " 0.543621\n",
       " 0.616776\n",
       " 0.475922\n",
       " 0.57919 \n",
       " 0.224675\n",
       " 0.601805\n",
       " 0.0531  \n",
       " 0.623853"
      ]
     },
     "execution_count": 12,
     "metadata": {},
     "output_type": "execute_result"
    }
   ],
   "source": [
    "model = FactorModel(features, [1.0,2.0])\n",
    "gen = FactorGraphSceneGenerator(model, Dict(:x => Normal(0.0,1.0)), 1000)\n",
    "samples = Array{Float64}(1000)\n",
    "for i in 1 : length(samples)\n",
    "    samples[i] = metropolis_hastings!(gen, factorgraph)[1]\n",
    "end\n",
    "using PGFPlots\n",
    "Axis(Plots.Histogram(samples, discretization=:specified), ymin=0)"
   ]
  },
  {
   "cell_type": "code",
   "execution_count": 9,
   "metadata": {
    "collapsed": false
   },
   "outputs": [
    {
     "data": {
      "text/plain": [
       "\u001b[1m\u001b[32mTest Passed\n",
       "\u001b[39m\u001b[22m"
      ]
     },
     "execution_count": 9,
     "metadata": {},
     "output_type": "execute_result"
    }
   ],
   "source": [
    "P_target = exp(1) / (exp(2) + exp(1))\n",
    "Plo = count(samples .< 0.5)/length(samples)\n",
    "@test isapprox(P_target, P_target, atol=0.01)"
   ]
  },
  {
   "cell_type": "code",
   "execution_count": null,
   "metadata": {
    "collapsed": true
   },
   "outputs": [],
   "source": []
  }
 ],
 "metadata": {
  "kernelspec": {
   "display_name": "Julia 0.6.0",
   "language": "julia",
   "name": "julia-0.6"
  },
  "language_info": {
   "file_extension": ".jl",
   "mimetype": "application/julia",
   "name": "julia",
   "version": "0.6.0"
  },
  "widgets": {
   "state": {},
   "version": "2.0.10"
  }
 },
 "nbformat": 4,
 "nbformat_minor": 2
}

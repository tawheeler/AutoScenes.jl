{
 "cells": [
  {
   "cell_type": "code",
   "execution_count": 1,
   "metadata": {},
   "outputs": [
    {
     "name": "stderr",
     "output_type": "stream",
     "text": [
      "\u001b[1m\u001b[36mINFO: \u001b[39m\u001b[22m\u001b[36mRecompiling stale cache file /home/tim/.julia/lib/v0.6/AutoScenes.ji for module AutoScenes.\n",
      "\u001b[39m"
     ]
    }
   ],
   "source": [
    "using AutomotiveDrivingModels\n",
    "using AutoScenes\n",
    "using Base.Test"
   ]
  },
  {
   "cell_type": "code",
   "execution_count": 2,
   "metadata": {},
   "outputs": [],
   "source": [
    "const FloatScene = Frame{Entity{Float64, Void, Int}};\n",
    "function AutoScenes.Vars(scene::FloatScene, roadway::Void)\n",
    "    x = scene[1].state\n",
    "    return Vars(Float64[x], # vector containing the one variable\n",
    "                [StateBounds(-x, 1-x)], # bounds are deltas so we can vary x by this much to remain in [0,1]\n",
    "                [:x], # variable symbol\n",
    "                [1])  # index of entity in the scene\n",
    "end\n",
    "function f1(\n",
    "    vars::Vars,\n",
    "    assignment::Assignment, # indeces of variables in vars\n",
    "    roadway::Void,\n",
    "    )::Float64\n",
    "\n",
    "    return vars.values[assignment[1]] < 0.5\n",
    "end\n",
    "function f2(\n",
    "    vars::Vars,\n",
    "    assignment::Assignment, # indeces of variables in vars\n",
    "    roadway::Void,\n",
    "    )::Float64\n",
    "\n",
    "    return vars.values[assignment[1]] ≥ 0.5\n",
    "end;\n",
    "function AutoScenes.assign_feature{F <: typeof(f1), Void}(\n",
    "    f::F,\n",
    "    scene::FloatScene,\n",
    "    roadway::Void,\n",
    "    vars::Vars,\n",
    "    )\n",
    "\n",
    "    return Assignment[(1,0)]\n",
    "end\n",
    "function AutoScenes.assign_feature{F <: typeof(f2), Void}(\n",
    "    f::F,\n",
    "    scene::FloatScene,\n",
    "    roadway::Void,\n",
    "    vars::Vars,\n",
    "    )\n",
    "\n",
    "    return Assignment[(1,0)]\n",
    "end;\n",
    "\n",
    "roadway = nothing\n",
    "scenes = [\n",
    "    FloatScene([Entity{Float64,Void,Int}(0.0,roadway,1)], 1),\n",
    "    FloatScene([Entity{Float64,Void,Int}(1/4,roadway,1)], 1),\n",
    "    FloatScene([Entity{Float64,Void,Int}(3/4,roadway,1)], 1),\n",
    "    FloatScene([Entity{Float64,Void,Int}(3/4,roadway,1)], 1),\n",
    "    FloatScene([Entity{Float64,Void,Int}(3/4,roadway,1)], 1),\n",
    "    FloatScene([Entity{Float64,Void,Int}(1.0,roadway,1)], 1),\n",
    "]\n",
    "features = (f1, f2)\n",
    "factorgraphs = [FactorGraph(features, scene, roadway) for scene in scenes];\n",
    "model = FactorModel(features, [1.0,1.0]);"
   ]
  },
  {
   "cell_type": "code",
   "execution_count": 3,
   "metadata": {},
   "outputs": [
    {
     "data": {
      "text/plain": [
       "FactorGraphSceneGenerator(burnin=10)"
      ]
     },
     "execution_count": 3,
     "metadata": {},
     "output_type": "execute_result"
    }
   ],
   "source": [
    "gen = FactorGraphSceneGenerator(model, Dict(:x => Normal(0.0,1.0)), 10)"
   ]
  },
  {
   "cell_type": "code",
   "execution_count": 4,
   "metadata": {},
   "outputs": [
    {
     "name": "stdout",
     "output_type": "stream",
     "text": [
      "[0.679107]\n"
     ]
    },
    {
     "data": {
      "text/plain": [
       "([0.0], 1.0)"
      ]
     },
     "execution_count": 4,
     "metadata": {},
     "output_type": "execute_result"
    }
   ],
   "source": [
    "factorgraph = factorgraphs[1]\n",
    "a = zeros(length(factorgraph.vars))\n",
    "b = similar(a)\n",
    "logPtilde_a = begin\n",
    "    factorgraph.vars.values .+= a\n",
    "    logPtilde_a = log_ptilde(gen.model.features, gen.model.weights, factorgraph.vars,\n",
    "        factorgraph.assignments, factorgraph.roadway)\n",
    "    factorgraph.vars.values .-= a\n",
    "    return logPtilde_a\n",
    "end\n",
    "\n",
    "srand(0)\n",
    "(a, logPtilde_a) = metropolis_hastings_step!(gen, factorgraph, a, b, logPtilde_a)"
   ]
  },
  {
   "cell_type": "code",
   "execution_count": 5,
   "metadata": {},
   "outputs": [
    {
     "name": "stdout",
     "output_type": "stream",
     "text": [
      "n_steps: 10\n",
      "[0.586617]\n",
      "[0.586617]\n",
      "[0.651565]\n",
      "[0.651565]\n",
      "[0.137354]\n",
      "[0.137354]\n",
      "[0.534837]\n",
      "[0.534837]\n",
      "[0.188482]\n",
      "[0.188482]\n",
      "[0.408176]\n",
      "[0.408176]\n",
      "[0.319559]\n",
      "[0.319559]\n",
      "[0.430981]\n",
      "[0.430981]\n",
      "[0.904695]\n",
      "[0.904695]\n",
      "[0.142018]\n",
      "[0.142018]\n"
     ]
    },
    {
     "data": {
      "text/plain": [
       "1-element Array{Float64,1}:\n",
       " 0.142018"
      ]
     },
     "execution_count": 5,
     "metadata": {},
     "output_type": "execute_result"
    }
   ],
   "source": [
    "metropolis_hastings!(gen, factorgraph)"
   ]
  },
  {
   "cell_type": "code",
   "execution_count": null,
   "metadata": {
    "collapsed": true
   },
   "outputs": [],
   "source": []
  }
 ],
 "metadata": {
  "kernelspec": {
   "display_name": "Julia 0.6.0",
   "language": "julia",
   "name": "julia-0.6"
  },
  "language_info": {
   "file_extension": ".jl",
   "mimetype": "application/julia",
   "name": "julia",
   "version": "0.6.0"
  }
 },
 "nbformat": 4,
 "nbformat_minor": 2
}

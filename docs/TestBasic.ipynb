{
 "cells": [
  {
   "cell_type": "markdown",
   "metadata": {},
   "source": [
    "# Test Basic"
   ]
  },
  {
   "cell_type": "code",
   "execution_count": 1,
   "metadata": {
    "collapsed": false
   },
   "outputs": [
    {
     "name": "stderr",
     "output_type": "stream",
     "text": [
      "INFO: Recompiling stale cache file /home/tim/.julia/lib/v0.4/AutoScenes.ji for module AutoScenes.\n"
     ]
    }
   ],
   "source": [
    "using AutomotiveDrivingModels\n",
    "using AutoScenes\n",
    "using AutoViz\n",
    "using Base.Test"
   ]
  },
  {
   "cell_type": "code",
   "execution_count": 2,
   "metadata": {
    "collapsed": false
   },
   "outputs": [
    {
     "data": {
      "image/png": "[encoded data removed]",
      "text/plain": [
       "Cairo.CairoSurface{UInt32}(Ptr{Void} @0x0000000004344310,1000.0,150.0,#undef)"
      ]
     },
     "execution_count": 2,
     "metadata": {},
     "output_type": "execute_result"
    }
   ],
   "source": [
    "roadway = gen_straight_roadway(1)\n",
    "scene = Scene([\n",
    "    Vehicle(VehicleState(VecSE2(100.0,0.0,0.0), roadway, 1.0), VehicleDef(1, AgentClass.CAR, 4.0, 2.0)),\n",
    "    Vehicle(VehicleState(VecSE2(108.0,0.0,0.0), roadway, 2.0), VehicleDef(2, AgentClass.CAR, 4.0, 2.0)),\n",
    "])\n",
    "render(scene, roadway, cam=SceneFollowCamera(20.0), canvas_height=150)"
   ]
  },
  {
   "cell_type": "code",
   "execution_count": 3,
   "metadata": {
    "collapsed": false
   },
   "outputs": [
    {
     "data": {
      "image/png": "[encoded data removed]",
      "text/plain": [
       "Cairo.CairoSurface{UInt32}(Ptr{Void} @0x00000000046a42a0,1000.0,150.0,#undef)"
      ]
     },
     "execution_count": 3,
     "metadata": {},
     "output_type": "execute_result"
    }
   ],
   "source": [
    "structure = SceneStructure([\n",
    "    FactorAssignment(FeatureForms.ROAD, [1]),\n",
    "    FactorAssignment(FeatureForms.ROAD, [2]),\n",
    "    FactorAssignment(FeatureForms.FOLLOW, [1,2]),\n",
    "    ], Set{Int}([1,2]), LeadFollowRelationships([2,0], [0,1]))\n",
    "overlays = SceneOverlay[Overwash(RGBA(1.0,1.0,1.0,0.7)), SceneStructureOverlay(structure)]\n",
    "render(scene, roadway, overlays, cam=SceneFollowCamera(20.0), canvas_height=150)"
   ]
  },
  {
   "cell_type": "code",
   "execution_count": 4,
   "metadata": {
    "collapsed": false
   },
   "outputs": [
    {
     "data": {
      "text/plain": [
       "1"
      ]
     },
     "execution_count": 4,
     "metadata": {},
     "output_type": "execute_result"
    }
   ],
   "source": [
    "vehdefs = Dict{Int, VehicleDef}()\n",
    "vehdefs[1] = scene[1].def\n",
    "vehdefs[2] = scene[2].def\n",
    "\n",
    "states = [TrajdataState(1, scene[1].state),\n",
    "          TrajdataState(2, scene[2].state)]\n",
    "\n",
    "frames = [TrajdataFrame(1,2,0.0)]\n",
    "\n",
    "dset = SceneStructureDataset(\n",
    "    [Trajdata(roadway, vehdefs, states, frames)],\n",
    "    [AutoScenes.SceneSource(1, 1)],\n",
    "    [structure],\n",
    "    create_shared_factors(),\n",
    ")\n",
    "\n",
    "length(dset)"
   ]
  },
  {
   "cell_type": "code",
   "execution_count": 5,
   "metadata": {
    "collapsed": false
   },
   "outputs": [],
   "source": [
    "ϕ_road = dset.factors[1] # shared factor\n",
    "vehicle_indeces = [1]\n",
    "extract!(ϕ_road, scene, roadway, vehicle_indeces)\n",
    "@test ϕ_road.template.values == [1.0]\n",
    "@test evaluate(ϕ_road.template, ϕ_road.instances[1]) == 1.0\n",
    "@test evaluate(ϕ_road.template, ϕ_road.instances[2]) == 1.0^2\n",
    "@test evaluate_dot(ϕ_road) == 1.1"
   ]
  },
  {
   "cell_type": "code",
   "execution_count": 6,
   "metadata": {
    "collapsed": false
   },
   "outputs": [],
   "source": [
    "vehicle_indeces = [2]\n",
    "extract!(ϕ_road, scene, roadway, vehicle_indeces)\n",
    "@test ϕ_road.template.values == [2.0]\n",
    "@test evaluate(ϕ_road.template, ϕ_road.instances[1]) == 2.0\n",
    "@test evaluate(ϕ_road.template, ϕ_road.instances[2]) == 2.0^2\n",
    "@test evaluate_dot(ϕ_road) == 2.4"
   ]
  },
  {
   "cell_type": "code",
   "execution_count": 7,
   "metadata": {
    "collapsed": false
   },
   "outputs": [],
   "source": [
    "ϕ_follow = dset.factors[2] # shared factor\n",
    "vehicle_indeces = [1,2]\n",
    "extract!(ϕ_follow, scene, roadway, vehicle_indeces)\n",
    "@test ϕ_follow.template.values == [1.0]\n",
    "@test evaluate(ϕ_follow.template, ϕ_follow.instances[1]) == 1.0\n",
    "@test evaluate_dot(ϕ_follow) == 1.0"
   ]
  },
  {
   "cell_type": "code",
   "execution_count": 8,
   "metadata": {
    "collapsed": false
   },
   "outputs": [],
   "source": [
    "@test evaluate_dot!(structure, dset.factors, scene, roadway, SceneRecord(1,0.1)) == 4.5"
   ]
  },
  {
   "cell_type": "code",
   "execution_count": 9,
   "metadata": {
    "collapsed": false
   },
   "outputs": [],
   "source": [
    "plog = calc_pseudolikelihood(dset, dat = PseudolikelihoodPrealloc(100000))\n",
    "@test isapprox(plog, -0.40484, atol=0.001)"
   ]
  },
  {
   "cell_type": "code",
   "execution_count": 10,
   "metadata": {
    "collapsed": false
   },
   "outputs": [],
   "source": [
    "grad = calc_pseudolikelihood_gradient(FeatureForms.ROAD, 1, dset, 1, 100000, 0.0)\n",
    "@test isapprox(grad, 0.35208, atol=0.005)"
   ]
  },
  {
   "cell_type": "code",
   "execution_count": null,
   "metadata": {
    "collapsed": true
   },
   "outputs": [],
   "source": []
  }
 ],
 "metadata": {
  "kernelspec": {
   "display_name": "Julia 0.4.6",
   "language": "julia",
   "name": "julia-0.4"
  },
  "language_info": {
   "file_extension": ".jl",
   "mimetype": "application/julia",
   "name": "julia",
   "version": "0.4.6"
  }
 },
 "nbformat": 4,
 "nbformat_minor": 0
}

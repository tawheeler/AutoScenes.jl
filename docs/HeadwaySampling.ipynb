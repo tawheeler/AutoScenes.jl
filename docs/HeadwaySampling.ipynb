{
 "cells": [
  {
   "cell_type": "code",
   "execution_count": 1,
   "metadata": {
    "collapsed": false
   },
   "outputs": [],
   "source": [
    "using AutomotiveDrivingModels\n",
    "using AutoScenes\n",
    "using AutoViz\n",
    "using Base.Test"
   ]
  },
  {
   "cell_type": "code",
   "execution_count": 2,
   "metadata": {
    "collapsed": false
   },
   "outputs": [
    {
     "data": {
      "image/png": "[encoded data removed]",
      "text/plain": [
       "Cairo.CairoSurface{UInt32}(Ptr{Void} @0x00000000036af040, 1000.0, 100.0, #undef)"
      ]
     },
     "execution_count": 2,
     "metadata": {},
     "output_type": "execute_result"
    }
   ],
   "source": [
    "const Vehicle1D = Entity{PosSpeed1D, BoundingBoxDef, Int}\n",
    "const Scene1D = Frame{Vehicle1D};\n",
    "def = BoundingBoxDef(AgentClass.CAR, 4.0, 2.0)\n",
    "roadway = Straight1DRoadway(50.0)\n",
    "scene = Frame([\n",
    "    Vehicle1D(PosSpeed1D(5.0,10.0), def, 1),\n",
    "    Vehicle1D(PosSpeed1D(18.0,12.0), def, 2),\n",
    "    Vehicle1D(PosSpeed1D(26.0,10.0), def, 3),\n",
    "    Vehicle1D(PosSpeed1D(45.0, 8.0), def, 4),\n",
    "])\n",
    "render(scene, roadway, cam=StaticCamera(VecE2(25.0,0.0), 18.0), canvas_height=100)"
   ]
  },
  {
   "cell_type": "markdown",
   "metadata": {},
   "source": [
    "We have to be careful with the $s$-coordinate to ensure independence.\n",
    "\n",
    "### Local Parameterization\n",
    "The naive local parameterization is to allow $s_2 \\in [5+4, 26-4]$ and allow $s_3 \\in [26+4, 45-4]$. These bounds work assuming the other position is _fixed_.\n",
    "\n",
    "### Global Parameterization\n",
    "To achieve truly valid position ranged with need one car's position to be dependent on the other car's position.\n",
    "Let $\\alpha_2 \\in [0,1]$ and $\\alpha_3 \\in [0,1]$. Then we can define each car's position according to:\n",
    "$$\n",
    "\\begin{aligned}\n",
    "s_2 & = \\text{lerp}(5+4, 45 - 4 - 4, \\alpha_2) \\\\\n",
    "s_3 & = \\text{lerp}(s_2+4, 45 - 4, \\alpha_3)\n",
    "\\end{aligned}\n",
    "$$\n",
    "\n",
    "Note that the position of car 1 only depends on $\\alpha_2$ but the position of car two depends on both $\\alpha_2$ and $\\alpha_3$.\n",
    "\n",
    "The headway is not merely a function of $\\alpha_\\text{fore}$:\n",
    "$$\n",
    "\\begin{aligned}\n",
    "\\text{headway} & = s_\\text{fore} - s_\\text{rear} - 4 \\\\\n",
    "& = \\text{lerp}(s_\\text{rear} + 4, b_\\text{fore}, \\alpha_\\text{fore}) - s_\\text{rear} - 4 \\\\\n",
    "& = s_\\text{rear} + 4 + \\alpha_\\text{fore}(b_\\text{fore} - s_\\text{rear} + 4)  - s_\\text{rear} - 4\\\\\n",
    "& = \\alpha_\\text{fore} (b_\\text{fore} - s_\\text{rear} + 4)\n",
    "\\end{aligned}\n",
    "$$\n",
    "\n",
    "Unfortunately, it requires $s_\\text{rear}$, which depends on previous values of $\\alpha$. As such, the headway is dependent on _all values_ of alpha up to and including $\\alpha_\\text{fore}$.\n",
    "\n",
    "We _could_ get around this by having a big features but run into another problem: the features require additional information from the scene in order to back out $s$. Above, we need $b_\\text{fore}$ and to get the first vehicle we need $a_1$. This is without considering vehicle lengths."
   ]
  },
  {
   "cell_type": "code",
   "execution_count": 3,
   "metadata": {
    "collapsed": false
   },
   "outputs": [
    {
     "data": {
      "text/plain": [
       "\u001b[1m\u001b[32mTest Passed\n",
       "\u001b[39m\u001b[22m"
      ]
     },
     "execution_count": 3,
     "metadata": {},
     "output_type": "execute_result"
    }
   ],
   "source": [
    "function AutoScenes.Vars(scene::Scene1D, roadway::Straight1DRoadway)\n",
    "\n",
    "    n = length(scene)\n",
    "    m = max(0,n-2)\n",
    "    vars = Vars(Array{Float64}(m),\n",
    "                Array{StateBounds}(m),\n",
    "                Array{Symbol}(m),\n",
    "                Array{Int}(m))\n",
    "\n",
    "    lead_follow = LeadFollowRelationships(scene, roadway)\n",
    "\n",
    "    # sort the s-positions from lowest to greatest\n",
    "    arr_s = [veh.state.s for veh in scene]\n",
    "    p = sortperm(arr_s)\n",
    "    \n",
    "    # introduce one variable for each moveable car\n",
    "    for i in 1 : m\n",
    "        \n",
    "        hL_ego = scene[p[i+1]].def.len/2\n",
    "        lo = arr_s[p[i]] + hL_ego + scene[p[i]].def.len/2\n",
    "        hi = arr_s[p[end]] - hL_ego - scene[p[end]].def.len/2\n",
    "        for j in i+2 : length(scene)-1\n",
    "            hi -= scene[p[j]].def.len\n",
    "        end\n",
    "        α = (arr_s[p[i+1]] - lo)/(hi - lo)\n",
    "\n",
    "        vars.values[i] = α\n",
    "        vars.bounds[i] = StateBounds(-α, 1-α)\n",
    "        vars.symbols[i] = :α\n",
    "        vars.vehicle_indices[i] = p[i+1]\n",
    "        @assert vars.bounds[i].Δlo ≤ 0.0\n",
    "        @assert vars.bounds[i].Δhi ≥ 0.0\n",
    "    end\n",
    "\n",
    "    return vars\n",
    "end\n",
    "\n",
    "vars = Vars(scene, roadway)\n",
    "@test length(vars) == 2\n",
    "@test isapprox(lerp(5+4, 45-4-4, vars.values[1]), scene[2].state.s)\n",
    "@test isapprox(lerp(scene[2].state.s + 4, 45-4, vars.values[2]), scene[3].state.s)"
   ]
  },
  {
   "cell_type": "markdown",
   "metadata": {},
   "source": [
    "### Penalty Parameterization\n",
    "\n",
    "We can avoid the large joint distribution by allowing each vehicle to range between its maximal values:\n",
    "$$\n",
    "\\begin{aligned}\n",
    "s_2 & \\in [5+4, 45 - 4 - 4] \\\\\n",
    "s_3 & \\in [5+4+4, 45 - 4]\n",
    "\\end{aligned}\n",
    "$$\n",
    "Of course, this can lead to invalid positions. These are 'fixed' by including an additional penalty feature:\n",
    "$$\n",
    "f_\\text{penalty}(s_2, s_3) = s_2 + 4 > s_3 \\qquad \\theta_\\text{penalty} = -\\infty\n",
    "$$\n",
    "\n",
    "The penalty feature causes $\\log\\tilde{p}$ to be $\\infty$, and thus $\\tilde{p} = 0$ whenever this occurs."
   ]
  },
  {
   "cell_type": "code",
   "execution_count": 4,
   "metadata": {
    "collapsed": true
   },
   "outputs": [],
   "source": [
    "function AutoScenes.Vars(scene::Scene1D, roadway::Straight1DRoadway)\n",
    "\n",
    "    n = length(scene)\n",
    "    vars = Vars(Array{Float64}(n),\n",
    "                Array{StateBounds}(n),\n",
    "                Array{Symbol}(n),\n",
    "                Array{Int}(n))\n",
    "\n",
    "    # sort the s-positions from lowest to greatest\n",
    "    arr_s = [veh.state.s for veh in scene]\n",
    "    p = sortperm(arr_s)\n",
    "    \n",
    "    # introduce one variable for each car\n",
    "    # moveable cars have bounds with positive volume\n",
    "    for i in 1 : n\n",
    "        \n",
    "        vars.values[i] = arr_s[i]\n",
    "        vars.symbols[i] = :s\n",
    "        vars.vehicle_indices[i] = p[i]\n",
    "        \n",
    "        if i == 1\n",
    "            # first car has static s\n",
    "            vars.bounds[i] = ZERO_BOUND\n",
    "        elseif i < n\n",
    "        \n",
    "            hL_ego = scene[p[i]].def.len/2\n",
    "            lo = arr_s[p[1]] + hL_ego + scene[p[1]].def.len/2\n",
    "            for j in 2 : i-1\n",
    "                lo += scene[p[j]].def.len\n",
    "            end\n",
    "\n",
    "            hi = arr_s[p[end]] - hL_ego - scene[p[end]].def.len/2\n",
    "            for j in i+1 : length(scene)-1\n",
    "                hi -= scene[p[j]].def.len\n",
    "            end\n",
    "\n",
    "            s = arr_s[p[i]]\n",
    "\n",
    "            vars.bounds[i] = StateBounds(lo-s, hi-s)\n",
    "        else\n",
    "            # last car has static s\n",
    "            vars.bounds[i] = ZERO_BOUND\n",
    "        end\n",
    "        @assert vars.bounds[i].Δlo ≤ 0.0\n",
    "        @assert vars.bounds[i].Δhi ≥ 0.0\n",
    "    end\n",
    "\n",
    "    return vars\n",
    "end"
   ]
  },
  {
   "cell_type": "code",
   "execution_count": 5,
   "metadata": {
    "collapsed": false
   },
   "outputs": [
    {
     "data": {
      "text/plain": [
       "\u001b[1m\u001b[32mTest Passed\n",
       "\u001b[39m\u001b[22m"
      ]
     },
     "execution_count": 5,
     "metadata": {},
     "output_type": "execute_result"
    }
   ],
   "source": [
    "vars = Vars(scene, roadway)\n",
    "@test length(vars) == 4\n",
    "for (i, veh) in enumerate(scene)\n",
    "    @test vars.values[i] ≈ scene[i].state.s\n",
    "end\n",
    "\n",
    "@test vars.bounds[1] == ZERO_BOUND\n",
    "@test vars.bounds[2].Δlo ≈ 5 + 4 - scene[2].state.s\n",
    "@test vars.bounds[2].Δhi ≈ 45 - 4 - 4 - scene[2].state.s\n",
    "@test vars.bounds[3].Δlo ≈ 5 + 4 + 4 - scene[3].state.s\n",
    "@test vars.bounds[3].Δhi ≈ 45 - 4 - scene[3].state.s\n",
    "@test vars.bounds[4] == ZERO_BOUND"
   ]
  },
  {
   "cell_type": "code",
   "execution_count": 6,
   "metadata": {
    "collapsed": true
   },
   "outputs": [],
   "source": [
    "function f_penalty{R}(\n",
    "     vars::Vars,\n",
    "     assignment::Assignment,\n",
    "     roadway::R,\n",
    "     )\n",
    "     \n",
    "     s_lo = vars.values[assignment[1]]\n",
    "     s_hi = vars.values[assignment[2]]\n",
    "     return s_lo + 4 > s_hi # true if in violation\n",
    "end\n",
    "function AutoScenes.assign_feature{F <: typeof(f_penalty)}(\n",
    "    f::F,\n",
    "    scene::Scene1D,\n",
    "    roadway::Straight1DRoadway,\n",
    "    vars::Vars,\n",
    "    )\n",
    "    \n",
    "    lead_follow = LeadFollowRelationships(scene, roadway)\n",
    "\n",
    "    assignments = Assignment[]\n",
    "    for (vehicle_index, index_fore) in enumerate(lead_follow.index_fore)\n",
    "        if index_fore != 0\n",
    "            j_rear = findfirst(vars, vehicle_index, :s)\n",
    "            j_fore = findfirst(vars, index_fore, :s)\n",
    "            push!(assignments, (j_rear, j_fore))\n",
    "        end\n",
    "    end\n",
    "\n",
    "    return assignments\n",
    "end"
   ]
  },
  {
   "cell_type": "code",
   "execution_count": 7,
   "metadata": {
    "collapsed": true
   },
   "outputs": [],
   "source": [
    "function f_headway{R}(\n",
    "    vars::Vars, # all variables\n",
    "    assignment::Assignment, # indeces of variables in vars\n",
    "    roadway::R,\n",
    "    )\n",
    "    \n",
    "    s_lo = vars.values[assignment[1]]\n",
    "    s_hi = vars.values[assignment[2]]\n",
    "    Δs = s_hi - s_lo - 4\n",
    "    return log(max(Δs + 1, 1.0))\n",
    "end\n",
    "function AutoScenes.assign_feature{F <: typeof(f_headway)}(\n",
    "    f::F,\n",
    "    scene::Scene1D,\n",
    "    roadway::Straight1DRoadway,\n",
    "    vars::Vars,\n",
    "    )\n",
    "\n",
    "    lead_follow = LeadFollowRelationships(scene, roadway)\n",
    "\n",
    "    assignments = Assignment[]\n",
    "    for (vehicle_index, index_fore) in enumerate(lead_follow.index_fore)\n",
    "        if index_fore != 0\n",
    "            j_rear = findfirst(vars, vehicle_index, :s)\n",
    "            j_fore = findfirst(vars, index_fore, :s)\n",
    "            push!(assignments, (j_rear, j_fore))\n",
    "        end\n",
    "    end\n",
    "\n",
    "    return assignments\n",
    "end"
   ]
  },
  {
   "cell_type": "code",
   "execution_count": 8,
   "metadata": {
    "collapsed": false
   },
   "outputs": [
    {
     "data": {
      "text/plain": [
       "AutoScenes.FactorGraph{AutomotiveDrivingModels.Straight1DRoadway}(AutoScenes.Vars([5.0, 18.0, 26.0, 45.0], AutoScenes.StateBounds[AutoScenes.StateBounds(0.0, 0.0), AutoScenes.StateBounds(-9.0, 19.0), AutoScenes.StateBounds(-13.0, 15.0), AutoScenes.StateBounds(0.0, 0.0)], Symbol[:s, :s, :s, :s], [1, 2, 3, 4]), Tuple{Int64,Tuple{Vararg{Int64,N} where N}}[(1, (1, 2)), (1, (2, 3)), (1, (3, 4)), (2, (1, 2)), (2, (2, 3)), (2, (3, 4))], Array{Int64,1}[[1, 4], [1, 2, 4, 5], [2, 3, 5, 6], [3, 6]], AutomotiveDrivingModels.Straight1DRoadway(50.0))"
      ]
     },
     "execution_count": 8,
     "metadata": {},
     "output_type": "execute_result"
    }
   ],
   "source": [
    "features = (f_headway,f_penalty)\n",
    "factorgraph = FactorGraph(features, scene, roadway)"
   ]
  },
  {
   "cell_type": "code",
   "execution_count": 9,
   "metadata": {
    "collapsed": false
   },
   "outputs": [
    {
     "data": {
      "text/plain": [
       "FactorGraphSceneGenerator(burnin=100)"
      ]
     },
     "execution_count": 9,
     "metadata": {},
     "output_type": "execute_result"
    }
   ],
   "source": [
    "θ = [1.0,-Inf]\n",
    "model = FactorModel(features, θ)\n",
    "gen = FactorGraphSceneGenerator(model, Dict(:s => Normal(0.0,5.0)), 100)"
   ]
  },
  {
   "cell_type": "code",
   "execution_count": 10,
   "metadata": {
    "collapsed": false
   },
   "outputs": [
    {
     "data": {
      "text/plain": [
       "([0.0, 1.48644, 1.91198, 0.0], 6.777609422965663)"
      ]
     },
     "execution_count": 10,
     "metadata": {},
     "output_type": "execute_result"
    }
   ],
   "source": [
    "a = zeros(length(factorgraph.vars))\n",
    "b = zeros(length(factorgraph.vars))\n",
    "logPtilde_a = begin\n",
    "    factorgraph.vars.values .+= a\n",
    "    logPtilde_a = log_ptilde(gen.model.features, gen.model.weights, factorgraph.vars,\n",
    "        factorgraph.assignments, factorgraph.roadway)\n",
    "    factorgraph.vars.values .-= a\n",
    "    logPtilde_a\n",
    "end\n",
    "\n",
    "srand(1)\n",
    "(a, logPtilde_a) = metropolis_hastings_step!(gen, factorgraph, a, b, logPtilde_a)"
   ]
  },
  {
   "cell_type": "code",
   "execution_count": 11,
   "metadata": {
    "collapsed": false
   },
   "outputs": [
    {
     "data": {
      "text/plain": [
       "4-element Array{Float64,1}:\n",
       "  0.0    \n",
       " -2.71295\n",
       "  5.7567 \n",
       "  0.0    "
      ]
     },
     "execution_count": 11,
     "metadata": {},
     "output_type": "execute_result"
    }
   ],
   "source": [
    "srand(0)\n",
    "Δ = metropolis_hastings!(gen, factorgraph)"
   ]
  },
  {
   "cell_type": "code",
   "execution_count": 12,
   "metadata": {
    "collapsed": false
   },
   "outputs": [
    {
     "data": {
      "image/png": "[encoded data removed]",
      "text/plain": [
       "Cairo.CairoSurface{UInt32}(Ptr{Void} @0x00000000045b7290, 1000.0, 100.0, #undef)"
      ]
     },
     "execution_count": 12,
     "metadata": {},
     "output_type": "execute_result"
    }
   ],
   "source": [
    "scene2 = Frame([\n",
    "    Vehicle1D(PosSpeed1D(factorgraph.vars.values[1] + Δ[1], 0.0), def, 1),\n",
    "    Vehicle1D(PosSpeed1D(factorgraph.vars.values[2] + Δ[2], 0.0), def, 2),\n",
    "    Vehicle1D(PosSpeed1D(factorgraph.vars.values[3] + Δ[3], 0.0), def, 3),\n",
    "    Vehicle1D(PosSpeed1D(factorgraph.vars.values[4] + Δ[4], 0.0), def, 4),\n",
    "])\n",
    "render(scene2, Straight1DRoadway(50.0), cam=StaticCamera(VecE2(25.0,0.0), 18.0), canvas_height=100)"
   ]
  },
  {
   "cell_type": "markdown",
   "metadata": {
    "collapsed": true
   },
   "source": [
    "# Adding length to the Scene\n",
    "\n",
    "In the above cells we have assumed that all vehicles have the same length, and the value 4 was hard-coded into the features. We can include this length as a feature in the scene, or better yet, include the length of each vehicle.\n",
    "\n",
    "This further gives us the option of sampling vehicle lengths, though we do not have to do that."
   ]
  },
  {
   "cell_type": "code",
   "execution_count": 13,
   "metadata": {
    "collapsed": false
   },
   "outputs": [
    {
     "data": {
      "image/png": "[encoded data removed]",
      "text/plain": [
       "Cairo.CairoSurface{UInt32}(Ptr{Void} @0x00000000048b01d0, 1000.0, 100.0, #undef)"
      ]
     },
     "execution_count": 13,
     "metadata": {},
     "output_type": "execute_result"
    }
   ],
   "source": [
    "scene = Frame([\n",
    "    Vehicle1D(PosSpeed1D(5.0,10.0), BoundingBoxDef(AgentClass.CAR, 4.0, 2.0), 1),\n",
    "    Vehicle1D(PosSpeed1D(18.0,12.0), BoundingBoxDef(AgentClass.CAR, 4.5, 2.2), 2),\n",
    "    Vehicle1D(PosSpeed1D(26.0,10.0), BoundingBoxDef(AgentClass.CAR, 3.0, 1.0), 3),\n",
    "    Vehicle1D(PosSpeed1D(45.0, 8.0), BoundingBoxDef(AgentClass.CAR, 8.0, 2.2), 4),\n",
    "])\n",
    "colors = get_pastel_car_colors(scene)\n",
    "render(scene, roadway, cam=StaticCamera(VecE2(25.0,0.0), 18.0), canvas_height=100, car_colors=colors)"
   ]
  },
  {
   "cell_type": "markdown",
   "metadata": {},
   "source": [
    "Each factor graph will now $2n$ variables: the position and length of each car.\n",
    "The bounds for the length will be zero."
   ]
  },
  {
   "cell_type": "code",
   "execution_count": 14,
   "metadata": {
    "collapsed": true
   },
   "outputs": [],
   "source": [
    "function AutoScenes.Vars(scene::Scene1D, roadway::Straight1DRoadway)\n",
    "\n",
    "    n = length(scene)\n",
    "    vars = Vars(Array{Float64}(2n),\n",
    "                Array{StateBounds}(2n),\n",
    "                Array{Symbol}(2n),\n",
    "                Array{Int}(2n))\n",
    "\n",
    "    # sort the s-positions from lowest to greatest\n",
    "    arr_s = [veh.state.s for veh in scene]\n",
    "    p = sortperm(arr_s)\n",
    "    \n",
    "    # introduce the pos of each car\n",
    "    # moveable cars have bounds with positive volume\n",
    "    for i in 1 : n\n",
    "        \n",
    "        vars.values[i] = arr_s[i]\n",
    "        vars.symbols[i] = :s\n",
    "        vars.vehicle_indices[i] = p[i]\n",
    "        \n",
    "        if i == 1\n",
    "            # first car has static s\n",
    "            vars.bounds[i] = ZERO_BOUND\n",
    "        elseif i < n\n",
    "        \n",
    "            hL_ego = scene[p[i]].def.len/2\n",
    "            lo = arr_s[p[1]] + hL_ego + scene[p[1]].def.len/2\n",
    "            for j in 2 : i-1\n",
    "                lo += scene[p[j]].def.len\n",
    "            end\n",
    "\n",
    "            hi = arr_s[p[end]] - hL_ego - scene[p[end]].def.len/2\n",
    "            for j in i+1 : length(scene)-1\n",
    "                hi -= scene[p[j]].def.len\n",
    "            end\n",
    "\n",
    "            s = arr_s[p[i]]\n",
    "\n",
    "            vars.bounds[i] = StateBounds(lo-s, hi-s)\n",
    "        else\n",
    "            # last car has static s\n",
    "            vars.bounds[i] = ZERO_BOUND\n",
    "        end\n",
    "        @assert vars.bounds[i].Δlo ≤ 0.0\n",
    "        @assert vars.bounds[i].Δhi ≥ 0.0\n",
    "    end\n",
    "    \n",
    "    # introduce the length of each car\n",
    "    for i in 1 : n\n",
    "        b = i+n\n",
    "        vars.values[b] = scene[p[i]].def.len\n",
    "        vars.symbols[b] = :l\n",
    "        vars.vehicle_indices[b] = p[i]\n",
    "        vars.bounds[b] = ZERO_BOUND\n",
    "    end\n",
    "\n",
    "    return vars\n",
    "end"
   ]
  },
  {
   "cell_type": "code",
   "execution_count": 15,
   "metadata": {
    "collapsed": false
   },
   "outputs": [
    {
     "data": {
      "text/plain": [
       "\u001b[1m\u001b[32mTest Passed\n",
       "\u001b[39m\u001b[22m"
      ]
     },
     "execution_count": 15,
     "metadata": {},
     "output_type": "execute_result"
    }
   ],
   "source": [
    "vars = Vars(scene, roadway)\n",
    "@test length(vars) == 8\n",
    "for (i, veh) in enumerate(scene)\n",
    "    @test vars.values[i] ≈ scene[i].state.s\n",
    "    @test vars.values[i+length(scene)] == scene[i].def.len\n",
    "    @test vars.bounds[i+length(scene)] == ZERO_BOUND\n",
    "end\n",
    "\n",
    "@test vars.bounds[1] == ZERO_BOUND\n",
    "@test vars.bounds[2].Δlo ≈ 5 + 4/2 + 4.5/2 - scene[2].state.s\n",
    "@test vars.bounds[2].Δhi ≈ 45 - 3 - 8/2 - 4.5/2 - scene[2].state.s\n",
    "@test vars.bounds[3].Δlo ≈ 5 + 4/2 + 4.5 + 3/2 - scene[3].state.s\n",
    "@test vars.bounds[3].Δhi ≈ 45 - 3/2 - 8/2 - scene[3].state.s\n",
    "@test vars.bounds[4] == ZERO_BOUND"
   ]
  },
  {
   "cell_type": "markdown",
   "metadata": {},
   "source": [
    "We modify the penalty function and the headway function to use the length."
   ]
  },
  {
   "cell_type": "code",
   "execution_count": 16,
   "metadata": {
    "collapsed": true
   },
   "outputs": [],
   "source": [
    "function f_penalty2{R}(\n",
    "     vars::Vars,\n",
    "     assignment::Assignment,\n",
    "     roadway::R,\n",
    "     )\n",
    "     \n",
    "     s_lo = vars.values[assignment[1]]\n",
    "     s_hi = vars.values[assignment[2]]\n",
    "     l_lo = vars.values[assignment[3]]\n",
    "     l_hi = vars.values[assignment[4]]\n",
    "     return s_lo + (l_lo + l_hi)/2 > s_hi # true if in violation\n",
    "end\n",
    "function AutoScenes.assign_feature{F <: typeof(f_penalty2)}(\n",
    "    f::F,\n",
    "    scene::Scene1D,\n",
    "    roadway::Straight1DRoadway,\n",
    "    vars::Vars,\n",
    "    )\n",
    "    \n",
    "    lead_follow = LeadFollowRelationships(scene, roadway)\n",
    "\n",
    "    assignments = Assignment[]\n",
    "    for (vehicle_index, index_fore) in enumerate(lead_follow.index_fore)\n",
    "        if index_fore != 0\n",
    "            j_rear_s = findfirst(vars, vehicle_index, :s)\n",
    "            j_fore_s = findfirst(vars, index_fore, :s)\n",
    "            j_rear_l = findfirst(vars, vehicle_index, :l)\n",
    "            j_fore_l = findfirst(vars, index_fore, :l)\n",
    "            push!(assignments, (j_rear_s, j_fore_s, j_rear_l, j_fore_l))\n",
    "        end\n",
    "    end\n",
    "\n",
    "    return assignments\n",
    "end"
   ]
  },
  {
   "cell_type": "code",
   "execution_count": 17,
   "metadata": {
    "collapsed": true
   },
   "outputs": [],
   "source": [
    "function f_headway2{R}(\n",
    "    vars::Vars, # all variables\n",
    "    assignment::Assignment, # indeces of variables in vars\n",
    "    roadway::R,\n",
    "    )\n",
    "    \n",
    "    s_lo = vars.values[assignment[1]]\n",
    "    s_hi = vars.values[assignment[2]]\n",
    "    l_lo = vars.values[assignment[3]]\n",
    "    l_hi = vars.values[assignment[4]]\n",
    "    Δs = s_hi - s_lo - (l_lo + l_hi)/2\n",
    "    return log(max(Δs + 1, 1.0))\n",
    "end\n",
    "function AutoScenes.assign_feature{F <: typeof(f_headway2)}(\n",
    "    f::F,\n",
    "    scene::Scene1D,\n",
    "    roadway::Straight1DRoadway,\n",
    "    vars::Vars,\n",
    "    )\n",
    "\n",
    "    lead_follow = LeadFollowRelationships(scene, roadway)\n",
    "\n",
    "    assignments = Assignment[]\n",
    "    for (vehicle_index, index_fore) in enumerate(lead_follow.index_fore)\n",
    "        if index_fore != 0\n",
    "            j_rear_s = findfirst(vars, vehicle_index, :s)\n",
    "            j_fore_s = findfirst(vars, index_fore, :s)\n",
    "            j_rear_l = findfirst(vars, vehicle_index, :l)\n",
    "            j_fore_l = findfirst(vars, index_fore, :l)\n",
    "            push!(assignments, (j_rear_s, j_fore_s, j_rear_l, j_fore_l))\n",
    "        end\n",
    "    end\n",
    "\n",
    "    return assignments\n",
    "end"
   ]
  },
  {
   "cell_type": "markdown",
   "metadata": {},
   "source": [
    "Note that since l always has a zero bound we do not need to specify a transition distribution for it."
   ]
  },
  {
   "cell_type": "code",
   "execution_count": 18,
   "metadata": {
    "collapsed": false
   },
   "outputs": [
    {
     "data": {
      "text/plain": [
       "FactorGraphSceneGenerator(burnin=100)"
      ]
     },
     "execution_count": 18,
     "metadata": {},
     "output_type": "execute_result"
    }
   ],
   "source": [
    "features = (f_headway2,f_penalty2)\n",
    "factorgraph = FactorGraph(features, scene, roadway)\n",
    "θ = [1.0,-Inf]\n",
    "model = FactorModel(features, θ)\n",
    "gen = FactorGraphSceneGenerator(model, Dict(:s => Normal(0.0,5.0)), 100)"
   ]
  },
  {
   "cell_type": "code",
   "execution_count": 19,
   "metadata": {
    "collapsed": false
   },
   "outputs": [
    {
     "data": {
      "text/plain": [
       "([0.0, 3.39554, 4.14207, 0.0, 0.0, 0.0, 0.0, 0.0], 6.705015994828035)"
      ]
     },
     "execution_count": 19,
     "metadata": {},
     "output_type": "execute_result"
    }
   ],
   "source": [
    "a = zeros(length(factorgraph.vars))\n",
    "b = zeros(length(factorgraph.vars))\n",
    "logPtilde_a = begin\n",
    "    factorgraph.vars.values .+= a\n",
    "    logPtilde_a = log_ptilde(gen.model.features, gen.model.weights, factorgraph.vars,\n",
    "        factorgraph.assignments, factorgraph.roadway)\n",
    "    factorgraph.vars.values .-= a\n",
    "    logPtilde_a\n",
    "end\n",
    "\n",
    "srand(0)\n",
    "(a, logPtilde_a) = metropolis_hastings_step!(gen, factorgraph, a, b, logPtilde_a)"
   ]
  },
  {
   "cell_type": "code",
   "execution_count": 20,
   "metadata": {
    "collapsed": false
   },
   "outputs": [
    {
     "data": {
      "text/plain": [
       "8-element Array{Float64,1}:\n",
       " 0.0     \n",
       " 1.10369 \n",
       " 0.506497\n",
       " 0.0     \n",
       " 0.0     \n",
       " 0.0     \n",
       " 0.0     \n",
       " 0.0     "
      ]
     },
     "execution_count": 20,
     "metadata": {},
     "output_type": "execute_result"
    }
   ],
   "source": [
    "srand(0)\n",
    "Δ = metropolis_hastings!(gen, factorgraph)"
   ]
  },
  {
   "cell_type": "code",
   "execution_count": 21,
   "metadata": {
    "collapsed": false
   },
   "outputs": [
    {
     "data": {
      "image/png": "[encoded data removed]",
      "text/plain": [
       "Cairo.CairoSurface{UInt32}(Ptr{Void} @0x00000000044d67c0, 1000.0, 100.0, #undef)"
      ]
     },
     "execution_count": 21,
     "metadata": {},
     "output_type": "execute_result"
    }
   ],
   "source": [
    "scene2 = Frame([\n",
    "    Vehicle1D(PosSpeed1D(factorgraph.vars.values[1] + Δ[1], 0.0), scene[1].def, 1),\n",
    "    Vehicle1D(PosSpeed1D(factorgraph.vars.values[2] + Δ[2], 0.0), scene[2].def, 2),\n",
    "    Vehicle1D(PosSpeed1D(factorgraph.vars.values[3] + Δ[3], 0.0), scene[3].def, 3),\n",
    "    Vehicle1D(PosSpeed1D(factorgraph.vars.values[4] + Δ[4], 0.0), scene[4].def, 4),\n",
    "])\n",
    "render(scene2, roadway, cam=StaticCamera(VecE2(25.0,0.0), 18.0), canvas_height=100, car_colors=colors)"
   ]
  },
  {
   "cell_type": "markdown",
   "metadata": {},
   "source": [
    "# Wraparound\n",
    "\n",
    "Finally, we handle wraparound, which is where the road loops back on itself.\n",
    "In this case we can no longer have the static end cars to anchor the scenem, but can move all vehicles from at $s \\pm L/2$.\n",
    "\n",
    "We must still preserve ordering. For a 1D scene with cars 1 following 2 following 3 ... following n following 1 it is sufficient to enforce $\\text{ceil}(n/2)$ relationships:\n",
    "\n",
    "$$\n",
    "(1 < 2 < 3) \\quad (3 < 4 < 5) \\enspace \\cdots \\enspace (m-1 <  m < 1)\n",
    "$$\n",
    "\n",
    "or \n",
    "\n",
    "$$\n",
    "(1 < 2 < 3) \\quad (3 < 4 < 5) \\enspace \\cdots \\enspace (m < 1 < 2)\n",
    "$$\n",
    "\n",
    "where $i < j < k$ indicates indicates that vehicle $j$ is between $i$ and $k$, as checked by verifying that the $ij$ headway is less than the $ik$ headway."
   ]
  },
  {
   "cell_type": "code",
   "execution_count": 22,
   "metadata": {
    "collapsed": false
   },
   "outputs": [
    {
     "data": {
      "image/png": "[encoded data removed]",
      "text/plain": [
       "Cairo.CairoSurface{UInt32}(Ptr{Void} @0x0000000004755a10, 1000.0, 100.0, #undef)"
      ]
     },
     "execution_count": 22,
     "metadata": {},
     "output_type": "execute_result"
    }
   ],
   "source": [
    "roadway = Wraparound(Straight1DRoadway(50.0))\n",
    "render(scene, roadway, cam=StaticCamera(VecE2(25.0,0.0), 18.0), canvas_height=100, car_colors=colors)"
   ]
  },
  {
   "cell_type": "markdown",
   "metadata": {},
   "source": [
    "The position bounds in the factorgraph are now $\\pm L/2$ for all vehicles."
   ]
  },
  {
   "cell_type": "code",
   "execution_count": 23,
   "metadata": {
    "collapsed": true
   },
   "outputs": [],
   "source": [
    "function AutoScenes.Vars(scene::Scene1D, roadway::Wraparound{Straight1DRoadway})\n",
    "\n",
    "    n = length(scene)\n",
    "    vars = Vars(Array{Float64}(2n),\n",
    "                Array{StateBounds}(2n),\n",
    "                Array{Symbol}(2n),\n",
    "                Array{Int}(2n))\n",
    "    \n",
    "    L = get_s_max(roadway)\n",
    "    \n",
    "    b = 0\n",
    "    for (vehicle_index, veh) in enumerate(scene)\n",
    "        \n",
    "        # position\n",
    "        b += 1\n",
    "        vars.values[b] = veh.state.s\n",
    "        vars.bounds[b] = StateBounds(-L/2, L/2)\n",
    "        vars.symbols[b] = :s\n",
    "        vars.vehicle_indices[b] = vehicle_index\n",
    "        \n",
    "        # length\n",
    "        b += 1\n",
    "        vars.values[b] = veh.def.len\n",
    "        vars.symbols[b] = :l\n",
    "        vars.vehicle_indices[b] = vehicle_index\n",
    "        vars.bounds[b] = ZERO_BOUND\n",
    "    end\n",
    "\n",
    "    return vars\n",
    "end"
   ]
  },
  {
   "cell_type": "code",
   "execution_count": 24,
   "metadata": {
    "collapsed": false
   },
   "outputs": [],
   "source": [
    "vars = Vars(scene, roadway)\n",
    "@test length(vars) == 8\n",
    "for (i, veh) in enumerate(scene)\n",
    "    @test vars.values[2i-1] ≈ scene[i].state.s\n",
    "    @test vars.bounds[2i-1] == StateBounds(-25.0,25.0)\n",
    "    @test vars.values[2i] == scene[i].def.len\n",
    "    @test vars.bounds[2i] == ZERO_BOUND\n",
    "end"
   ]
  },
  {
   "cell_type": "markdown",
   "metadata": {},
   "source": [
    "We construct the penalty function and assign it as appropriate."
   ]
  },
  {
   "cell_type": "code",
   "execution_count": 65,
   "metadata": {
    "collapsed": false
   },
   "outputs": [],
   "source": [
    "function f_penalty3(\n",
    "    vars::Vars,\n",
    "    assignment::Assignment,\n",
    "    roadway::Wraparound{Straight1DRoadway},\n",
    "    )\n",
    "     \n",
    "    # a < b < c\n",
    "    \n",
    "    sa = vars.values[assignment[1]]\n",
    "    sb = vars.values[assignment[2]]\n",
    "    sc = vars.values[assignment[3]]\n",
    "    la = vars.values[assignment[4]]\n",
    "    lb = vars.values[assignment[5]]\n",
    "    lc = vars.values[assignment[6]]\n",
    "     \n",
    "    # true if in violation\n",
    "    \n",
    "    vehA = Vehicle1D(PosSpeed1D(sa, NaN), BoundingBoxDef(AgentClass.CAR, la, NaN), 1)\n",
    "    vehB = Vehicle1D(PosSpeed1D(sb, NaN), BoundingBoxDef(AgentClass.CAR, lb, NaN), 1)\n",
    "    vehC = Vehicle1D(PosSpeed1D(sc, NaN), BoundingBoxDef(AgentClass.CAR, lc, NaN), 1)\n",
    "    \n",
    "    ab = get_headway(vehA, vehB, roadway)\n",
    "    ac = get_headway(vehA, vehC, roadway)\n",
    "    return ac < ab || is_colliding(vehA, vehB, roadway) || \n",
    "                      is_colliding(vehA, vehC, roadway) || \n",
    "                      is_colliding(vehB, vehC, roadway)\n",
    "end\n",
    "function AutoScenes.assign_feature{F <: typeof(f_penalty3)}(\n",
    "    f::F,\n",
    "    scene::Scene1D,\n",
    "    roadway::Wraparound{Straight1DRoadway},\n",
    "    vars::Vars,\n",
    "    )\n",
    "    \n",
    "    lead_follow = LeadFollowRelationships(scene, roadway)\n",
    "\n",
    "    assignments = Assignment[]\n",
    "    for i in 1 : 2 : length(scene)\n",
    "        j = lead_follow.index_fore[i]\n",
    "        k = lead_follow.index_fore[j]\n",
    "        \n",
    "        push!(assignments, (findfirst(vars, i, :s), findfirst(vars, j, :s), findfirst(vars, k, :s),\n",
    "                            findfirst(vars, i, :l), findfirst(vars, j, :l), findfirst(vars, k, :l)))\n",
    "    end\n",
    "\n",
    "    return assignments\n",
    "end"
   ]
  },
  {
   "cell_type": "code",
   "execution_count": 66,
   "metadata": {
    "collapsed": true
   },
   "outputs": [],
   "source": [
    "function f_headway3(\n",
    "    vars::Vars,\n",
    "    assignment::Assignment,\n",
    "    roadway::Wraparound{Straight1DRoadway},\n",
    "    )\n",
    "     \n",
    "    # a < b\n",
    "    \n",
    "    sa = vars.values[assignment[1]]\n",
    "    sb = vars.values[assignment[2]]\n",
    "    la = vars.values[assignment[3]]\n",
    "    lb = vars.values[assignment[4]]\n",
    "    \n",
    "    vehA = Vehicle1D(PosSpeed1D(sa, NaN), BoundingBoxDef(AgentClass.CAR, la, NaN), 1)\n",
    "    vehB = Vehicle1D(PosSpeed1D(sb, NaN), BoundingBoxDef(AgentClass.CAR, lb, NaN), 1)\n",
    "    ab = get_headway(vehA, vehB, roadway)\n",
    "    return log(ab + 1)\n",
    "end\n",
    "function AutoScenes.assign_feature{F <: typeof(f_headway3)}(\n",
    "    f::F,\n",
    "    scene::Scene1D,\n",
    "    roadway::Wraparound{Straight1DRoadway},\n",
    "    vars::Vars,\n",
    "    )\n",
    "    \n",
    "    lead_follow = LeadFollowRelationships(scene, roadway)\n",
    "\n",
    "    assignments = Assignment[]\n",
    "    for i in 1 : length(scene)\n",
    "        j = lead_follow.index_fore[i]\n",
    "        \n",
    "        push!(assignments, (findfirst(vars, i, :s), findfirst(vars, j, :s),\n",
    "                            findfirst(vars, i, :l), findfirst(vars, j, :l)))\n",
    "    end\n",
    "\n",
    "    return assignments\n",
    "end"
   ]
  },
  {
   "cell_type": "code",
   "execution_count": 67,
   "metadata": {
    "collapsed": false
   },
   "outputs": [
    {
     "data": {
      "text/plain": [
       "FactorGraphSceneGenerator(burnin=100)"
      ]
     },
     "execution_count": 67,
     "metadata": {},
     "output_type": "execute_result"
    }
   ],
   "source": [
    "features = (f_headway3,f_penalty3)\n",
    "factorgraph = FactorGraph(features, scene, roadway)\n",
    "θ = [1.0,-Inf]\n",
    "model = FactorModel(features, θ)\n",
    "gen = FactorGraphSceneGenerator(model, Dict(:s => Normal(0.0,5.0)), 100)"
   ]
  },
  {
   "cell_type": "code",
   "execution_count": 70,
   "metadata": {
    "collapsed": false
   },
   "outputs": [
    {
     "data": {
      "text/plain": [
       "([3.6981, 0.0, -3.72254, 0.0, -3.04254, 0.0, -8.61728, 0.0], 7.666098276964196)"
      ]
     },
     "execution_count": 70,
     "metadata": {},
     "output_type": "execute_result"
    }
   ],
   "source": [
    "a = zeros(length(factorgraph.vars))\n",
    "b = zeros(length(factorgraph.vars))\n",
    "logPtilde_a = begin\n",
    "    factorgraph.vars.values .+= a\n",
    "    logPtilde_a = log_ptilde(gen.model.features, gen.model.weights, factorgraph.vars,\n",
    "        factorgraph.assignments, factorgraph.roadway)\n",
    "    factorgraph.vars.values .-= a\n",
    "    logPtilde_a\n",
    "end\n",
    "\n",
    "srand(2)\n",
    "(a, logPtilde_a) = metropolis_hastings_step!(gen, factorgraph, a, b, logPtilde_a)"
   ]
  },
  {
   "cell_type": "code",
   "execution_count": 98,
   "metadata": {
    "collapsed": false
   },
   "outputs": [
    {
     "data": {
      "text/plain": [
       "8-element Array{Float64,1}:\n",
       " -10.2643 \n",
       "   0.0    \n",
       "  -9.47718\n",
       "   0.0    \n",
       " -11.4644 \n",
       "   0.0    \n",
       " -11.2033 \n",
       "   0.0    "
      ]
     },
     "execution_count": 98,
     "metadata": {},
     "output_type": "execute_result"
    }
   ],
   "source": [
    "srand(0)\n",
    "Δ = metropolis_hastings!(gen, factorgraph)"
   ]
  },
  {
   "cell_type": "code",
   "execution_count": 100,
   "metadata": {
    "collapsed": false
   },
   "outputs": [
    {
     "data": {
      "image/png": "[encoded data removed]",
      "text/plain": [
       "Cairo.CairoSurface{UInt32}(Ptr{Void} @0x0000000005557890, 1000.0, 100.0, #undef)"
      ]
     },
     "execution_count": 100,
     "metadata": {},
     "output_type": "execute_result"
    }
   ],
   "source": [
    "scene2 = Frame([\n",
    "    Vehicle1D(PosSpeed1D(mod_position_to_roadway(factorgraph.vars.values[1] + Δ[1], roadway), 0.0), scene[1].def, 1),\n",
    "    Vehicle1D(PosSpeed1D(mod_position_to_roadway(factorgraph.vars.values[3] + Δ[3], roadway), 0.0), scene[2].def, 2),\n",
    "    Vehicle1D(PosSpeed1D(mod_position_to_roadway(factorgraph.vars.values[5] + Δ[5], roadway), 0.0), scene[3].def, 3),\n",
    "    Vehicle1D(PosSpeed1D(mod_position_to_roadway(factorgraph.vars.values[7] + Δ[7], roadway), 0.0), scene[4].def, 4),\n",
    "])\n",
    "render(scene2, roadway, cam=StaticCamera(VecE2(25.0,0.0), 18.0), canvas_height=100, car_colors=colors)"
   ]
  },
  {
   "cell_type": "code",
   "execution_count": null,
   "metadata": {
    "collapsed": true
   },
   "outputs": [],
   "source": []
  }
 ],
 "metadata": {
  "kernelspec": {
   "display_name": "Julia 0.6.0",
   "language": "julia",
   "name": "julia-0.6"
  },
  "language_info": {
   "file_extension": ".jl",
   "mimetype": "application/julia",
   "name": "julia",
   "version": "0.6.0"
  },
  "widgets": {
   "state": {},
   "version": "2.0.10"
  }
 },
 "nbformat": 4,
 "nbformat_minor": 2
}

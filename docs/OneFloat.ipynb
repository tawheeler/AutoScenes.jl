{
 "cells": [
  {
   "cell_type": "markdown",
   "metadata": {},
   "source": [
    "# One Float\n",
    "\n",
    "Consider a factor graph with one variable $x \\in [0,1]$ and two functions:\n",
    "\n",
    "$$f_1(x) = (x < 1/2) \\qquad f_2(x) = (x \\geq 1/2)$$"
   ]
  },
  {
   "cell_type": "code",
   "execution_count": 1,
   "metadata": {
    "collapsed": false
   },
   "outputs": [
    {
     "name": "stderr",
     "output_type": "stream",
     "text": [
      "WARNING: Method definition show(IO, AutomotiveDrivingModels.BoundingBoxDef) in module AutomotiveDrivingModels at /home/tim/.julia/v0.6/Parameters/src/Parameters.jl:454 overwritten at /home/tim/.julia/v0.6/AutomotiveDrivingModels/src/defs/bounding_box_defs.jl:15.\n",
      "\u001b[1m\u001b[36mINFO: \u001b[39m\u001b[22m\u001b[36mRecompiling stale cache file /home/tim/.julia/lib/v0.6/AutoScenes.ji for module AutoScenes.\n",
      "\u001b[39mWARNING: Method definition show(IO, AutomotiveDrivingModels.BoundingBoxDef) in module AutomotiveDrivingModels at /home/tim/.julia/v0.6/Parameters/src/Parameters.jl:454 overwritten at /home/tim/.julia/v0.6/AutomotiveDrivingModels/src/defs/bounding_box_defs.jl:15.\n",
      "\n",
      "WARNING: deprecated syntax \"typealias Assignment Tuple{Int,Int}\" at /home/tim/.julia/v0.6/AutoScenes/src/utils.jl:76.\n",
      "Use \"const Assignment = Tuple{Int,Int}\" instead.\n",
      "\n",
      "WARNING: deprecated syntax \"typealias Assignments Vector{Tuple{Int,Assignment}}\" at /home/tim/.julia/v0.6/AutoScenes/src/utils.jl:77.\n",
      "Use \"const Assignments = Vector{Tuple{Int,Assignment}}\" instead.\n"
     ]
    }
   ],
   "source": [
    "using AutomotiveDrivingModels\n",
    "using AutoScenes\n",
    "using Base.Test\n",
    "import QuadGK: quadgk"
   ]
  },
  {
   "cell_type": "markdown",
   "metadata": {},
   "source": [
    "### Entity\n",
    "\n",
    "We define our entity as a single float that has no definition, and integer id, and no roadway."
   ]
  },
  {
   "cell_type": "code",
   "execution_count": 2,
   "metadata": {
    "collapsed": false
   },
   "outputs": [],
   "source": [
    "const FloatScene = Frame{Entity{Float64, Void, Int}};"
   ]
  },
  {
   "cell_type": "markdown",
   "metadata": {},
   "source": [
    "The `Vars` type stores a particular instance of the variables for a factor graph.\n",
    "The `Vars` type in AutoScenes is constructed by a `scene` and a `roadway`. We must define this constructor in order automatically generate factor graphs. In this very simple problem we only create a 1-variable factor graph."
   ]
  },
  {
   "cell_type": "code",
   "execution_count": 3,
   "metadata": {
    "collapsed": false
   },
   "outputs": [],
   "source": [
    "function AutoScenes.Vars(scene::FloatScene, roadway::Void)\n",
    "    x = scene[1].state\n",
    "    return Vars(Float64[x], # vector containing the one variable\n",
    "                [StateBounds(-x, 1-x)], # bounds are deltas so we can vary x by this much to remain in [0,1]\n",
    "                [:x], # variable symbol\n",
    "                [1])  # index of entity in the scene\n",
    "end"
   ]
  },
  {
   "cell_type": "markdown",
   "metadata": {},
   "source": [
    "### Features\n",
    "\n",
    "We define each feature - first the extraction functions:"
   ]
  },
  {
   "cell_type": "code",
   "execution_count": 4,
   "metadata": {
    "collapsed": false
   },
   "outputs": [],
   "source": [
    "function f1(\n",
    "    vars::Vars,\n",
    "    assignment::Assignment, # indeces of variables in vars\n",
    "    roadway::Void,\n",
    "    )::Float64\n",
    "\n",
    "    return vars.values[assignment[1]] < 0.5\n",
    "end\n",
    "function f2(\n",
    "    vars::Vars,\n",
    "    assignment::Assignment, # indeces of variables in vars\n",
    "    roadway::Void,\n",
    "    )::Float64\n",
    "\n",
    "    return vars.values[assignment[1]] ≥ 0.5\n",
    "end;"
   ]
  },
  {
   "cell_type": "markdown",
   "metadata": {},
   "source": [
    "We also define an assignment function for each feature which takes a scene and assigns features to the entities within. This is used to construct the factor graph."
   ]
  },
  {
   "cell_type": "code",
   "execution_count": 5,
   "metadata": {
    "collapsed": true
   },
   "outputs": [],
   "source": [
    "function AutoScenes.assign_feature{F <: typeof(f1), Void}(\n",
    "    f::F,\n",
    "    scene::FloatScene,\n",
    "    roadway::Void,\n",
    "    vars::Vars,\n",
    "    )\n",
    "\n",
    "    return Assignment[(1,0)]\n",
    "end\n",
    "function AutoScenes.assign_feature{F <: typeof(f2), Void}(\n",
    "    f::F,\n",
    "    scene::FloatScene,\n",
    "    roadway::Void,\n",
    "    vars::Vars,\n",
    "    )\n",
    "\n",
    "    return Assignment[(1,0)]\n",
    "end;"
   ]
  },
  {
   "cell_type": "markdown",
   "metadata": {},
   "source": [
    "### Concrete tests\n",
    "\n",
    "We now construct our factorgraphs, including a dataset $\\mathcal{D} = \\left\\{0,1/3,3/4,3/4,3/4,1\\right\\}$."
   ]
  },
  {
   "cell_type": "code",
   "execution_count": 6,
   "metadata": {
    "collapsed": false
   },
   "outputs": [],
   "source": [
    "roadway = nothing\n",
    "scenes = [\n",
    "    FloatScene([Entity{Float64,Void,Int}(0.0,roadway,1)], 1),\n",
    "    FloatScene([Entity{Float64,Void,Int}(1/4,roadway,1)], 1),\n",
    "    FloatScene([Entity{Float64,Void,Int}(3/4,roadway,1)], 1),\n",
    "    FloatScene([Entity{Float64,Void,Int}(3/4,roadway,1)], 1),\n",
    "    FloatScene([Entity{Float64,Void,Int}(3/4,roadway,1)], 1),\n",
    "    FloatScene([Entity{Float64,Void,Int}(1.0,roadway,1)], 1),\n",
    "]\n",
    "features = (f1, f2)\n",
    "factorgraphs = [FactorGraph(features, scene, roadway) for scene in scenes];"
   ]
  },
  {
   "cell_type": "markdown",
   "metadata": {},
   "source": [
    "#### Probability\n",
    "\n",
    "Factor graphs represent probability distributions. Let us test various functions.\n",
    "\n",
    "$$p(x) = \\frac{\\tilde{p}(x \\mid -)}{\\tilde{p}(-)} = \\frac{\\exp(\\theta_1 f_1 + \\theta_2 f_2)}{\\int_0^1 \\exp(\\theta_1 f_1 + \\theta_2 f_2) \\> dx} = \\frac{\\exp(\\theta_1 f_1 + \\theta_2 f_2)}{\\frac{1}{2}e^{\\theta_1} + \\frac{1}{2}e^{\\theta_2}} = \\frac{\\exp(\\theta_1 f_1 + \\theta_2 f_2)}{Z}$$"
   ]
  },
  {
   "cell_type": "code",
   "execution_count": 7,
   "metadata": {
    "collapsed": false
   },
   "outputs": [
    {
     "data": {
      "text/plain": [
       "\u001b[1m\u001b[32mTest Passed\n",
       "\u001b[39m\u001b[22m"
      ]
     },
     "execution_count": 7,
     "metadata": {},
     "output_type": "execute_result"
    }
   ],
   "source": [
    "θ = Float64[1,1]\n",
    "Z = exp(θ[1])/2 + exp(θ[2])/2\n",
    "fg = factorgraphs[1]\n",
    "Z′ = ptilde_denom(1, features, θ, fg.vars, fg.assignments, roadway)\n",
    "@test isapprox(Z′, Z, atol=1e-8)"
   ]
  },
  {
   "cell_type": "code",
   "execution_count": 8,
   "metadata": {
    "collapsed": false
   },
   "outputs": [
    {
     "data": {
      "text/plain": [
       "\u001b[1m\u001b[32mTest Passed\n",
       "\u001b[39m\u001b[22m"
      ]
     },
     "execution_count": 8,
     "metadata": {},
     "output_type": "execute_result"
    }
   ],
   "source": [
    "θ = Float64[1/3,2/3]\n",
    "Z = exp(θ[1])/2 + exp(θ[2])/2\n",
    "fg = factorgraphs[1]\n",
    "Z′ = ptilde_denom(1, features, θ, fg.vars, fg.assignments, roadway)\n",
    "@test isapprox(Z′, Z, atol=1e-8)"
   ]
  },
  {
   "cell_type": "code",
   "execution_count": 9,
   "metadata": {
    "collapsed": false
   },
   "outputs": [
    {
     "data": {
      "text/plain": [
       "\u001b[1m\u001b[32mTest Passed\n",
       "\u001b[39m\u001b[22m"
      ]
     },
     "execution_count": 9,
     "metadata": {},
     "output_type": "execute_result"
    }
   ],
   "source": [
    "f1(x::Real) = 1.0*(x < 1/2)\n",
    "f2(x::Real) = 1.0*(x ≥ 1/2)\n",
    "\n",
    "θ = Float64[1,1]\n",
    "Z = exp(θ[1])/2 + exp(θ[2])/2\n",
    "fg = factorgraphs[1]\n",
    "x = fg.vars.values[1]\n",
    "P = exp(θ[1]*f1(x) + θ[2]*f2(x)) / Z\n",
    "P′ = ptilde(features, θ, fg.vars, fg.assignments, roadway) / Z\n",
    "@test isapprox(P′, P, atol=1e-8)"
   ]
  },
  {
   "cell_type": "code",
   "execution_count": 10,
   "metadata": {
    "collapsed": false
   },
   "outputs": [
    {
     "data": {
      "text/plain": [
       "\u001b[1m\u001b[32mTest Passed\n",
       "\u001b[39m\u001b[22m"
      ]
     },
     "execution_count": 10,
     "metadata": {},
     "output_type": "execute_result"
    }
   ],
   "source": [
    "θ = Float64[1/3,2/3]\n",
    "Z = exp(θ[1])/2 + exp(θ[2])/2\n",
    "fg = factorgraphs[1]\n",
    "x = fg.vars.values[1]\n",
    "P = exp(θ[1]*f1(x) + θ[2]*f2(x)) / Z\n",
    "P′ = ptilde(features, θ, fg.vars, fg.assignments, roadway) / Z\n",
    "@test isapprox(P′, P, atol=1e-8)"
   ]
  },
  {
   "cell_type": "markdown",
   "metadata": {},
   "source": [
    "#### pseudolikelihood loss\n",
    "\n",
    "single instance:\n",
    "$$\n",
    "\\ell_\\text{PL}(x) = \\sum_j \\ln p(x_j \\mid x_{-j}) = \\ln p(x) = \\ln \\tilde{p} - \\ln Z = \\begin{cases}\\theta_1 - \\ln Z & \\text{if } x < 1/2 \\\\ \\theta_2 - \\ln Z & \\text{if } x \\geq 1/2 \\end{cases}\n",
    "$$"
   ]
  },
  {
   "cell_type": "code",
   "execution_count": 11,
   "metadata": {
    "collapsed": false
   },
   "outputs": [
    {
     "data": {
      "text/plain": [
       "\u001b[1m\u001b[32mTest Passed\n",
       "\u001b[39m\u001b[22m"
      ]
     },
     "execution_count": 11,
     "metadata": {},
     "output_type": "execute_result"
    }
   ],
   "source": [
    "θ = Float64[1,1]\n",
    "Z = exp(θ[1])/2 + exp(θ[2])/2\n",
    "fg = factorgraphs[1]\n",
    "x = fg.vars.values[1]\n",
    "PL = x < 1/2 ? θ[1] - log(Z) : θ[2] - log(Z)\n",
    "PL′ = log_pseudolikelihood(features, θ, fg)\n",
    "@test isapprox(PL′, PL, atol=1e-8)"
   ]
  },
  {
   "cell_type": "code",
   "execution_count": 12,
   "metadata": {
    "collapsed": false
   },
   "outputs": [
    {
     "data": {
      "text/plain": [
       "\u001b[1m\u001b[32mTest Passed\n",
       "\u001b[39m\u001b[22m"
      ]
     },
     "execution_count": 12,
     "metadata": {},
     "output_type": "execute_result"
    }
   ],
   "source": [
    "fg = factorgraphs[3]\n",
    "x = fg.vars.values[1]\n",
    "PL = x < 1/2 ? θ[1] - log(Z) : θ[2] - log(Z)\n",
    "PL′ = log_pseudolikelihood(features, θ, fg)\n",
    "@test isapprox(PL′, PL, atol=1e-8)"
   ]
  },
  {
   "cell_type": "code",
   "execution_count": 13,
   "metadata": {
    "collapsed": false
   },
   "outputs": [
    {
     "data": {
      "text/plain": [
       "\u001b[1m\u001b[32mTest Passed\n",
       "\u001b[39m\u001b[22m"
      ]
     },
     "execution_count": 13,
     "metadata": {},
     "output_type": "execute_result"
    }
   ],
   "source": [
    "θ = Float64[1/3,2/3]\n",
    "Z = exp(θ[1])/2 + exp(θ[2])/2\n",
    "fg = factorgraphs[1]\n",
    "x = fg.vars.values[1]\n",
    "PL = x < 1/2 ? θ[1] - log(Z) : θ[2] - log(Z)\n",
    "PL′ = log_pseudolikelihood(features, θ, fg)\n",
    "@test isapprox(PL′, PL, atol=1e-8)"
   ]
  },
  {
   "cell_type": "code",
   "execution_count": 14,
   "metadata": {
    "collapsed": false
   },
   "outputs": [
    {
     "data": {
      "text/plain": [
       "\u001b[1m\u001b[32mTest Passed\n",
       "\u001b[39m\u001b[22m"
      ]
     },
     "execution_count": 14,
     "metadata": {},
     "output_type": "execute_result"
    }
   ],
   "source": [
    "fg = factorgraphs[3]\n",
    "x = fg.vars.values[1]\n",
    "PL = x < 1/2 ? θ[1] - log(Z) : θ[2] - log(Z)\n",
    "PL′ = log_pseudolikelihood(features, θ, fg)\n",
    "@test isapprox(PL′, PL, atol=1e-8)"
   ]
  },
  {
   "cell_type": "markdown",
   "metadata": {},
   "source": [
    "full dataset:\n",
    "$$\\ell_\\text{PL}(\\mathcal{D}) = \\sum_m \\ell_\\text{PL}(x^{(m)}) = 2(\\theta_1 - \\ln Z) + 4(\\theta_2 - \\ln Z) = 2\\theta_1+ 4\\theta_2 - 6\\ln Z$$"
   ]
  },
  {
   "cell_type": "code",
   "execution_count": 15,
   "metadata": {
    "collapsed": false
   },
   "outputs": [
    {
     "data": {
      "text/plain": [
       "\u001b[1m\u001b[32mTest Passed\n",
       "\u001b[39m\u001b[22m"
      ]
     },
     "execution_count": 15,
     "metadata": {},
     "output_type": "execute_result"
    }
   ],
   "source": [
    "θ = Float64[1,1]\n",
    "Z = exp(θ[1])/2 + exp(θ[2])/2\n",
    "PL = 2θ[1] + 4θ[2] - 6*log(Z)\n",
    "PL′ = log_pseudolikelihood(features, θ, factorgraphs)\n",
    "@test isapprox(PL′, PL, atol=1e-8)"
   ]
  },
  {
   "cell_type": "code",
   "execution_count": 16,
   "metadata": {
    "collapsed": false
   },
   "outputs": [
    {
     "data": {
      "text/plain": [
       "\u001b[1m\u001b[32mTest Passed\n",
       "\u001b[39m\u001b[22m"
      ]
     },
     "execution_count": 16,
     "metadata": {},
     "output_type": "execute_result"
    }
   ],
   "source": [
    "θ = Float64[1/3,2/3]\n",
    "Z = exp(θ[1])/2 + exp(θ[2])/2\n",
    "PL = 2θ[1] + 4θ[2] - 6*log(Z)\n",
    "PL′ = log_pseudolikelihood(features, θ, factorgraphs)\n",
    "@test isapprox(PL′, PL, atol=1e-8)"
   ]
  },
  {
   "cell_type": "markdown",
   "metadata": {},
   "source": [
    "#### log psuedolikelihood gradient\n",
    "\n",
    "Before we compute the log pseudolikelihood gradient, we first compute the expected value: $\\mathbb{E}_{x_j \\sim p(x_j \\mid x_{-j} ; \\theta)}[f_i(x_j \\mid x_{-j})]$\n",
    "\n",
    "Our network only has one variable, so here it is simply:\n",
    "\n",
    "$$\\mathbb{E}_{x \\sim p(x;\\theta)}[f_i(x)] = \\int_0^1 f_i(x) p_\\theta(x) \\> dx$$\n",
    "\n",
    "For $f_1$ this is:\n",
    "$$\\mathbb{E}_{x \\sim p(x;\\theta)}[f_1(x)] = \\int_0^1 (x < 1/2) p_\\theta(x) \\> dx = \\int_0^{1/2} \\frac{\\exp(\\theta_1 f_1 + \\theta_2 f_2)}{\\frac{1}{2}e^{\\theta_1} + \\frac{1}{2}e^{\\theta_2}} \\> dx = \\int_0^{1/2} \\frac{1}{Z} \\exp(\\theta_1) \\> dx = \\frac{1}{2Z}e^{\\theta_1}$$\n",
    "\n",
    "For $f_2$ this is:\n",
    "$$\\mathbb{E}_{x \\sim p(x;\\theta)}[f_2(x)] = \\frac{1}{2Z}e^{\\theta_2}$$"
   ]
  },
  {
   "cell_type": "code",
   "execution_count": 17,
   "metadata": {
    "collapsed": false
   },
   "outputs": [
    {
     "data": {
      "text/plain": [
       "\u001b[1m\u001b[32mTest Passed\n",
       "\u001b[39m\u001b[22m"
      ]
     },
     "execution_count": 17,
     "metadata": {},
     "output_type": "execute_result"
    }
   ],
   "source": [
    "θ = Float64[1,1]\n",
    "Z = exp(θ[1])/2 + exp(θ[2])/2\n",
    "fg = factorgraphs[1]\n",
    "x = fg.vars.values[1]\n",
    "E1 = exp(θ[1])/(2Z)\n",
    "E1′ = calc_expectation_x_given_other(1, 1, features, θ, fg.vars, fg.assignments, roadway)\n",
    "@test isapprox(E1′, E1, atol=1e-8)\n",
    "E2 = exp(θ[2])/(2Z)\n",
    "E2′ = calc_expectation_x_given_other(2, 1, features, θ, fg.vars, fg.assignments, roadway)\n",
    "@test isapprox(E2′, E2, atol=1e-8)"
   ]
  },
  {
   "cell_type": "code",
   "execution_count": 18,
   "metadata": {
    "collapsed": false
   },
   "outputs": [
    {
     "data": {
      "text/plain": [
       "\u001b[1m\u001b[32mTest Passed\n",
       "\u001b[39m\u001b[22m"
      ]
     },
     "execution_count": 18,
     "metadata": {},
     "output_type": "execute_result"
    }
   ],
   "source": [
    "θ = Float64[1/3,2/3]\n",
    "Z = exp(θ[1])/2 + exp(θ[2])/2\n",
    "fg = factorgraphs[1]\n",
    "x = fg.vars.values[1]\n",
    "E1 = exp(θ[1])/(2Z)\n",
    "E1′ = calc_expectation_x_given_other(1, 1, features, θ, fg.vars, fg.assignments, roadway)\n",
    "@test isapprox(E1′, E1, atol=1e-8)\n",
    "E2 = exp(θ[2])/(2Z)\n",
    "E2′ = calc_expectation_x_given_other(2, 1, features, θ, fg.vars, fg.assignments, roadway)\n",
    "@test isapprox(E2′, E2, atol=1e-8)"
   ]
  },
  {
   "cell_type": "markdown",
   "metadata": {},
   "source": [
    "Next we test the log pseudolikleihood gradient:\n",
    "$$\n",
    "\\frac{\\partial}{\\partial \\theta_i} \\ell_\\text{PL}(\\mathcal{D}) = \\sum_{j : x_j \\in \\text{scope}[f_i]} \\left(\\frac{1}{M}\\sum_m f_i(x_{\\cdot}^{(m)}) - \\mathbb{E}[f_i(x_j' \\mid x_{-j}^{(m)})]\\right)\n",
    "$$\n",
    "\n",
    "For $f_1$ we get:\n",
    "$$\n",
    "    \\frac{\\partial}{\\partial \\theta_1} \\ell_\\text{PL}(\\mathcal{D}) = \\frac{1}{6}\\sum_m \\left(f_1(x^{(m)}) - \\mathbb{E}[f_1(x)]\\right) = \\frac{1}{6}\\left(2-6\\mathbb{E}[f_1(x)]\\right) = \\frac{1}{3} - \\mathbb{E}[f_1(x)] = \\frac{1}{3} - \\frac{1}{2Z}e^{\\theta_1}\n",
    "$$\n",
    "\n",
    "Similarly, for $f_2$ we get:\n",
    "$$\n",
    "\\frac{\\partial}{\\partial \\theta_2} \\ell_\\text{PL}(\\mathcal{D}) = \\frac{2}{3} - \\frac{1}{2Z}e^{\\theta_2}\n",
    "$$"
   ]
  },
  {
   "cell_type": "code",
   "execution_count": 19,
   "metadata": {
    "collapsed": false
   },
   "outputs": [
    {
     "data": {
      "text/plain": [
       "\u001b[1m\u001b[32mTest Passed\n",
       "\u001b[39m\u001b[22m"
      ]
     },
     "execution_count": 19,
     "metadata": {},
     "output_type": "execute_result"
    }
   ],
   "source": [
    "srand(0)\n",
    "θ = Float64[1,1]\n",
    "Z = exp(θ[1])/2 + exp(θ[2])/2\n",
    "∂ = 1/3 - exp(θ[1])/(2Z)\n",
    "∂′ = log_pseudolikelihood_derivative_complete(1, features, θ, factorgraphs)\n",
    "@test isapprox(∂′, ∂, atol=1e-8)"
   ]
  },
  {
   "cell_type": "code",
   "execution_count": 20,
   "metadata": {
    "collapsed": false
   },
   "outputs": [
    {
     "data": {
      "text/plain": [
       "\u001b[1m\u001b[32mTest Passed\n",
       "\u001b[39m\u001b[22m"
      ]
     },
     "execution_count": 20,
     "metadata": {},
     "output_type": "execute_result"
    }
   ],
   "source": [
    "Z = exp(θ[1])/2 + exp(θ[2])/2\n",
    "∂ = 2/3 - exp(θ[2])/(2Z)\n",
    "∂′ = log_pseudolikelihood_derivative_complete(2, features, θ, factorgraphs)\n",
    "@test isapprox(∂′, ∂, atol=1e-8)"
   ]
  },
  {
   "cell_type": "code",
   "execution_count": 21,
   "metadata": {
    "collapsed": false
   },
   "outputs": [
    {
     "data": {
      "text/plain": [
       "\u001b[1m\u001b[32mTest Passed\n",
       "\u001b[39m\u001b[22m"
      ]
     },
     "execution_count": 21,
     "metadata": {},
     "output_type": "execute_result"
    }
   ],
   "source": [
    "θ = Float64[1/3,2/3]\n",
    "Z = exp(θ[1])/2 + exp(θ[2])/2\n",
    "∂ = 1/3 - exp(θ[1])/(2Z)\n",
    "∂′ = log_pseudolikelihood_derivative_complete(1, features, θ, factorgraphs)\n",
    "@test isapprox(∂′, ∂, atol=1e-8)"
   ]
  },
  {
   "cell_type": "code",
   "execution_count": 22,
   "metadata": {
    "collapsed": false
   },
   "outputs": [
    {
     "data": {
      "text/plain": [
       "\u001b[1m\u001b[32mTest Passed\n",
       "\u001b[39m\u001b[22m"
      ]
     },
     "execution_count": 22,
     "metadata": {},
     "output_type": "execute_result"
    }
   ],
   "source": [
    "θ = Float64[1/3,2/3]\n",
    "Z = exp(θ[1])/2 + exp(θ[2])/2\n",
    "∂ = 2/3 - exp(θ[2])/(2Z)\n",
    "∂′ = log_pseudolikelihood_derivative_complete(2, features, θ, factorgraphs)\n",
    "@test isapprox(∂′, ∂, atol=1e-8)"
   ]
  },
  {
   "cell_type": "markdown",
   "metadata": {},
   "source": [
    "We finally compute the full gradient:"
   ]
  },
  {
   "cell_type": "code",
   "execution_count": 23,
   "metadata": {
    "collapsed": false
   },
   "outputs": [
    {
     "data": {
      "text/plain": [
       "\u001b[1m\u001b[32mTest Passed\n",
       "\u001b[39m\u001b[22m"
      ]
     },
     "execution_count": 23,
     "metadata": {},
     "output_type": "execute_result"
    }
   ],
   "source": [
    "θ = Float64[1,1]\n",
    "Z = exp(θ[1])/2 + exp(θ[2])/2\n",
    "∇ = [1/3 - exp(θ[1])/(2Z), 2/3 - exp(θ[2])/(2Z)]\n",
    "∇′ = Array{Float64}(length(θ))\n",
    "log_pseudolikelihood_gradient!(∇′, features, θ, factorgraphs)\n",
    "@test isapprox(∇′[1], ∇[1], atol=1e-8)\n",
    "@test isapprox(∇′[2], ∇[2], atol=1e-8)"
   ]
  },
  {
   "cell_type": "code",
   "execution_count": 24,
   "metadata": {
    "collapsed": false
   },
   "outputs": [
    {
     "data": {
      "text/plain": [
       "\u001b[1m\u001b[32mTest Passed\n",
       "\u001b[39m\u001b[22m"
      ]
     },
     "execution_count": 24,
     "metadata": {},
     "output_type": "execute_result"
    }
   ],
   "source": [
    "θ = Float64[1/3,2/3]\n",
    "Z = exp(θ[1])/2 + exp(θ[2])/2\n",
    "∇ = [1/3 - exp(θ[1])/(2Z), 2/3 - exp(θ[2])/(2Z)]\n",
    "∇′ = Array{Float64}(length(θ))\n",
    "log_pseudolikelihood_gradient!(∇′, features, θ, factorgraphs)\n",
    "@test isapprox(∇′[1], ∇[1], atol=1e-8)\n",
    "@test isapprox(∇′[2], ∇[2], atol=1e-8)"
   ]
  },
  {
   "cell_type": "code",
   "execution_count": null,
   "metadata": {
    "collapsed": true
   },
   "outputs": [],
   "source": []
  }
 ],
 "metadata": {
  "anaconda-cloud": {},
  "kernelspec": {
   "display_name": "Julia 0.6.0",
   "language": "julia",
   "name": "julia-0.6"
  },
  "language_info": {
   "file_extension": ".jl",
   "mimetype": "application/julia",
   "name": "julia",
   "version": "0.6.0"
  },
  "widgets": {
   "state": {},
   "version": "2.0.10"
  }
 },
 "nbformat": 4,
 "nbformat_minor": 2
}
